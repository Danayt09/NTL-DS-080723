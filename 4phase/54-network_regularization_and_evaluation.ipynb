{
 "cells": [
  {
   "cell_type": "markdown",
   "metadata": {
    "heading_collapsed": true,
    "slideshow": {
     "slide_type": "slide"
    }
   },
   "source": [
    "# Regularization and Evaluation of Neural Networks"
   ]
  },
  {
   "cell_type": "markdown",
   "metadata": {
    "hidden": true
   },
   "source": [
    "<a href=\"https://colab.research.google.com/github/flatiron-school/NTL01-DTSC-LIVE-040323/blob/main/4phase/63-network_regularization_and_evaluation.ipynb\" \n",
    "target=\"_parent\"><img src=\"https://colab.research.google.com/assets/colab-badge.svg\" alt=\"Open In Colab\"/></a>"
   ]
  },
  {
   "cell_type": "code",
   "execution_count": 3,
   "metadata": {
    "ExecuteTime": {
     "end_time": "2023-10-16T03:20:10.137492Z",
     "start_time": "2023-10-16T03:20:10.024487Z"
    },
    "hidden": true,
    "scrolled": true
   },
   "outputs": [
    {
     "name": "stdout",
     "output_type": "stream",
     "text": [
      "Collecting scikeras\n",
      "  Obtaining dependency information for scikeras from https://files.pythonhosted.org/packages/5d/fa/9c1967952e7889d698f10ba8b6af79dfaa2e05178d97a79fbd9d1b44e589/scikeras-0.12.0-py3-none-any.whl.metadata\n",
      "  Downloading scikeras-0.12.0-py3-none-any.whl.metadata (4.0 kB)\n",
      "Requirement already satisfied: packaging>=0.21 in /Users/danayt/anaconda3/envs/learn-env/lib/python3.9/site-packages (from scikeras) (23.1)\n",
      "Requirement already satisfied: scikit-learn>=1.0.0 in /Users/danayt/anaconda3/envs/learn-env/lib/python3.9/site-packages (from scikeras) (1.3.1)\n",
      "Collecting tensorflow-metal<2.0.0,>=1.1.0 (from scikeras)\n",
      "  Obtaining dependency information for tensorflow-metal<2.0.0,>=1.1.0 from https://files.pythonhosted.org/packages/55/35/7bc56b25fccae204290c3502555f789f81b504ea6daf9f07a9eed48fdf93/tensorflow_metal-1.1.0-cp39-cp39-macosx_12_0_arm64.whl.metadata\n",
      "  Downloading tensorflow_metal-1.1.0-cp39-cp39-macosx_12_0_arm64.whl.metadata (1.2 kB)\n",
      "Requirement already satisfied: numpy<2.0,>=1.17.3 in /Users/danayt/anaconda3/envs/learn-env/lib/python3.9/site-packages (from scikit-learn>=1.0.0->scikeras) (1.23.2)\n",
      "Requirement already satisfied: scipy>=1.5.0 in /Users/danayt/anaconda3/envs/learn-env/lib/python3.9/site-packages (from scikit-learn>=1.0.0->scikeras) (1.11.1)\n",
      "Requirement already satisfied: joblib>=1.1.1 in /Users/danayt/anaconda3/envs/learn-env/lib/python3.9/site-packages (from scikit-learn>=1.0.0->scikeras) (1.3.0)\n",
      "Requirement already satisfied: threadpoolctl>=2.0.0 in /Users/danayt/anaconda3/envs/learn-env/lib/python3.9/site-packages (from scikit-learn>=1.0.0->scikeras) (3.2.0)\n",
      "Requirement already satisfied: wheel~=0.35 in /Users/danayt/anaconda3/envs/learn-env/lib/python3.9/site-packages (from tensorflow-metal<2.0.0,>=1.1.0->scikeras) (0.41.1)\n",
      "Requirement already satisfied: six>=1.15.0 in /Users/danayt/anaconda3/envs/learn-env/lib/python3.9/site-packages (from tensorflow-metal<2.0.0,>=1.1.0->scikeras) (1.15.0)\n",
      "Downloading scikeras-0.12.0-py3-none-any.whl (27 kB)\n",
      "Downloading tensorflow_metal-1.1.0-cp39-cp39-macosx_12_0_arm64.whl (1.4 MB)\n",
      "\u001b[2K   \u001b[90m━━━━━━━━━━━━━━━━━━━━━━━━━━━━━━━━━━━━━━━━\u001b[0m \u001b[32m1.4/1.4 MB\u001b[0m \u001b[31m3.5 MB/s\u001b[0m eta \u001b[36m0:00:00\u001b[0ma \u001b[36m0:00:01\u001b[0m\n",
      "\u001b[?25hInstalling collected packages: tensorflow-metal, scikeras\n",
      "  Attempting uninstall: tensorflow-metal\n",
      "    Found existing installation: tensorflow-metal 0.5.0\n",
      "    Uninstalling tensorflow-metal-0.5.0:\n",
      "      Successfully uninstalled tensorflow-metal-0.5.0\n",
      "Successfully installed scikeras-0.12.0 tensorflow-metal-1.1.0\n"
     ]
    }
   ],
   "source": [
    "!pip install scikeras\n",
    "from sklearn.datasets import load_sample_images\n",
    "from sklearn.datasets import load_digits\n",
    "from sklearn.model_selection import train_test_split, cross_val_score\n",
    "from sklearn.preprocessing import OneHotEncoder\n",
    "from sklearn.metrics import accuracy_score, confusion_matrix\n",
    "import matplotlib.pyplot as plt\n",
    "import matplotlib.image as mpimg\n",
    "import numpy as np\n",
    "import seaborn as sns\n",
    "\n",
    "\n",
    "from tensorflow.keras.models import Sequential\n",
    "from tensorflow.keras.layers import Dense, Dropout\n",
    "from tensorflow.keras.regularizers import l2\n",
    "from tensorflow.keras.optimizers import SGD\n",
    "from tensorflow.keras.wrappers import scikit_learn\n",
    "from tensorflow.keras.callbacks import EarlyStopping\n",
    "from tensorflow.keras.metrics import Precision\n",
    "\n",
    "from scikeras.wrappers import KerasClassifier\n",
    "\n",
    "import os\n",
    "import sys\n",
    "module_path = os.path.abspath(os.path.join(os.pardir, os.pardir))\n",
    "if module_path not in sys.path:\n",
    "    sys.path.append(module_path)\n",
    "    \n",
    "%load_ext autoreload\n",
    "%autoreload 2"
   ]
  },
  {
   "cell_type": "code",
   "execution_count": null,
   "metadata": {
    "ExecuteTime": {
     "end_time": "2023-10-16T02:54:41.782248Z",
     "start_time": "2023-10-16T02:54:41.673248Z"
    },
    "hidden": true
   },
   "outputs": [],
   "source": [
    "# !pip install scikeras"
   ]
  },
  {
   "cell_type": "code",
   "execution_count": 4,
   "metadata": {
    "ExecuteTime": {
     "end_time": "2023-10-16T03:20:14.203343Z",
     "start_time": "2023-10-16T03:20:14.056343Z"
    },
    "hidden": true
   },
   "outputs": [
    {
     "name": "stdout",
     "output_type": "stream",
     "text": [
      "Num GPUs Available:  1\n"
     ]
    }
   ],
   "source": [
    "import tensorflow as tf\n",
    "print(\"Num GPUs Available: \", len(tf.config.list_physical_devices('GPU')))"
   ]
  },
  {
   "cell_type": "markdown",
   "metadata": {
    "heading_collapsed": true,
    "hidden": true
   },
   "source": [
    "## Learning Objectives\n",
    "\n",
    "- use `keras` to code up a neural network model;\n",
    "- explain dropout and early stopping as distinctive forms of regularization in neural networks;\n",
    "- use wrappers inside `keras` to make models that can jibe with `sklearn`."
   ]
  },
  {
   "cell_type": "markdown",
   "metadata": {
    "heading_collapsed": true,
    "hidden": true
   },
   "source": [
    "### From last time"
   ]
  },
  {
   "cell_type": "code",
   "execution_count": 5,
   "metadata": {
    "ExecuteTime": {
     "end_time": "2023-10-16T02:54:43.259941Z",
     "start_time": "2023-10-16T02:54:43.088110Z"
    },
    "hidden": true
   },
   "outputs": [],
   "source": [
    "digits = load_digits()\n",
    "X = digits.data.astype('float32')\n",
    "y = digits.target.astype('float32')\n",
    "\n",
    "y_binary = y % 2"
   ]
  },
  {
   "cell_type": "code",
   "execution_count": 6,
   "metadata": {
    "ExecuteTime": {
     "end_time": "2023-10-16T02:55:19.645649Z",
     "start_time": "2023-10-16T02:54:43.260913Z"
    },
    "hidden": true
   },
   "outputs": [
    {
     "name": "stderr",
     "output_type": "stream",
     "text": [
      "2023-10-17 15:07:52.142590: I tensorflow/core/common_runtime/pluggable_device/pluggable_device_factory.cc:305] Could not identify NUMA node of platform GPU ID 0, defaulting to 0. Your kernel may not have been built with NUMA support.\n",
      "2023-10-17 15:07:52.143831: I tensorflow/core/common_runtime/pluggable_device/pluggable_device_factory.cc:271] Created TensorFlow device (/job:localhost/replica:0/task:0/device:GPU:0 with 0 MB memory) -> physical PluggableDevice (device: 0, name: METAL, pci bus id: <undefined>)\n"
     ]
    },
    {
     "name": "stdout",
     "output_type": "stream",
     "text": [
      "Metal device set to: Apple M2\n",
      "Epoch 1/50\n"
     ]
    },
    {
     "name": "stderr",
     "output_type": "stream",
     "text": [
      "2023-10-17 15:07:52.943445: W tensorflow/core/platform/profile_utils/cpu_utils.cc:128] Failed to get CPU frequency: 0 Hz\n",
      "2023-10-17 15:07:53.137204: I tensorflow/core/grappler/optimizers/custom_graph_optimizer_registry.cc:113] Plugin optimizer for device_type GPU is enabled.\n"
     ]
    },
    {
     "name": "stdout",
     "output_type": "stream",
     "text": [
      "180/180 [==============================] - 3s 7ms/step - loss: 1.0688 - accuracy: 0.7117\n",
      "Epoch 2/50\n",
      "180/180 [==============================] - 1s 5ms/step - loss: 0.3248 - accuracy: 0.8848\n",
      "Epoch 3/50\n",
      "180/180 [==============================] - 1s 5ms/step - loss: 0.2200 - accuracy: 0.9193\n",
      "Epoch 4/50\n",
      "180/180 [==============================] - 1s 5ms/step - loss: 0.1670 - accuracy: 0.9421\n",
      "Epoch 5/50\n",
      "180/180 [==============================] - 1s 5ms/step - loss: 0.1422 - accuracy: 0.9455\n",
      "Epoch 6/50\n",
      "180/180 [==============================] - 1s 5ms/step - loss: 0.1181 - accuracy: 0.9555\n",
      "Epoch 7/50\n",
      "180/180 [==============================] - 1s 5ms/step - loss: 0.1085 - accuracy: 0.9583\n",
      "Epoch 8/50\n",
      "180/180 [==============================] - 1s 5ms/step - loss: 0.0959 - accuracy: 0.9655\n",
      "Epoch 9/50\n",
      "180/180 [==============================] - 1s 6ms/step - loss: 0.0854 - accuracy: 0.9633\n",
      "Epoch 10/50\n",
      "180/180 [==============================] - 1s 6ms/step - loss: 0.0853 - accuracy: 0.9644\n",
      "Epoch 11/50\n",
      "180/180 [==============================] - 1s 6ms/step - loss: 0.0802 - accuracy: 0.9694\n",
      "Epoch 12/50\n",
      "180/180 [==============================] - 1s 6ms/step - loss: 0.0654 - accuracy: 0.9733\n",
      "Epoch 13/50\n",
      "180/180 [==============================] - 1s 5ms/step - loss: 0.0654 - accuracy: 0.9727\n",
      "Epoch 14/50\n",
      "180/180 [==============================] - 1s 6ms/step - loss: 0.0666 - accuracy: 0.9761\n",
      "Epoch 15/50\n",
      "180/180 [==============================] - 1s 6ms/step - loss: 0.0575 - accuracy: 0.9800\n",
      "Epoch 16/50\n",
      "180/180 [==============================] - 1s 6ms/step - loss: 0.0482 - accuracy: 0.9816\n",
      "Epoch 17/50\n",
      "180/180 [==============================] - 1s 6ms/step - loss: 0.0495 - accuracy: 0.9811\n",
      "Epoch 18/50\n",
      "180/180 [==============================] - 1s 6ms/step - loss: 0.0480 - accuracy: 0.9794\n",
      "Epoch 19/50\n",
      "180/180 [==============================] - 1s 6ms/step - loss: 0.0465 - accuracy: 0.9839\n",
      "Epoch 20/50\n",
      "180/180 [==============================] - 1s 6ms/step - loss: 0.0386 - accuracy: 0.9850\n",
      "Epoch 21/50\n",
      "180/180 [==============================] - 1s 5ms/step - loss: 0.0408 - accuracy: 0.9827\n",
      "Epoch 22/50\n",
      "180/180 [==============================] - 1s 5ms/step - loss: 0.0309 - accuracy: 0.9900\n",
      "Epoch 23/50\n",
      "180/180 [==============================] - 1s 5ms/step - loss: 0.0359 - accuracy: 0.9872\n",
      "Epoch 24/50\n",
      "180/180 [==============================] - 1s 5ms/step - loss: 0.0296 - accuracy: 0.9900\n",
      "Epoch 25/50\n",
      "180/180 [==============================] - 1s 5ms/step - loss: 0.0315 - accuracy: 0.9872\n",
      "Epoch 26/50\n",
      "180/180 [==============================] - 1s 6ms/step - loss: 0.0264 - accuracy: 0.9900\n",
      "Epoch 27/50\n",
      "180/180 [==============================] - 1s 5ms/step - loss: 0.0238 - accuracy: 0.9900\n",
      "Epoch 28/50\n",
      "180/180 [==============================] - 1s 5ms/step - loss: 0.0200 - accuracy: 0.9928\n",
      "Epoch 29/50\n",
      "180/180 [==============================] - 1s 6ms/step - loss: 0.0218 - accuracy: 0.9939\n",
      "Epoch 30/50\n",
      "180/180 [==============================] - 1s 6ms/step - loss: 0.0180 - accuracy: 0.9944\n",
      "Epoch 31/50\n",
      "180/180 [==============================] - 1s 6ms/step - loss: 0.0165 - accuracy: 0.9939\n",
      "Epoch 32/50\n",
      "180/180 [==============================] - 1s 6ms/step - loss: 0.0172 - accuracy: 0.9955\n",
      "Epoch 33/50\n",
      "180/180 [==============================] - 1s 6ms/step - loss: 0.0181 - accuracy: 0.9944\n",
      "Epoch 34/50\n",
      "180/180 [==============================] - 1s 6ms/step - loss: 0.0124 - accuracy: 0.9972\n",
      "Epoch 35/50\n",
      "180/180 [==============================] - 1s 6ms/step - loss: 0.0158 - accuracy: 0.9967\n",
      "Epoch 36/50\n",
      "180/180 [==============================] - 1s 5ms/step - loss: 0.0140 - accuracy: 0.9955\n",
      "Epoch 37/50\n",
      "180/180 [==============================] - 1s 5ms/step - loss: 0.0129 - accuracy: 0.9950\n",
      "Epoch 38/50\n",
      "180/180 [==============================] - 1s 6ms/step - loss: 0.0099 - accuracy: 0.9972\n",
      "Epoch 39/50\n",
      "180/180 [==============================] - 1s 6ms/step - loss: 0.0124 - accuracy: 0.9950\n",
      "Epoch 40/50\n",
      "180/180 [==============================] - 1s 6ms/step - loss: 0.0094 - accuracy: 0.9983\n",
      "Epoch 41/50\n",
      "180/180 [==============================] - 1s 5ms/step - loss: 0.0129 - accuracy: 0.9950\n",
      "Epoch 42/50\n",
      "180/180 [==============================] - 1s 5ms/step - loss: 0.0087 - accuracy: 0.9978\n",
      "Epoch 43/50\n",
      "180/180 [==============================] - 1s 5ms/step - loss: 0.0100 - accuracy: 0.9967\n",
      "Epoch 44/50\n",
      "180/180 [==============================] - 1s 5ms/step - loss: 0.0068 - accuracy: 0.9989\n",
      "Epoch 45/50\n",
      "180/180 [==============================] - 1s 5ms/step - loss: 0.0090 - accuracy: 0.9950\n",
      "Epoch 46/50\n",
      "180/180 [==============================] - 1s 5ms/step - loss: 0.0054 - accuracy: 0.9989\n",
      "Epoch 47/50\n",
      "180/180 [==============================] - 1s 6ms/step - loss: 0.0080 - accuracy: 0.9961\n",
      "Epoch 48/50\n",
      "180/180 [==============================] - 1s 5ms/step - loss: 0.0066 - accuracy: 0.9978\n",
      "Epoch 49/50\n",
      "180/180 [==============================] - 1s 5ms/step - loss: 0.0063 - accuracy: 0.9967\n",
      "Epoch 50/50\n",
      "180/180 [==============================] - 1s 5ms/step - loss: 0.0092 - accuracy: 0.9967\n"
     ]
    },
    {
     "data": {
      "text/plain": [
       "<keras.callbacks.History at 0x1521d34f0>"
      ]
     },
     "execution_count": 6,
     "metadata": {},
     "output_type": "execute_result"
    }
   ],
   "source": [
    "model = Sequential()\n",
    "model.add(Dense(12, activation='relu', input_dim=64))\n",
    "model.add(Dense(8, activation='relu'))\n",
    "model.add(Dense(1, activation='sigmoid'))\n",
    "\n",
    "model.compile(optimizer='rmsprop',\n",
    "              loss='binary_crossentropy',\n",
    "              metrics=['accuracy'])\n",
    "\n",
    "model.fit(X, y_binary, epochs=50, batch_size=10)"
   ]
  },
  {
   "cell_type": "markdown",
   "metadata": {
    "heading_collapsed": true,
    "hidden": true
   },
   "source": [
    "### Things to know:"
   ]
  },
  {
   "cell_type": "markdown",
   "metadata": {
    "hidden": true
   },
   "source": [
    "- The data and labels in `fit()` need to be numpy arrays, not `pandas` dfs.\n",
    "- Scaling your data will have a large impact on your model.\n",
    "   > For our traditional input features, we would use a scaler object. For images, as long as the minimum value is 0, we can simply divide through by the maximum pixel intensity."
   ]
  },
  {
   "cell_type": "markdown",
   "metadata": {
    "heading_collapsed": true,
    "hidden": true
   },
   "source": [
    "#### Getting data ready for modeling"
   ]
  },
  {
   "cell_type": "markdown",
   "metadata": {
    "hidden": true
   },
   "source": [
    "**Preprocessing**:\n",
    "\n",
    "- use train_test_split to create X_train, y_train, X_test, and y_test\n",
    "- Split training data into pure_train and validation sets.\n",
    "- Scale the pixel intensity to a value between 0 and 1."
   ]
  },
  {
   "cell_type": "markdown",
   "metadata": {
    "hidden": true
   },
   "source": [
    "Scaling our input variables will help speed up our neural network.\n",
    "\n",
    "Since our minimum intensity is 0, we can normalize the inputs by dividing each value by the max value (16)."
   ]
  },
  {
   "cell_type": "code",
   "execution_count": 7,
   "metadata": {
    "ExecuteTime": {
     "end_time": "2023-10-16T02:55:19.772650Z",
     "start_time": "2023-10-16T02:55:19.646650Z"
    },
    "hidden": true
   },
   "outputs": [],
   "source": [
    "X_train, X_test, y_train, y_test =\\\n",
    "    train_test_split(X, y_binary, random_state=42, test_size=0.2)\n",
    "\n",
    "X_pure_train, X_val, y_pure_train, y_val =\\\n",
    "    train_test_split(X_train, y_train, random_state=42, test_size=0.2)\n",
    "\n",
    "X_pure_train, X_val, X_test = X_pure_train/16, X_val/16, X_test/16"
   ]
  },
  {
   "cell_type": "markdown",
   "metadata": {
    "hidden": true
   },
   "source": [
    "For activation, let's start with the familiar sigmoid function, and see how it performs."
   ]
  },
  {
   "cell_type": "code",
   "execution_count": 8,
   "metadata": {
    "ExecuteTime": {
     "end_time": "2023-10-16T02:55:20.719649Z",
     "start_time": "2023-10-16T02:55:19.773650Z"
    },
    "hidden": true
   },
   "outputs": [
    {
     "name": "stdout",
     "output_type": "stream",
     "text": [
      "Epoch 1/10\n"
     ]
    },
    {
     "name": "stderr",
     "output_type": "stream",
     "text": [
      "2023-10-17 15:15:26.094217: I tensorflow/core/grappler/optimizers/custom_graph_optimizer_registry.cc:113] Plugin optimizer for device_type GPU is enabled.\n"
     ]
    },
    {
     "name": "stdout",
     "output_type": "stream",
     "text": [
      "12/12 [==============================] - 1s 12ms/step - loss: 0.7338 - accuracy: 0.4961\n",
      "Epoch 2/10\n",
      "12/12 [==============================] - 0s 5ms/step - loss: 0.7254 - accuracy: 0.4961\n",
      "Epoch 3/10\n",
      "12/12 [==============================] - 0s 5ms/step - loss: 0.7190 - accuracy: 0.4961\n",
      "Epoch 4/10\n",
      "12/12 [==============================] - 0s 6ms/step - loss: 0.7140 - accuracy: 0.4961\n",
      "Epoch 5/10\n",
      "12/12 [==============================] - 0s 5ms/step - loss: 0.7098 - accuracy: 0.4961\n",
      "Epoch 6/10\n",
      "12/12 [==============================] - 0s 5ms/step - loss: 0.7065 - accuracy: 0.4961\n",
      "Epoch 7/10\n",
      "12/12 [==============================] - 0s 4ms/step - loss: 0.7041 - accuracy: 0.4961\n",
      "Epoch 8/10\n",
      "12/12 [==============================] - 0s 5ms/step - loss: 0.7020 - accuracy: 0.4961\n",
      "Epoch 9/10\n",
      "12/12 [==============================] - 0s 5ms/step - loss: 0.7003 - accuracy: 0.4961\n",
      "Epoch 10/10\n",
      "12/12 [==============================] - 0s 5ms/step - loss: 0.6991 - accuracy: 0.4961\n"
     ]
    }
   ],
   "source": [
    "model = Sequential()\n",
    "# We will start with our trusty sigmoid function.\n",
    "# What does input dimension correspond to?\n",
    "model.add(Dense(12, activation='sigmoid', input_dim=64))\n",
    "model.add(Dense(8, activation='sigmoid'))\n",
    "model.add(Dense(1, activation='sigmoid'))\n",
    "\n",
    "model.compile(optimizer='SGD' ,\n",
    "              # We use binary_crossentropy for a binary loss function\n",
    "              loss='binary_crossentropy',\n",
    "              metrics=['accuracy'])\n",
    "\n",
    "# Assign the variable history to store the results,\n",
    "# and set verbose=1 so we can see the output. To see\n",
    "# only the metrics at the end of each epoch, set verbose=2.\n",
    "results = model.fit(X_pure_train, y_pure_train, epochs=10, batch_size=100, verbose=1)"
   ]
  },
  {
   "cell_type": "markdown",
   "metadata": {
    "hidden": true
   },
   "source": [
    "We can access the history of our model via `results.history`.\n",
    "Use __dict__ to take a tour."
   ]
  },
  {
   "cell_type": "code",
   "execution_count": 9,
   "metadata": {
    "ExecuteTime": {
     "end_time": "2023-10-16T02:55:20.844649Z",
     "start_time": "2023-10-16T02:55:20.720649Z"
    },
    "hidden": true
   },
   "outputs": [
    {
     "data": {
      "text/plain": [
       "{'validation_data': None,\n",
       " 'model': <keras.engine.sequential.Sequential at 0x137b9d910>,\n",
       " '_chief_worker_only': None,\n",
       " '_supports_tf_logs': False,\n",
       " 'history': {'loss': [0.7338055372238159,\n",
       "   0.7254490852355957,\n",
       "   0.7189772725105286,\n",
       "   0.7139513492584229,\n",
       "   0.7098022699356079,\n",
       "   0.7065046429634094,\n",
       "   0.7040924429893494,\n",
       "   0.7019917964935303,\n",
       "   0.7003151774406433,\n",
       "   0.699144721031189],\n",
       "  'accuracy': [0.4960835576057434,\n",
       "   0.4960835576057434,\n",
       "   0.4960835576057434,\n",
       "   0.4960835576057434,\n",
       "   0.4960835576057434,\n",
       "   0.4960835576057434,\n",
       "   0.4960835576057434,\n",
       "   0.4960835576057434,\n",
       "   0.4960835576057434,\n",
       "   0.4960835576057434]},\n",
       " 'params': {'verbose': 1, 'epochs': 10, 'steps': 12},\n",
       " 'epoch': [0, 1, 2, 3, 4, 5, 6, 7, 8, 9]}"
      ]
     },
     "execution_count": 9,
     "metadata": {},
     "output_type": "execute_result"
    }
   ],
   "source": [
    "results.__dict__"
   ]
  },
  {
   "cell_type": "code",
   "execution_count": 10,
   "metadata": {
    "ExecuteTime": {
     "end_time": "2023-10-16T02:55:21.221650Z",
     "start_time": "2023-10-16T02:55:20.847652Z"
    },
    "hidden": true
   },
   "outputs": [
    {
     "data": {
      "image/png": "[encoded data removed]",
      "text/plain": [
       "<Figure size 1000x500 with 2 Axes>"
      ]
     },
     "metadata": {},
     "output_type": "display_data"
    }
   ],
   "source": [
    "sigmoid_loss = results.history['loss']\n",
    "sigmoid_accuracy = results.history['accuracy']\n",
    "\n",
    "fig, (ax1, ax2) = plt.subplots(1, 2, figsize=(10, 5))\n",
    "sns.lineplot(x=results.epoch, y=sigmoid_loss, ax=ax1, label='loss')\n",
    "sns.lineplot(x=results.epoch, y=sigmoid_accuracy, ax=ax2, label='accuracy');"
   ]
  },
  {
   "cell_type": "markdown",
   "metadata": {
    "hidden": true
   },
   "source": [
    "We have two plots above both relating to the quality of our model.  The left-hand plot is our loss. It uses the probabilities associated with our predictions to judge how well our prediction fits reality. We want it to decrease as far as possible.\n",
    "\n",
    "The accuracy judges how well the predictions are after applying the threshold at the output layer.  We want accuracy to increase."
   ]
  },
  {
   "cell_type": "markdown",
   "metadata": {
    "hidden": true
   },
   "source": [
    "If we look at our loss, it is still decreasing. That is a signal that our model is **still learning**. If our model is still learning, we can allow it to get better by turning a few dials.\n",
    "\n",
    "Let's:\n",
    "- increase the number of epochs;\n",
    "- change sigmoid activation in the hidden layers to ReLU; and\n",
    "- decrease the batch size."
   ]
  },
  {
   "cell_type": "code",
   "execution_count": 11,
   "metadata": {
    "ExecuteTime": {
     "end_time": "2023-10-16T02:55:21.332682Z",
     "start_time": "2023-10-16T02:55:21.222650Z"
    },
    "hidden": true
   },
   "outputs": [
    {
     "data": {
      "text/plain": [
       "1149"
      ]
     },
     "execution_count": 11,
     "metadata": {},
     "output_type": "execute_result"
    }
   ],
   "source": [
    "X_pure_train.shape[0]"
   ]
  },
  {
   "cell_type": "code",
   "execution_count": 12,
   "metadata": {
    "ExecuteTime": {
     "end_time": "2023-10-16T02:55:32.157654Z",
     "start_time": "2023-10-16T02:55:21.333650Z"
    },
    "hidden": true
   },
   "outputs": [
    {
     "name": "stdout",
     "output_type": "stream",
     "text": [
      "Epoch 1/100\n",
      " 1/36 [..............................] - ETA: 8s - loss: 0.7505 - accuracy: 0.4688"
     ]
    },
    {
     "name": "stderr",
     "output_type": "stream",
     "text": [
      "2023-10-17 15:17:38.760591: I tensorflow/core/grappler/optimizers/custom_graph_optimizer_registry.cc:113] Plugin optimizer for device_type GPU is enabled.\n"
     ]
    },
    {
     "name": "stdout",
     "output_type": "stream",
     "text": [
      "36/36 [==============================] - 0s 7ms/step - loss: 0.7028 - accuracy: 0.5013\n",
      "Epoch 2/100\n",
      "36/36 [==============================] - 0s 5ms/step - loss: 0.6520 - accuracy: 0.6249\n",
      "Epoch 3/100\n",
      "36/36 [==============================] - 0s 5ms/step - loss: 0.6280 - accuracy: 0.7111\n",
      "Epoch 4/100\n",
      "36/36 [==============================] - 0s 5ms/step - loss: 0.6048 - accuracy: 0.7224\n",
      "Epoch 5/100\n",
      "36/36 [==============================] - 0s 5ms/step - loss: 0.5806 - accuracy: 0.7441\n",
      "Epoch 6/100\n",
      "36/36 [==============================] - 0s 4ms/step - loss: 0.5550 - accuracy: 0.7607\n",
      "Epoch 7/100\n",
      "36/36 [==============================] - 0s 4ms/step - loss: 0.5293 - accuracy: 0.7720\n",
      "Epoch 8/100\n",
      "36/36 [==============================] - 0s 4ms/step - loss: 0.5038 - accuracy: 0.7876\n",
      "Epoch 9/100\n",
      "36/36 [==============================] - 0s 5ms/step - loss: 0.4793 - accuracy: 0.7998\n",
      "Epoch 10/100\n",
      "36/36 [==============================] - 0s 4ms/step - loss: 0.4560 - accuracy: 0.8077\n",
      "Epoch 11/100\n",
      "36/36 [==============================] - 0s 4ms/step - loss: 0.4341 - accuracy: 0.8138\n",
      "Epoch 12/100\n",
      "36/36 [==============================] - 0s 4ms/step - loss: 0.4135 - accuracy: 0.8320\n",
      "Epoch 13/100\n",
      "36/36 [==============================] - 0s 4ms/step - loss: 0.3963 - accuracy: 0.8416\n",
      "Epoch 14/100\n",
      "36/36 [==============================] - 0s 5ms/step - loss: 0.3796 - accuracy: 0.8460\n",
      "Epoch 15/100\n",
      "36/36 [==============================] - 0s 5ms/step - loss: 0.3641 - accuracy: 0.8512\n",
      "Epoch 16/100\n",
      "36/36 [==============================] - 0s 5ms/step - loss: 0.3510 - accuracy: 0.8625\n",
      "Epoch 17/100\n",
      "36/36 [==============================] - 0s 5ms/step - loss: 0.3391 - accuracy: 0.8634\n",
      "Epoch 18/100\n",
      "36/36 [==============================] - 0s 5ms/step - loss: 0.3274 - accuracy: 0.8668\n",
      "Epoch 19/100\n",
      "36/36 [==============================] - 0s 4ms/step - loss: 0.3183 - accuracy: 0.8677\n",
      "Epoch 20/100\n",
      "36/36 [==============================] - 0s 5ms/step - loss: 0.3079 - accuracy: 0.8712\n",
      "Epoch 21/100\n",
      "36/36 [==============================] - 0s 4ms/step - loss: 0.2990 - accuracy: 0.8808\n",
      "Epoch 22/100\n",
      "36/36 [==============================] - 0s 4ms/step - loss: 0.2922 - accuracy: 0.8773\n",
      "Epoch 23/100\n",
      "36/36 [==============================] - 0s 4ms/step - loss: 0.2847 - accuracy: 0.8860\n",
      "Epoch 24/100\n",
      "36/36 [==============================] - 0s 5ms/step - loss: 0.2785 - accuracy: 0.8842\n",
      "Epoch 25/100\n",
      "36/36 [==============================] - 0s 4ms/step - loss: 0.2714 - accuracy: 0.8886\n",
      "Epoch 26/100\n",
      "36/36 [==============================] - 0s 5ms/step - loss: 0.2662 - accuracy: 0.8895\n",
      "Epoch 27/100\n",
      "36/36 [==============================] - 0s 5ms/step - loss: 0.2605 - accuracy: 0.8921\n",
      "Epoch 28/100\n",
      "36/36 [==============================] - 0s 4ms/step - loss: 0.2555 - accuracy: 0.8964\n",
      "Epoch 29/100\n",
      "36/36 [==============================] - 0s 5ms/step - loss: 0.2507 - accuracy: 0.8956\n",
      "Epoch 30/100\n",
      "36/36 [==============================] - 0s 5ms/step - loss: 0.2459 - accuracy: 0.8982\n",
      "Epoch 31/100\n",
      "36/36 [==============================] - 0s 5ms/step - loss: 0.2425 - accuracy: 0.8964\n",
      "Epoch 32/100\n",
      "36/36 [==============================] - 0s 5ms/step - loss: 0.2374 - accuracy: 0.8973\n",
      "Epoch 33/100\n",
      "36/36 [==============================] - 0s 4ms/step - loss: 0.2341 - accuracy: 0.9060\n",
      "Epoch 34/100\n",
      "36/36 [==============================] - 0s 5ms/step - loss: 0.2309 - accuracy: 0.9034\n",
      "Epoch 35/100\n",
      "36/36 [==============================] - 0s 5ms/step - loss: 0.2267 - accuracy: 0.9043\n",
      "Epoch 36/100\n",
      "36/36 [==============================] - 0s 6ms/step - loss: 0.2229 - accuracy: 0.9043\n",
      "Epoch 37/100\n",
      "36/36 [==============================] - 0s 5ms/step - loss: 0.2189 - accuracy: 0.9051\n",
      "Epoch 38/100\n",
      "36/36 [==============================] - 0s 5ms/step - loss: 0.2160 - accuracy: 0.9086\n",
      "Epoch 39/100\n",
      "36/36 [==============================] - 0s 5ms/step - loss: 0.2125 - accuracy: 0.9112\n",
      "Epoch 40/100\n",
      "36/36 [==============================] - 0s 5ms/step - loss: 0.2098 - accuracy: 0.9121\n",
      "Epoch 41/100\n",
      "36/36 [==============================] - 0s 4ms/step - loss: 0.2061 - accuracy: 0.9130\n",
      "Epoch 42/100\n",
      "36/36 [==============================] - 0s 4ms/step - loss: 0.2017 - accuracy: 0.9156\n",
      "Epoch 43/100\n",
      "36/36 [==============================] - 0s 4ms/step - loss: 0.2000 - accuracy: 0.9147\n",
      "Epoch 44/100\n",
      "36/36 [==============================] - 0s 5ms/step - loss: 0.1972 - accuracy: 0.9156\n",
      "Epoch 45/100\n",
      "36/36 [==============================] - 0s 5ms/step - loss: 0.1944 - accuracy: 0.9173\n",
      "Epoch 46/100\n",
      "36/36 [==============================] - 0s 5ms/step - loss: 0.1916 - accuracy: 0.9217\n",
      "Epoch 47/100\n",
      "36/36 [==============================] - 0s 5ms/step - loss: 0.1888 - accuracy: 0.9182\n",
      "Epoch 48/100\n",
      "36/36 [==============================] - 0s 5ms/step - loss: 0.1868 - accuracy: 0.9164\n",
      "Epoch 49/100\n",
      "36/36 [==============================] - 0s 5ms/step - loss: 0.1842 - accuracy: 0.9191\n",
      "Epoch 50/100\n",
      "36/36 [==============================] - 0s 5ms/step - loss: 0.1818 - accuracy: 0.9225\n",
      "Epoch 51/100\n",
      "36/36 [==============================] - 0s 5ms/step - loss: 0.1781 - accuracy: 0.9199\n",
      "Epoch 52/100\n",
      "36/36 [==============================] - 0s 5ms/step - loss: 0.1789 - accuracy: 0.9199\n",
      "Epoch 53/100\n",
      "36/36 [==============================] - 0s 4ms/step - loss: 0.1757 - accuracy: 0.9243\n",
      "Epoch 54/100\n",
      "36/36 [==============================] - 0s 5ms/step - loss: 0.1738 - accuracy: 0.9252\n",
      "Epoch 55/100\n",
      "36/36 [==============================] - 0s 4ms/step - loss: 0.1712 - accuracy: 0.9252\n",
      "Epoch 56/100\n",
      "36/36 [==============================] - 0s 4ms/step - loss: 0.1701 - accuracy: 0.9252\n",
      "Epoch 57/100\n",
      "36/36 [==============================] - 0s 4ms/step - loss: 0.1673 - accuracy: 0.9312\n",
      "Epoch 58/100\n",
      "36/36 [==============================] - 0s 4ms/step - loss: 0.1649 - accuracy: 0.9347\n",
      "Epoch 59/100\n",
      "36/36 [==============================] - 0s 5ms/step - loss: 0.1640 - accuracy: 0.9356\n",
      "Epoch 60/100\n",
      "36/36 [==============================] - 0s 5ms/step - loss: 0.1620 - accuracy: 0.9347\n",
      "Epoch 61/100\n",
      "36/36 [==============================] - 0s 5ms/step - loss: 0.1603 - accuracy: 0.9373\n",
      "Epoch 62/100\n",
      "36/36 [==============================] - 0s 5ms/step - loss: 0.1581 - accuracy: 0.9330\n",
      "Epoch 63/100\n",
      "36/36 [==============================] - 0s 5ms/step - loss: 0.1574 - accuracy: 0.9347\n",
      "Epoch 64/100\n",
      "36/36 [==============================] - 0s 5ms/step - loss: 0.1560 - accuracy: 0.9347\n",
      "Epoch 65/100\n",
      "36/36 [==============================] - 0s 5ms/step - loss: 0.1538 - accuracy: 0.9391\n",
      "Epoch 66/100\n",
      "36/36 [==============================] - 0s 5ms/step - loss: 0.1514 - accuracy: 0.9373\n",
      "Epoch 67/100\n",
      "36/36 [==============================] - 0s 5ms/step - loss: 0.1508 - accuracy: 0.9399\n",
      "Epoch 68/100\n",
      "36/36 [==============================] - 0s 4ms/step - loss: 0.1498 - accuracy: 0.9391\n",
      "Epoch 69/100\n",
      "36/36 [==============================] - 0s 5ms/step - loss: 0.1473 - accuracy: 0.9434\n",
      "Epoch 70/100\n",
      "36/36 [==============================] - 0s 5ms/step - loss: 0.1464 - accuracy: 0.9391\n",
      "Epoch 71/100\n",
      "36/36 [==============================] - 0s 5ms/step - loss: 0.1444 - accuracy: 0.9399\n",
      "Epoch 72/100\n",
      "36/36 [==============================] - 0s 5ms/step - loss: 0.1438 - accuracy: 0.9443\n",
      "Epoch 73/100\n",
      "36/36 [==============================] - 0s 5ms/step - loss: 0.1421 - accuracy: 0.9443\n",
      "Epoch 74/100\n",
      "36/36 [==============================] - 0s 5ms/step - loss: 0.1407 - accuracy: 0.9434\n",
      "Epoch 75/100\n",
      "36/36 [==============================] - 0s 4ms/step - loss: 0.1400 - accuracy: 0.9478\n",
      "Epoch 76/100\n",
      "36/36 [==============================] - 0s 4ms/step - loss: 0.1380 - accuracy: 0.9469\n",
      "Epoch 77/100\n",
      "36/36 [==============================] - 0s 5ms/step - loss: 0.1377 - accuracy: 0.9443\n",
      "Epoch 78/100\n",
      "36/36 [==============================] - 0s 4ms/step - loss: 0.1345 - accuracy: 0.9487\n",
      "Epoch 79/100\n",
      "36/36 [==============================] - 0s 4ms/step - loss: 0.1336 - accuracy: 0.9478\n",
      "Epoch 80/100\n",
      "36/36 [==============================] - 0s 5ms/step - loss: 0.1329 - accuracy: 0.9478\n",
      "Epoch 81/100\n",
      "36/36 [==============================] - 0s 5ms/step - loss: 0.1303 - accuracy: 0.9513\n",
      "Epoch 82/100\n",
      "36/36 [==============================] - 0s 5ms/step - loss: 0.1303 - accuracy: 0.9487\n",
      "Epoch 83/100\n",
      "36/36 [==============================] - 0s 4ms/step - loss: 0.1293 - accuracy: 0.9452\n",
      "Epoch 84/100\n",
      "36/36 [==============================] - 0s 5ms/step - loss: 0.1286 - accuracy: 0.9521\n",
      "Epoch 85/100\n",
      "36/36 [==============================] - 0s 5ms/step - loss: 0.1264 - accuracy: 0.9521\n",
      "Epoch 86/100\n",
      "36/36 [==============================] - 0s 4ms/step - loss: 0.1251 - accuracy: 0.9521\n",
      "Epoch 87/100\n",
      "36/36 [==============================] - 0s 4ms/step - loss: 0.1253 - accuracy: 0.9504\n",
      "Epoch 88/100\n",
      "36/36 [==============================] - 0s 5ms/step - loss: 0.1236 - accuracy: 0.9504\n",
      "Epoch 89/100\n",
      "36/36 [==============================] - 0s 5ms/step - loss: 0.1230 - accuracy: 0.9513\n",
      "Epoch 90/100\n",
      "36/36 [==============================] - 0s 5ms/step - loss: 0.1222 - accuracy: 0.9539\n",
      "Epoch 91/100\n",
      "36/36 [==============================] - 0s 5ms/step - loss: 0.1199 - accuracy: 0.9539\n",
      "Epoch 92/100\n",
      "36/36 [==============================] - 0s 5ms/step - loss: 0.1191 - accuracy: 0.9556\n",
      "Epoch 93/100\n",
      "36/36 [==============================] - 0s 4ms/step - loss: 0.1190 - accuracy: 0.9530\n",
      "Epoch 94/100\n",
      "36/36 [==============================] - 0s 4ms/step - loss: 0.1170 - accuracy: 0.9556\n",
      "Epoch 95/100\n",
      "36/36 [==============================] - 0s 5ms/step - loss: 0.1173 - accuracy: 0.9547\n",
      "Epoch 96/100\n",
      "36/36 [==============================] - 0s 5ms/step - loss: 0.1157 - accuracy: 0.9565\n",
      "Epoch 97/100\n",
      "36/36 [==============================] - 0s 5ms/step - loss: 0.1153 - accuracy: 0.9574\n",
      "Epoch 98/100\n",
      "36/36 [==============================] - 0s 4ms/step - loss: 0.1139 - accuracy: 0.9600\n",
      "Epoch 99/100\n",
      "36/36 [==============================] - 0s 4ms/step - loss: 0.1120 - accuracy: 0.9591\n",
      "Epoch 100/100\n",
      "36/36 [==============================] - 0s 5ms/step - loss: 0.1125 - accuracy: 0.9556\n"
     ]
    }
   ],
   "source": [
    "model = Sequential()\n",
    "model.add(Dense(12, activation='relu', input_dim=64))\n",
    "model.add(Dense(8, activation='relu'))\n",
    "model.add(Dense(1, activation='sigmoid'))\n",
    "\n",
    "model.compile(optimizer='SGD',\n",
    "              loss='binary_crossentropy',\n",
    "              metrics=['accuracy'])\n",
    "\n",
    "# Assign the variable history to store the results,\n",
    "# and set verbose=1 so we can see the output.\n",
    "results = model.fit(X_pure_train, y_pure_train, epochs=100, batch_size=None, verbose=1)"
   ]
  },
  {
   "cell_type": "code",
   "execution_count": 13,
   "metadata": {
    "ExecuteTime": {
     "end_time": "2023-10-16T02:55:32.488681Z",
     "start_time": "2023-10-16T02:55:32.158650Z"
    },
    "hidden": true
   },
   "outputs": [
    {
     "data": {
      "image/png": "[encoded data removed]",
      "text/plain": [
       "<Figure size 1000x500 with 2 Axes>"
      ]
     },
     "metadata": {},
     "output_type": "display_data"
    }
   ],
   "source": [
    "sigmoid_loss = results.history['loss']\n",
    "sigmoid_accuracy = results.history['accuracy']\n",
    "\n",
    "fig, (ax1, ax2) = plt.subplots(1, 2, figsize=(10, 5))\n",
    "sns.lineplot(x=results.epoch, y=sigmoid_loss, ax=ax1, label='loss')\n",
    "sns.lineplot(x=results.epoch, y=sigmoid_accuracy, ax=ax2, label='accuracy');"
   ]
  },
  {
   "cell_type": "markdown",
   "metadata": {
    "hidden": true
   },
   "source": [
    "If we increase the learning rate to a very high number, we see that our model overshoots the minimum, and starts bouncing all around."
   ]
  },
  {
   "cell_type": "code",
   "execution_count": 14,
   "metadata": {
    "ExecuteTime": {
     "end_time": "2023-10-16T02:55:43.538650Z",
     "start_time": "2023-10-16T02:55:32.489650Z"
    },
    "hidden": true
   },
   "outputs": [
    {
     "name": "stdout",
     "output_type": "stream",
     "text": [
      "Epoch 1/30\n",
      "  1/115 [..............................] - ETA: 32s - loss: 0.6751 - accuracy: 0.6000"
     ]
    },
    {
     "name": "stderr",
     "output_type": "stream",
     "text": [
      "2023-10-17 15:18:19.730394: I tensorflow/core/grappler/optimizers/custom_graph_optimizer_registry.cc:113] Plugin optimizer for device_type GPU is enabled.\n"
     ]
    },
    {
     "name": "stdout",
     "output_type": "stream",
     "text": [
      "115/115 [==============================] - 1s 8ms/step - loss: 2.1651 - accuracy: 0.5170\n",
      "Epoch 2/30\n",
      "115/115 [==============================] - 1s 8ms/step - loss: 1.0341 - accuracy: 0.4839\n",
      "Epoch 3/30\n",
      "115/115 [==============================] - 1s 6ms/step - loss: 0.9745 - accuracy: 0.5135\n",
      "Epoch 4/30\n",
      "115/115 [==============================] - 1s 5ms/step - loss: 1.0162 - accuracy: 0.4952\n",
      "Epoch 5/30\n",
      "115/115 [==============================] - 1s 5ms/step - loss: 1.1221 - accuracy: 0.4752\n",
      "Epoch 6/30\n",
      "115/115 [==============================] - 1s 5ms/step - loss: 0.9850 - accuracy: 0.4978\n",
      "Epoch 7/30\n",
      "115/115 [==============================] - 1s 5ms/step - loss: 0.9965 - accuracy: 0.4900\n",
      "Epoch 8/30\n",
      "115/115 [==============================] - 1s 5ms/step - loss: 0.9813 - accuracy: 0.4943\n",
      "Epoch 9/30\n",
      "115/115 [==============================] - 1s 5ms/step - loss: 0.9443 - accuracy: 0.5074\n",
      "Epoch 10/30\n",
      "115/115 [==============================] - 1s 5ms/step - loss: 0.9709 - accuracy: 0.5109\n",
      "Epoch 11/30\n",
      "115/115 [==============================] - 1s 5ms/step - loss: 0.9502 - accuracy: 0.5083\n",
      "Epoch 12/30\n",
      "115/115 [==============================] - 1s 5ms/step - loss: 1.0422 - accuracy: 0.4987\n",
      "Epoch 13/30\n",
      "115/115 [==============================] - 1s 5ms/step - loss: 1.0451 - accuracy: 0.4865\n",
      "Epoch 14/30\n",
      "115/115 [==============================] - 1s 4ms/step - loss: 1.0447 - accuracy: 0.5091\n",
      "Epoch 15/30\n",
      "115/115 [==============================] - 1s 4ms/step - loss: 1.0687 - accuracy: 0.4804\n",
      "Epoch 16/30\n",
      "115/115 [==============================] - 1s 4ms/step - loss: 0.9937 - accuracy: 0.5013\n",
      "Epoch 17/30\n",
      "115/115 [==============================] - 1s 5ms/step - loss: 0.9967 - accuracy: 0.5083\n",
      "Epoch 18/30\n",
      "115/115 [==============================] - 1s 5ms/step - loss: 0.9393 - accuracy: 0.5144\n",
      "Epoch 19/30\n",
      "115/115 [==============================] - 1s 5ms/step - loss: 1.0663 - accuracy: 0.4787\n",
      "Epoch 20/30\n",
      "115/115 [==============================] - 1s 5ms/step - loss: 0.9741 - accuracy: 0.4952\n",
      "Epoch 21/30\n",
      "115/115 [==============================] - 1s 5ms/step - loss: 1.0103 - accuracy: 0.4935\n",
      "Epoch 22/30\n",
      "115/115 [==============================] - 1s 4ms/step - loss: 0.9862 - accuracy: 0.5030\n",
      "Epoch 23/30\n",
      "115/115 [==============================] - 1s 5ms/step - loss: 1.0042 - accuracy: 0.4935\n",
      "Epoch 24/30\n",
      "115/115 [==============================] - 1s 4ms/step - loss: 1.0242 - accuracy: 0.4891\n",
      "Epoch 25/30\n",
      "115/115 [==============================] - 1s 4ms/step - loss: 0.9910 - accuracy: 0.4900\n",
      "Epoch 26/30\n",
      "115/115 [==============================] - 1s 5ms/step - loss: 1.0027 - accuracy: 0.5100\n",
      "Epoch 27/30\n",
      "115/115 [==============================] - 1s 5ms/step - loss: 0.9902 - accuracy: 0.4978\n",
      "Epoch 28/30\n",
      "115/115 [==============================] - 1s 4ms/step - loss: 1.0354 - accuracy: 0.4961\n",
      "Epoch 29/30\n",
      "115/115 [==============================] - 1s 4ms/step - loss: 0.9720 - accuracy: 0.5048\n",
      "Epoch 30/30\n",
      "115/115 [==============================] - 1s 4ms/step - loss: 1.0590 - accuracy: 0.4943\n"
     ]
    },
    {
     "data": {
      "image/png": "[encoded data removed]",
      "text/plain": [
       "<Figure size 1000x500 with 2 Axes>"
      ]
     },
     "metadata": {},
     "output_type": "display_data"
    }
   ],
   "source": [
    "model = Sequential()\n",
    "\n",
    "# sgd = SGD(learning_rate=9)\n",
    "model.add(Dense(12, activation='relu', input_dim=64))\n",
    "model.add(Dense(8, activation='relu'))\n",
    "model.add(Dense(1, activation='sigmoid'))\n",
    "\n",
    "model.compile(optimizer=SGD(learning_rate=9),\n",
    "              loss='binary_crossentropy',\n",
    "              metrics=['accuracy'])\n",
    "\n",
    "results = model.fit(X_pure_train, y_pure_train,\n",
    "                    epochs=30, batch_size=10, verbose=1)\n",
    "\n",
    "relu_loss = results.history['loss']\n",
    "relu_accuracy = results.history['accuracy']\n",
    "\n",
    "fig, (ax1, ax2) = plt.subplots(1, 2, figsize=(10, 5))\n",
    "sns.lineplot(x=results.epoch, y=relu_loss, ax=ax1, label='loss')\n",
    "sns.lineplot(x=results.epoch, y=relu_accuracy, ax=ax2, label='accuracy');"
   ]
  },
  {
   "cell_type": "markdown",
   "metadata": {
    "heading_collapsed": true,
    "hidden": true
   },
   "source": [
    "### Exercise"
   ]
  },
  {
   "cell_type": "markdown",
   "metadata": {
    "hidden": true
   },
   "source": [
    "We have been looking only at our training set. Let's add in our validation set to the picture. Check the docstring for the `.fit()` method and add in our validation data."
   ]
  },
  {
   "cell_type": "code",
   "execution_count": 15,
   "metadata": {
    "ExecuteTime": {
     "end_time": "2023-10-16T02:55:43.678684Z",
     "start_time": "2023-10-16T02:55:43.539650Z"
    },
    "hidden": true
   },
   "outputs": [],
   "source": [
    "model = Sequential()\n",
    "model.add(Dense(12, activation='relu', input_dim=64))\n",
    "model.add(Dense(8, activation='relu'))\n",
    "model.add(Dense(4, activation='relu'))\n",
    "model.add(Dense(1, activation='sigmoid'))\n",
    "\n",
    "model.compile(optimizer='adam',\n",
    "              loss='binary_crossentropy',\n",
    "              metrics=['accuracy'])"
   ]
  },
  {
   "cell_type": "code",
   "execution_count": 16,
   "metadata": {
    "ExecuteTime": {
     "end_time": "2023-10-16T02:55:56.912649Z",
     "start_time": "2023-10-16T02:55:43.679649Z"
    },
    "hidden": true
   },
   "outputs": [
    {
     "name": "stdout",
     "output_type": "stream",
     "text": [
      "Epoch 1/30\n"
     ]
    },
    {
     "name": "stderr",
     "output_type": "stream",
     "text": [
      "2023-10-17 15:19:43.242258: I tensorflow/core/grappler/optimizers/custom_graph_optimizer_registry.cc:113] Plugin optimizer for device_type GPU is enabled.\n"
     ]
    },
    {
     "name": "stdout",
     "output_type": "stream",
     "text": [
      "115/115 [==============================] - ETA: 0s - loss: 0.6489 - accuracy: 0.6084"
     ]
    },
    {
     "name": "stderr",
     "output_type": "stream",
     "text": [
      "2023-10-17 15:19:44.997031: I tensorflow/core/grappler/optimizers/custom_graph_optimizer_registry.cc:113] Plugin optimizer for device_type GPU is enabled.\n"
     ]
    },
    {
     "name": "stdout",
     "output_type": "stream",
     "text": [
      "115/115 [==============================] - 2s 11ms/step - loss: 0.6489 - accuracy: 0.6084 - val_loss: 0.5860 - val_accuracy: 0.7431\n",
      "Epoch 2/30\n",
      "115/115 [==============================] - 1s 7ms/step - loss: 0.4804 - accuracy: 0.8129 - val_loss: 0.4100 - val_accuracy: 0.8472\n",
      "Epoch 3/30\n",
      "115/115 [==============================] - 1s 7ms/step - loss: 0.3227 - accuracy: 0.8686 - val_loss: 0.2850 - val_accuracy: 0.8750\n",
      "Epoch 4/30\n",
      "115/115 [==============================] - 1s 6ms/step - loss: 0.2602 - accuracy: 0.8903 - val_loss: 0.2522 - val_accuracy: 0.9097\n",
      "Epoch 5/30\n",
      "115/115 [==============================] - 1s 6ms/step - loss: 0.2117 - accuracy: 0.9112 - val_loss: 0.2113 - val_accuracy: 0.9132\n",
      "Epoch 6/30\n",
      "115/115 [==============================] - 1s 6ms/step - loss: 0.1953 - accuracy: 0.9252 - val_loss: 0.1911 - val_accuracy: 0.9201\n",
      "Epoch 7/30\n",
      "115/115 [==============================] - 1s 6ms/step - loss: 0.1725 - accuracy: 0.9286 - val_loss: 0.1711 - val_accuracy: 0.9375\n",
      "Epoch 8/30\n",
      "115/115 [==============================] - 1s 6ms/step - loss: 0.1522 - accuracy: 0.9339 - val_loss: 0.1561 - val_accuracy: 0.9479\n",
      "Epoch 9/30\n",
      "115/115 [==============================] - 1s 7ms/step - loss: 0.1340 - accuracy: 0.9443 - val_loss: 0.1581 - val_accuracy: 0.9410\n",
      "Epoch 10/30\n",
      "115/115 [==============================] - 1s 6ms/step - loss: 0.1198 - accuracy: 0.9513 - val_loss: 0.1449 - val_accuracy: 0.9479\n",
      "Epoch 11/30\n",
      "115/115 [==============================] - 1s 6ms/step - loss: 0.1069 - accuracy: 0.9556 - val_loss: 0.1326 - val_accuracy: 0.9549\n",
      "Epoch 12/30\n",
      "115/115 [==============================] - 1s 6ms/step - loss: 0.0977 - accuracy: 0.9582 - val_loss: 0.1370 - val_accuracy: 0.9514\n",
      "Epoch 13/30\n",
      "115/115 [==============================] - 1s 6ms/step - loss: 0.0918 - accuracy: 0.9652 - val_loss: 0.1061 - val_accuracy: 0.9653\n",
      "Epoch 14/30\n",
      "115/115 [==============================] - 1s 6ms/step - loss: 0.0809 - accuracy: 0.9669 - val_loss: 0.0977 - val_accuracy: 0.9688\n",
      "Epoch 15/30\n",
      "115/115 [==============================] - 1s 6ms/step - loss: 0.0728 - accuracy: 0.9704 - val_loss: 0.1119 - val_accuracy: 0.9618\n",
      "Epoch 16/30\n",
      "115/115 [==============================] - 1s 6ms/step - loss: 0.0656 - accuracy: 0.9765 - val_loss: 0.0822 - val_accuracy: 0.9688\n",
      "Epoch 17/30\n",
      "115/115 [==============================] - 1s 7ms/step - loss: 0.0645 - accuracy: 0.9774 - val_loss: 0.1035 - val_accuracy: 0.9618\n",
      "Epoch 18/30\n",
      "115/115 [==============================] - 1s 6ms/step - loss: 0.0566 - accuracy: 0.9791 - val_loss: 0.1159 - val_accuracy: 0.9583\n",
      "Epoch 19/30\n",
      "115/115 [==============================] - 1s 6ms/step - loss: 0.0529 - accuracy: 0.9791 - val_loss: 0.0761 - val_accuracy: 0.9653\n",
      "Epoch 20/30\n",
      "115/115 [==============================] - 1s 6ms/step - loss: 0.0485 - accuracy: 0.9861 - val_loss: 0.1027 - val_accuracy: 0.9618\n",
      "Epoch 21/30\n",
      "115/115 [==============================] - 1s 6ms/step - loss: 0.0463 - accuracy: 0.9861 - val_loss: 0.0956 - val_accuracy: 0.9618\n",
      "Epoch 22/30\n",
      "115/115 [==============================] - 1s 6ms/step - loss: 0.0474 - accuracy: 0.9852 - val_loss: 0.0714 - val_accuracy: 0.9653\n",
      "Epoch 23/30\n",
      "115/115 [==============================] - 1s 6ms/step - loss: 0.0394 - accuracy: 0.9861 - val_loss: 0.0658 - val_accuracy: 0.9688\n",
      "Epoch 24/30\n",
      "115/115 [==============================] - 1s 6ms/step - loss: 0.0362 - accuracy: 0.9896 - val_loss: 0.0654 - val_accuracy: 0.9722\n",
      "Epoch 25/30\n",
      "115/115 [==============================] - 1s 6ms/step - loss: 0.0337 - accuracy: 0.9904 - val_loss: 0.0661 - val_accuracy: 0.9653\n",
      "Epoch 26/30\n",
      "115/115 [==============================] - 1s 6ms/step - loss: 0.0303 - accuracy: 0.9930 - val_loss: 0.0657 - val_accuracy: 0.9653\n",
      "Epoch 27/30\n",
      "115/115 [==============================] - 1s 6ms/step - loss: 0.0288 - accuracy: 0.9930 - val_loss: 0.0891 - val_accuracy: 0.9653\n",
      "Epoch 28/30\n",
      "115/115 [==============================] - 1s 6ms/step - loss: 0.0352 - accuracy: 0.9861 - val_loss: 0.0558 - val_accuracy: 0.9792\n",
      "Epoch 29/30\n",
      "115/115 [==============================] - 1s 6ms/step - loss: 0.0244 - accuracy: 0.9948 - val_loss: 0.0578 - val_accuracy: 0.9757\n",
      "Epoch 30/30\n",
      "115/115 [==============================] - 1s 7ms/step - loss: 0.0228 - accuracy: 0.9948 - val_loss: 0.0657 - val_accuracy: 0.9688\n"
     ]
    }
   ],
   "source": [
    "results = model.fit(X_pure_train, y_pure_train,\n",
    "                   validation_data=(X_val, y_val),\n",
    "                   epochs=30, batch_size=10)"
   ]
  },
  {
   "cell_type": "code",
   "execution_count": 17,
   "metadata": {
    "ExecuteTime": {
     "end_time": "2023-10-16T02:55:57.273680Z",
     "start_time": "2023-10-16T02:55:56.913651Z"
    },
    "hidden": true
   },
   "outputs": [
    {
     "data": {
      "image/png": "[encoded data removed]",
      "text/plain": [
       "<Figure size 1000x500 with 2 Axes>"
      ]
     },
     "metadata": {},
     "output_type": "display_data"
    }
   ],
   "source": [
    "train_loss = results.history['loss']\n",
    "train_acc = results.history['accuracy']\n",
    "val_loss = results.history['val_loss']\n",
    "val_acc = results.history['val_accuracy']\n",
    "\n",
    "fig, (ax1, ax2) = plt.subplots(1, 2, figsize=(10, 5))\n",
    "sns.lineplot(x=results.epoch, y=train_loss, ax=ax1, label='train_loss')\n",
    "sns.lineplot(x=results.epoch, y=train_acc, ax=ax2, label='train_accuracy')\n",
    "\n",
    "sns.lineplot(x=results.epoch, y=val_loss, ax=ax1, label='val_loss')\n",
    "sns.lineplot(x=results.epoch, y=val_acc, ax=ax2, label='val_accuracy');"
   ]
  },
  {
   "cell_type": "markdown",
   "metadata": {
    "hidden": true
   },
   "source": [
    "<details>\n",
    "    <summary>One answer here</summary>\n",
    "<code>model = Sequential()\n",
    "model.add(Dense(12, activation='relu', input_dim=64))\n",
    "model.add(Dense(8, activation='relu'))\n",
    "model.add(Dense(4, activation='relu'))\n",
    "model.add(Dense(1, activation='sigmoid'))\n",
    "model.compile(optimizer='adam',\n",
    "              loss='binary_crossentropy',\n",
    "              metrics=['accuracy'])\n",
    "results = model.fit(X_pure_train, y_pure_train,\n",
    "                   validation_data=(X_val, y_val),\n",
    "                   epochs=30, batch_size=10)\n",
    "train_loss = results.history['loss']\n",
    "train_acc = results.history['accuracy']\n",
    "val_loss = results.history['val_loss']\n",
    "val_acc = results.history['val_accuracy']\n",
    "fig, (ax1, ax2) = plt.subplots(1, 2, figsize=(10, 5))\n",
    "sns.lineplot(x=results.epoch, y=train_loss, ax=ax1, label='train_loss')\n",
    "sns.lineplot(x=results.epoch, y=train_acc, ax=ax2, label='train_accuracy')\n",
    "sns.lineplot(x=results.epoch, y=val_loss, ax=ax1, label='val_loss')\n",
    "sns.lineplot(x=results.epoch, y=val_acc, ax=ax2, label='val_accuracy');</code>\n",
    "</details>"
   ]
  },
  {
   "cell_type": "code",
   "execution_count": 18,
   "metadata": {
    "ExecuteTime": {
     "end_time": "2023-10-16T02:55:57.384679Z",
     "start_time": "2023-10-16T02:55:57.274652Z"
    },
    "hidden": true
   },
   "outputs": [
    {
     "data": {
      "text/plain": [
       "0.96875"
      ]
     },
     "execution_count": 18,
     "metadata": {},
     "output_type": "execute_result"
    }
   ],
   "source": [
    "results.history['val_accuracy'][-1]"
   ]
  },
  {
   "cell_type": "code",
   "execution_count": 19,
   "metadata": {
    "ExecuteTime": {
     "end_time": "2023-10-16T02:55:57.495651Z",
     "start_time": "2023-10-16T02:55:57.385652Z"
    },
    "hidden": true
   },
   "outputs": [
    {
     "data": {
      "text/plain": [
       "0.9947780966758728"
      ]
     },
     "execution_count": 19,
     "metadata": {},
     "output_type": "execute_result"
    }
   ],
   "source": [
    "results.history['accuracy'][-1]"
   ]
  },
  {
   "cell_type": "markdown",
   "metadata": {
    "heading_collapsed": true,
    "hidden": true
   },
   "source": [
    "## Connecting with `sklearn`"
   ]
  },
  {
   "cell_type": "markdown",
   "metadata": {
    "hidden": true
   },
   "source": [
    "The `keras.wrappers` submodule means that we can turn `keras` models into estimators that `sklearn` tools will recognize."
   ]
  },
  {
   "cell_type": "code",
   "execution_count": 20,
   "metadata": {
    "ExecuteTime": {
     "end_time": "2023-10-16T02:55:58.239472Z",
     "start_time": "2023-10-16T02:55:57.496651Z"
    },
    "hidden": true
   },
   "outputs": [
    {
     "ename": "TypeError",
     "evalue": "If no scoring is specified, the estimator passed should have a 'score' method. The estimator <keras.engine.sequential.Sequential object at 0x17b45ad30> does not.",
     "output_type": "error",
     "traceback": [
      "\u001b[0;31m---------------------------------------------------------------------------\u001b[0m",
      "\u001b[0;31mTypeError\u001b[0m                                 Traceback (most recent call last)",
      "Cell \u001b[0;32mIn[20], line 3\u001b[0m\n\u001b[1;32m      1\u001b[0m \u001b[38;5;66;03m# This will throw an error.\u001b[39;00m\n\u001b[0;32m----> 3\u001b[0m \u001b[43mcross_val_score\u001b[49m\u001b[43m(\u001b[49m\u001b[43mmodel\u001b[49m\u001b[43m,\u001b[49m\u001b[43m \u001b[49m\u001b[43mX_pure_train\u001b[49m\u001b[43m,\u001b[49m\u001b[43m \u001b[49m\u001b[43my_pure_train\u001b[49m\u001b[43m)\u001b[49m\n",
      "File \u001b[0;32m~/anaconda3/envs/learn-env/lib/python3.9/site-packages/sklearn/model_selection/_validation.py:560\u001b[0m, in \u001b[0;36mcross_val_score\u001b[0;34m(estimator, X, y, groups, scoring, cv, n_jobs, verbose, fit_params, pre_dispatch, error_score)\u001b[0m\n\u001b[1;32m    442\u001b[0m \u001b[38;5;250m\u001b[39m\u001b[38;5;124;03m\"\"\"Evaluate a score by cross-validation.\u001b[39;00m\n\u001b[1;32m    443\u001b[0m \n\u001b[1;32m    444\u001b[0m \u001b[38;5;124;03mRead more in the :ref:`User Guide <cross_validation>`.\u001b[39;00m\n\u001b[0;32m   (...)\u001b[0m\n\u001b[1;32m    557\u001b[0m \u001b[38;5;124;03m[0.3315057  0.08022103 0.03531816]\u001b[39;00m\n\u001b[1;32m    558\u001b[0m \u001b[38;5;124;03m\"\"\"\u001b[39;00m\n\u001b[1;32m    559\u001b[0m \u001b[38;5;66;03m# To ensure multimetric format is not supported\u001b[39;00m\n\u001b[0;32m--> 560\u001b[0m scorer \u001b[38;5;241m=\u001b[39m \u001b[43mcheck_scoring\u001b[49m\u001b[43m(\u001b[49m\u001b[43mestimator\u001b[49m\u001b[43m,\u001b[49m\u001b[43m \u001b[49m\u001b[43mscoring\u001b[49m\u001b[38;5;241;43m=\u001b[39;49m\u001b[43mscoring\u001b[49m\u001b[43m)\u001b[49m\n\u001b[1;32m    562\u001b[0m cv_results \u001b[38;5;241m=\u001b[39m cross_validate(\n\u001b[1;32m    563\u001b[0m     estimator\u001b[38;5;241m=\u001b[39mestimator,\n\u001b[1;32m    564\u001b[0m     X\u001b[38;5;241m=\u001b[39mX,\n\u001b[0;32m   (...)\u001b[0m\n\u001b[1;32m    573\u001b[0m     error_score\u001b[38;5;241m=\u001b[39merror_score,\n\u001b[1;32m    574\u001b[0m )\n\u001b[1;32m    575\u001b[0m \u001b[38;5;28;01mreturn\u001b[39;00m cv_results[\u001b[38;5;124m\"\u001b[39m\u001b[38;5;124mtest_score\u001b[39m\u001b[38;5;124m\"\u001b[39m]\n",
      "File \u001b[0;32m~/anaconda3/envs/learn-env/lib/python3.9/site-packages/sklearn/utils/_param_validation.py:211\u001b[0m, in \u001b[0;36mvalidate_params.<locals>.decorator.<locals>.wrapper\u001b[0;34m(*args, **kwargs)\u001b[0m\n\u001b[1;32m    205\u001b[0m \u001b[38;5;28;01mtry\u001b[39;00m:\n\u001b[1;32m    206\u001b[0m     \u001b[38;5;28;01mwith\u001b[39;00m config_context(\n\u001b[1;32m    207\u001b[0m         skip_parameter_validation\u001b[38;5;241m=\u001b[39m(\n\u001b[1;32m    208\u001b[0m             prefer_skip_nested_validation \u001b[38;5;129;01mor\u001b[39;00m global_skip_validation\n\u001b[1;32m    209\u001b[0m         )\n\u001b[1;32m    210\u001b[0m     ):\n\u001b[0;32m--> 211\u001b[0m         \u001b[38;5;28;01mreturn\u001b[39;00m \u001b[43mfunc\u001b[49m\u001b[43m(\u001b[49m\u001b[38;5;241;43m*\u001b[39;49m\u001b[43margs\u001b[49m\u001b[43m,\u001b[49m\u001b[43m \u001b[49m\u001b[38;5;241;43m*\u001b[39;49m\u001b[38;5;241;43m*\u001b[39;49m\u001b[43mkwargs\u001b[49m\u001b[43m)\u001b[49m\n\u001b[1;32m    212\u001b[0m \u001b[38;5;28;01mexcept\u001b[39;00m InvalidParameterError \u001b[38;5;28;01mas\u001b[39;00m e:\n\u001b[1;32m    213\u001b[0m     \u001b[38;5;66;03m# When the function is just a wrapper around an estimator, we allow\u001b[39;00m\n\u001b[1;32m    214\u001b[0m     \u001b[38;5;66;03m# the function to delegate validation to the estimator, but we replace\u001b[39;00m\n\u001b[1;32m    215\u001b[0m     \u001b[38;5;66;03m# the name of the estimator by the name of the function in the error\u001b[39;00m\n\u001b[1;32m    216\u001b[0m     \u001b[38;5;66;03m# message to avoid confusion.\u001b[39;00m\n\u001b[1;32m    217\u001b[0m     msg \u001b[38;5;241m=\u001b[39m re\u001b[38;5;241m.\u001b[39msub(\n\u001b[1;32m    218\u001b[0m         \u001b[38;5;124mr\u001b[39m\u001b[38;5;124m\"\u001b[39m\u001b[38;5;124mparameter of \u001b[39m\u001b[38;5;124m\\\u001b[39m\u001b[38;5;124mw+ must be\u001b[39m\u001b[38;5;124m\"\u001b[39m,\n\u001b[1;32m    219\u001b[0m         \u001b[38;5;124mf\u001b[39m\u001b[38;5;124m\"\u001b[39m\u001b[38;5;124mparameter of \u001b[39m\u001b[38;5;132;01m{\u001b[39;00mfunc\u001b[38;5;241m.\u001b[39m\u001b[38;5;18m__qualname__\u001b[39m\u001b[38;5;132;01m}\u001b[39;00m\u001b[38;5;124m must be\u001b[39m\u001b[38;5;124m\"\u001b[39m,\n\u001b[1;32m    220\u001b[0m         \u001b[38;5;28mstr\u001b[39m(e),\n\u001b[1;32m    221\u001b[0m     )\n",
      "File \u001b[0;32m~/anaconda3/envs/learn-env/lib/python3.9/site-packages/sklearn/metrics/_scorer.py:953\u001b[0m, in \u001b[0;36mcheck_scoring\u001b[0;34m(estimator, scoring, allow_none)\u001b[0m\n\u001b[1;32m    951\u001b[0m     \u001b[38;5;28;01mreturn\u001b[39;00m \u001b[38;5;28;01mNone\u001b[39;00m\n\u001b[1;32m    952\u001b[0m \u001b[38;5;28;01melse\u001b[39;00m:\n\u001b[0;32m--> 953\u001b[0m     \u001b[38;5;28;01mraise\u001b[39;00m \u001b[38;5;167;01mTypeError\u001b[39;00m(\n\u001b[1;32m    954\u001b[0m         \u001b[38;5;124m\"\u001b[39m\u001b[38;5;124mIf no scoring is specified, the estimator passed should \u001b[39m\u001b[38;5;124m\"\u001b[39m\n\u001b[1;32m    955\u001b[0m         \u001b[38;5;124m\"\u001b[39m\u001b[38;5;124mhave a \u001b[39m\u001b[38;5;124m'\u001b[39m\u001b[38;5;124mscore\u001b[39m\u001b[38;5;124m'\u001b[39m\u001b[38;5;124m method. The estimator \u001b[39m\u001b[38;5;132;01m%r\u001b[39;00m\u001b[38;5;124m does not.\u001b[39m\u001b[38;5;124m\"\u001b[39m \u001b[38;5;241m%\u001b[39m estimator\n\u001b[1;32m    956\u001b[0m     )\n",
      "\u001b[0;31mTypeError\u001b[0m: If no scoring is specified, the estimator passed should have a 'score' method. The estimator <keras.engine.sequential.Sequential object at 0x17b45ad30> does not."
     ]
    }
   ],
   "source": [
    "# This will throw an error.\n",
    "\n",
    "cross_val_score(model, X_pure_train, y_pure_train)"
   ]
  },
  {
   "cell_type": "code",
   "execution_count": 25,
   "metadata": {
    "ExecuteTime": {
     "end_time": "2023-10-16T02:56:54.788815Z",
     "start_time": "2023-10-16T02:56:54.687865Z"
    },
    "hidden": true
   },
   "outputs": [],
   "source": [
    "def build_model():\n",
    "    model = Sequential()\n",
    "    model.add(Dense(12, activation='relu', input_dim=64))\n",
    "    model.add(Dense(8, activation='relu'))\n",
    "    model.add(Dense(4, activation='relu'))\n",
    "    model.add(Dense(1, activation = 'sigmoid'))\n",
    "\n",
    "    model.compile(optimizer='adam',\n",
    "                  loss='binary_crossentropy',\n",
    "                  metrics=['accuracy'])\n",
    "    return model"
   ]
  },
  {
   "cell_type": "code",
   "execution_count": 26,
   "metadata": {
    "ExecuteTime": {
     "end_time": "2023-10-16T02:56:55.462886Z",
     "start_time": "2023-10-16T02:56:55.367733Z"
    },
    "hidden": true
   },
   "outputs": [],
   "source": [
    "keras_model = KerasClassifier(build_model,\n",
    "                                          epochs=50,\n",
    "                                          batch_size=32,\n",
    "                                          verbose=2)"
   ]
  },
  {
   "cell_type": "code",
   "execution_count": 27,
   "metadata": {
    "ExecuteTime": {
     "end_time": "2023-10-16T02:56:56.141720Z",
     "start_time": "2023-10-16T02:56:56.043694Z"
    },
    "hidden": true
   },
   "outputs": [
    {
     "data": {
      "text/plain": [
       "scikeras.wrappers.KerasClassifier"
      ]
     },
     "execution_count": 27,
     "metadata": {},
     "output_type": "execute_result"
    }
   ],
   "source": [
    "type(keras_model)"
   ]
  },
  {
   "cell_type": "code",
   "execution_count": 24,
   "metadata": {
    "ExecuteTime": {
     "end_time": "2023-10-16T02:57:22.734290Z",
     "start_time": "2023-10-16T02:56:58.535700Z"
    },
    "hidden": true
   },
   "outputs": [
    {
     "name": "stdout",
     "output_type": "stream",
     "text": [
      "Epoch 1/50\n"
     ]
    },
    {
     "name": "stderr",
     "output_type": "stream",
     "text": [
      "2023-10-17 15:24:23.851734: I tensorflow/core/grappler/optimizers/custom_graph_optimizer_registry.cc:113] Plugin optimizer for device_type GPU is enabled.\n"
     ]
    },
    {
     "name": "stdout",
     "output_type": "stream",
     "text": [
      "29/29 - 1s - loss: 0.7068 - accuracy: 0.5158 - 711ms/epoch - 25ms/step\n",
      "Epoch 2/50\n",
      "29/29 - 0s - loss: 0.6231 - accuracy: 0.6670 - 145ms/epoch - 5ms/step\n",
      "Epoch 3/50\n",
      "29/29 - 0s - loss: 0.5541 - accuracy: 0.7530 - 142ms/epoch - 5ms/step\n",
      "Epoch 4/50\n",
      "29/29 - 0s - loss: 0.4743 - accuracy: 0.8107 - 144ms/epoch - 5ms/step\n",
      "Epoch 5/50\n",
      "29/29 - 0s - loss: 0.3967 - accuracy: 0.8553 - 132ms/epoch - 5ms/step\n",
      "Epoch 6/50\n",
      "29/29 - 0s - loss: 0.3407 - accuracy: 0.8683 - 131ms/epoch - 5ms/step\n",
      "Epoch 7/50\n",
      "29/29 - 0s - loss: 0.3002 - accuracy: 0.8814 - 128ms/epoch - 4ms/step\n",
      "Epoch 8/50\n",
      "29/29 - 0s - loss: 0.2769 - accuracy: 0.8857 - 137ms/epoch - 5ms/step\n",
      "Epoch 9/50\n",
      "29/29 - 0s - loss: 0.2477 - accuracy: 0.8955 - 132ms/epoch - 5ms/step\n",
      "Epoch 10/50\n",
      "29/29 - 0s - loss: 0.2308 - accuracy: 0.9086 - 125ms/epoch - 4ms/step\n",
      "Epoch 11/50\n",
      "29/29 - 0s - loss: 0.2187 - accuracy: 0.9086 - 129ms/epoch - 4ms/step\n",
      "Epoch 12/50\n",
      "29/29 - 0s - loss: 0.2098 - accuracy: 0.9151 - 191ms/epoch - 7ms/step\n",
      "Epoch 13/50\n",
      "29/29 - 0s - loss: 0.2026 - accuracy: 0.9162 - 199ms/epoch - 7ms/step\n",
      "Epoch 14/50\n",
      "29/29 - 0s - loss: 0.1918 - accuracy: 0.9217 - 164ms/epoch - 6ms/step\n",
      "Epoch 15/50\n",
      "29/29 - 0s - loss: 0.1859 - accuracy: 0.9227 - 160ms/epoch - 6ms/step\n",
      "Epoch 16/50\n",
      "29/29 - 0s - loss: 0.1808 - accuracy: 0.9238 - 140ms/epoch - 5ms/step\n",
      "Epoch 17/50\n",
      "29/29 - 0s - loss: 0.1721 - accuracy: 0.9271 - 133ms/epoch - 5ms/step\n",
      "Epoch 18/50\n",
      "29/29 - 0s - loss: 0.1650 - accuracy: 0.9304 - 136ms/epoch - 5ms/step\n",
      "Epoch 19/50\n",
      "29/29 - 0s - loss: 0.1613 - accuracy: 0.9293 - 144ms/epoch - 5ms/step\n",
      "Epoch 20/50\n",
      "29/29 - 0s - loss: 0.1518 - accuracy: 0.9325 - 138ms/epoch - 5ms/step\n",
      "Epoch 21/50\n",
      "29/29 - 0s - loss: 0.1452 - accuracy: 0.9336 - 133ms/epoch - 5ms/step\n",
      "Epoch 22/50\n",
      "29/29 - 0s - loss: 0.1428 - accuracy: 0.9391 - 134ms/epoch - 5ms/step\n",
      "Epoch 23/50\n",
      "29/29 - 0s - loss: 0.1359 - accuracy: 0.9412 - 130ms/epoch - 4ms/step\n",
      "Epoch 24/50\n",
      "29/29 - 0s - loss: 0.1310 - accuracy: 0.9380 - 127ms/epoch - 4ms/step\n",
      "Epoch 25/50\n",
      "29/29 - 0s - loss: 0.1258 - accuracy: 0.9499 - 132ms/epoch - 5ms/step\n",
      "Epoch 26/50\n",
      "29/29 - 0s - loss: 0.1222 - accuracy: 0.9456 - 130ms/epoch - 4ms/step\n",
      "Epoch 27/50\n",
      "29/29 - 0s - loss: 0.1137 - accuracy: 0.9554 - 130ms/epoch - 4ms/step\n",
      "Epoch 28/50\n",
      "29/29 - 0s - loss: 0.1105 - accuracy: 0.9543 - 135ms/epoch - 5ms/step\n",
      "Epoch 29/50\n",
      "29/29 - 0s - loss: 0.1026 - accuracy: 0.9554 - 130ms/epoch - 4ms/step\n",
      "Epoch 30/50\n",
      "29/29 - 0s - loss: 0.1024 - accuracy: 0.9576 - 128ms/epoch - 4ms/step\n",
      "Epoch 31/50\n",
      "29/29 - 0s - loss: 0.0953 - accuracy: 0.9608 - 128ms/epoch - 4ms/step\n",
      "Epoch 32/50\n",
      "29/29 - 0s - loss: 0.0919 - accuracy: 0.9630 - 133ms/epoch - 5ms/step\n",
      "Epoch 33/50\n",
      "29/29 - 0s - loss: 0.0893 - accuracy: 0.9630 - 134ms/epoch - 5ms/step\n",
      "Epoch 34/50\n",
      "29/29 - 0s - loss: 0.0871 - accuracy: 0.9674 - 138ms/epoch - 5ms/step\n",
      "Epoch 35/50\n",
      "29/29 - 0s - loss: 0.0806 - accuracy: 0.9706 - 138ms/epoch - 5ms/step\n",
      "Epoch 36/50\n",
      "29/29 - 0s - loss: 0.0762 - accuracy: 0.9684 - 134ms/epoch - 5ms/step\n",
      "Epoch 37/50\n",
      "29/29 - 0s - loss: 0.0709 - accuracy: 0.9761 - 139ms/epoch - 5ms/step\n",
      "Epoch 38/50\n",
      "29/29 - 0s - loss: 0.0694 - accuracy: 0.9771 - 139ms/epoch - 5ms/step\n",
      "Epoch 39/50\n",
      "29/29 - 0s - loss: 0.0664 - accuracy: 0.9793 - 139ms/epoch - 5ms/step\n",
      "Epoch 40/50\n",
      "29/29 - 0s - loss: 0.0634 - accuracy: 0.9815 - 140ms/epoch - 5ms/step\n",
      "Epoch 41/50\n",
      "29/29 - 0s - loss: 0.0610 - accuracy: 0.9826 - 141ms/epoch - 5ms/step\n",
      "Epoch 42/50\n",
      "29/29 - 0s - loss: 0.0583 - accuracy: 0.9837 - 145ms/epoch - 5ms/step\n",
      "Epoch 43/50\n",
      "29/29 - 0s - loss: 0.0543 - accuracy: 0.9869 - 137ms/epoch - 5ms/step\n",
      "Epoch 44/50\n",
      "29/29 - 0s - loss: 0.0538 - accuracy: 0.9837 - 142ms/epoch - 5ms/step\n",
      "Epoch 45/50\n",
      "29/29 - 0s - loss: 0.0499 - accuracy: 0.9902 - 145ms/epoch - 5ms/step\n",
      "Epoch 46/50\n",
      "29/29 - 0s - loss: 0.0478 - accuracy: 0.9902 - 138ms/epoch - 5ms/step\n",
      "Epoch 47/50\n",
      "29/29 - 0s - loss: 0.0482 - accuracy: 0.9859 - 175ms/epoch - 6ms/step\n",
      "Epoch 48/50\n",
      "29/29 - 0s - loss: 0.0428 - accuracy: 0.9924 - 132ms/epoch - 5ms/step\n",
      "Epoch 49/50\n",
      "29/29 - 0s - loss: 0.0427 - accuracy: 0.9902 - 127ms/epoch - 4ms/step\n",
      "Epoch 50/50\n",
      "29/29 - 0s - loss: 0.0409 - accuracy: 0.9891 - 143ms/epoch - 5ms/step\n",
      "8/8 - 0s - 241ms/epoch - 30ms/step\n"
     ]
    },
    {
     "name": "stderr",
     "output_type": "stream",
     "text": [
      "2023-10-17 15:24:31.451865: I tensorflow/core/grappler/optimizers/custom_graph_optimizer_registry.cc:113] Plugin optimizer for device_type GPU is enabled.\n"
     ]
    },
    {
     "name": "stdout",
     "output_type": "stream",
     "text": [
      "Epoch 1/50\n"
     ]
    },
    {
     "name": "stderr",
     "output_type": "stream",
     "text": [
      "2023-10-17 15:24:31.791334: I tensorflow/core/grappler/optimizers/custom_graph_optimizer_registry.cc:113] Plugin optimizer for device_type GPU is enabled.\n"
     ]
    },
    {
     "name": "stdout",
     "output_type": "stream",
     "text": [
      "29/29 - 1s - loss: 0.7053 - accuracy: 0.5092 - 535ms/epoch - 18ms/step\n",
      "Epoch 2/50\n",
      "29/29 - 0s - loss: 0.6208 - accuracy: 0.6627 - 148ms/epoch - 5ms/step\n",
      "Epoch 3/50\n",
      "29/29 - 0s - loss: 0.5551 - accuracy: 0.7541 - 141ms/epoch - 5ms/step\n",
      "Epoch 4/50\n",
      "29/29 - 0s - loss: 0.4795 - accuracy: 0.8215 - 144ms/epoch - 5ms/step\n",
      "Epoch 5/50\n",
      "29/29 - 0s - loss: 0.4008 - accuracy: 0.8564 - 145ms/epoch - 5ms/step\n",
      "Epoch 6/50\n",
      "29/29 - 0s - loss: 0.3397 - accuracy: 0.8662 - 151ms/epoch - 5ms/step\n",
      "Epoch 7/50\n",
      "29/29 - 0s - loss: 0.2945 - accuracy: 0.8803 - 141ms/epoch - 5ms/step\n",
      "Epoch 8/50\n",
      "29/29 - 0s - loss: 0.2670 - accuracy: 0.8901 - 134ms/epoch - 5ms/step\n",
      "Epoch 9/50\n",
      "29/29 - 0s - loss: 0.2492 - accuracy: 0.9010 - 136ms/epoch - 5ms/step\n",
      "Epoch 10/50\n",
      "29/29 - 0s - loss: 0.2270 - accuracy: 0.9108 - 132ms/epoch - 5ms/step\n",
      "Epoch 11/50\n",
      "29/29 - 0s - loss: 0.2083 - accuracy: 0.9140 - 126ms/epoch - 4ms/step\n",
      "Epoch 12/50\n",
      "29/29 - 0s - loss: 0.1974 - accuracy: 0.9151 - 133ms/epoch - 5ms/step\n",
      "Epoch 13/50\n",
      "29/29 - 0s - loss: 0.1857 - accuracy: 0.9195 - 132ms/epoch - 5ms/step\n",
      "Epoch 14/50\n",
      "29/29 - 0s - loss: 0.1744 - accuracy: 0.9260 - 132ms/epoch - 5ms/step\n",
      "Epoch 15/50\n",
      "29/29 - 0s - loss: 0.1645 - accuracy: 0.9314 - 129ms/epoch - 4ms/step\n",
      "Epoch 16/50\n",
      "29/29 - 0s - loss: 0.1531 - accuracy: 0.9336 - 128ms/epoch - 4ms/step\n",
      "Epoch 17/50\n",
      "29/29 - 0s - loss: 0.1525 - accuracy: 0.9358 - 125ms/epoch - 4ms/step\n",
      "Epoch 18/50\n",
      "29/29 - 0s - loss: 0.1370 - accuracy: 0.9369 - 130ms/epoch - 4ms/step\n",
      "Epoch 19/50\n",
      "29/29 - 0s - loss: 0.1273 - accuracy: 0.9456 - 127ms/epoch - 4ms/step\n",
      "Epoch 20/50\n",
      "29/29 - 0s - loss: 0.1193 - accuracy: 0.9478 - 129ms/epoch - 4ms/step\n",
      "Epoch 21/50\n",
      "29/29 - 0s - loss: 0.1108 - accuracy: 0.9532 - 129ms/epoch - 4ms/step\n",
      "Epoch 22/50\n",
      "29/29 - 0s - loss: 0.1064 - accuracy: 0.9532 - 130ms/epoch - 4ms/step\n",
      "Epoch 23/50\n",
      "29/29 - 0s - loss: 0.0976 - accuracy: 0.9619 - 130ms/epoch - 4ms/step\n",
      "Epoch 24/50\n",
      "29/29 - 0s - loss: 0.0926 - accuracy: 0.9630 - 130ms/epoch - 4ms/step\n",
      "Epoch 25/50\n",
      "29/29 - 0s - loss: 0.0868 - accuracy: 0.9663 - 129ms/epoch - 4ms/step\n",
      "Epoch 26/50\n",
      "29/29 - 0s - loss: 0.0813 - accuracy: 0.9695 - 130ms/epoch - 4ms/step\n",
      "Epoch 27/50\n",
      "29/29 - 0s - loss: 0.0780 - accuracy: 0.9717 - 128ms/epoch - 4ms/step\n",
      "Epoch 28/50\n",
      "29/29 - 0s - loss: 0.0706 - accuracy: 0.9761 - 130ms/epoch - 4ms/step\n",
      "Epoch 29/50\n",
      "29/29 - 0s - loss: 0.0712 - accuracy: 0.9771 - 132ms/epoch - 5ms/step\n",
      "Epoch 30/50\n",
      "29/29 - 0s - loss: 0.0637 - accuracy: 0.9815 - 131ms/epoch - 5ms/step\n",
      "Epoch 31/50\n",
      "29/29 - 0s - loss: 0.0602 - accuracy: 0.9826 - 130ms/epoch - 4ms/step\n",
      "Epoch 32/50\n",
      "29/29 - 0s - loss: 0.0571 - accuracy: 0.9837 - 125ms/epoch - 4ms/step\n",
      "Epoch 33/50\n",
      "29/29 - 0s - loss: 0.0553 - accuracy: 0.9859 - 126ms/epoch - 4ms/step\n",
      "Epoch 34/50\n",
      "29/29 - 0s - loss: 0.0535 - accuracy: 0.9848 - 132ms/epoch - 5ms/step\n",
      "Epoch 35/50\n",
      "29/29 - 0s - loss: 0.0518 - accuracy: 0.9859 - 133ms/epoch - 5ms/step\n",
      "Epoch 36/50\n",
      "29/29 - 0s - loss: 0.0494 - accuracy: 0.9869 - 129ms/epoch - 4ms/step\n",
      "Epoch 37/50\n",
      "29/29 - 0s - loss: 0.0498 - accuracy: 0.9859 - 130ms/epoch - 4ms/step\n",
      "Epoch 38/50\n",
      "29/29 - 0s - loss: 0.0448 - accuracy: 0.9880 - 130ms/epoch - 4ms/step\n",
      "Epoch 39/50\n",
      "29/29 - 0s - loss: 0.0421 - accuracy: 0.9880 - 129ms/epoch - 4ms/step\n",
      "Epoch 40/50\n",
      "29/29 - 0s - loss: 0.0412 - accuracy: 0.9891 - 127ms/epoch - 4ms/step\n",
      "Epoch 41/50\n",
      "29/29 - 0s - loss: 0.0403 - accuracy: 0.9880 - 136ms/epoch - 5ms/step\n",
      "Epoch 42/50\n",
      "29/29 - 0s - loss: 0.0397 - accuracy: 0.9869 - 130ms/epoch - 4ms/step\n",
      "Epoch 43/50\n",
      "29/29 - 0s - loss: 0.0361 - accuracy: 0.9891 - 128ms/epoch - 4ms/step\n",
      "Epoch 44/50\n",
      "29/29 - 0s - loss: 0.0338 - accuracy: 0.9913 - 128ms/epoch - 4ms/step\n",
      "Epoch 45/50\n",
      "29/29 - 0s - loss: 0.0313 - accuracy: 0.9935 - 129ms/epoch - 4ms/step\n",
      "Epoch 46/50\n",
      "29/29 - 0s - loss: 0.0324 - accuracy: 0.9913 - 129ms/epoch - 4ms/step\n",
      "Epoch 47/50\n",
      "29/29 - 0s - loss: 0.0309 - accuracy: 0.9880 - 132ms/epoch - 5ms/step\n",
      "Epoch 48/50\n",
      "29/29 - 0s - loss: 0.0288 - accuracy: 0.9935 - 130ms/epoch - 4ms/step\n",
      "Epoch 49/50\n",
      "29/29 - 0s - loss: 0.0272 - accuracy: 0.9935 - 128ms/epoch - 4ms/step\n",
      "Epoch 50/50\n",
      "29/29 - 0s - loss: 0.0257 - accuracy: 0.9935 - 132ms/epoch - 5ms/step\n",
      "8/8 - 0s - 57ms/epoch - 7ms/step\n",
      "Epoch 1/50\n"
     ]
    },
    {
     "name": "stderr",
     "output_type": "stream",
     "text": [
      "2023-10-17 15:24:38.801072: I tensorflow/core/grappler/optimizers/custom_graph_optimizer_registry.cc:113] Plugin optimizer for device_type GPU is enabled.\n",
      "2023-10-17 15:24:38.987630: I tensorflow/core/grappler/optimizers/custom_graph_optimizer_registry.cc:113] Plugin optimizer for device_type GPU is enabled.\n"
     ]
    },
    {
     "name": "stdout",
     "output_type": "stream",
     "text": [
      "29/29 - 1s - loss: 0.7065 - accuracy: 0.5158 - 502ms/epoch - 17ms/step\n",
      "Epoch 2/50\n",
      "29/29 - 0s - loss: 0.6315 - accuracy: 0.6442 - 134ms/epoch - 5ms/step\n",
      "Epoch 3/50\n",
      "29/29 - 0s - loss: 0.5760 - accuracy: 0.7323 - 137ms/epoch - 5ms/step\n",
      "Epoch 4/50\n",
      "29/29 - 0s - loss: 0.5079 - accuracy: 0.7911 - 128ms/epoch - 4ms/step\n",
      "Epoch 5/50\n",
      "29/29 - 0s - loss: 0.4275 - accuracy: 0.8487 - 129ms/epoch - 4ms/step\n",
      "Epoch 6/50\n",
      "29/29 - 0s - loss: 0.3540 - accuracy: 0.8585 - 127ms/epoch - 4ms/step\n",
      "Epoch 7/50\n",
      "29/29 - 0s - loss: 0.3055 - accuracy: 0.8738 - 129ms/epoch - 4ms/step\n",
      "Epoch 8/50\n",
      "29/29 - 0s - loss: 0.2789 - accuracy: 0.8879 - 136ms/epoch - 5ms/step\n",
      "Epoch 9/50\n",
      "29/29 - 0s - loss: 0.2501 - accuracy: 0.8966 - 127ms/epoch - 4ms/step\n",
      "Epoch 10/50\n",
      "29/29 - 0s - loss: 0.2254 - accuracy: 0.9053 - 133ms/epoch - 5ms/step\n",
      "Epoch 11/50\n",
      "29/29 - 0s - loss: 0.2095 - accuracy: 0.9129 - 131ms/epoch - 5ms/step\n",
      "Epoch 12/50\n",
      "29/29 - 0s - loss: 0.1950 - accuracy: 0.9162 - 126ms/epoch - 4ms/step\n",
      "Epoch 13/50\n",
      "29/29 - 0s - loss: 0.1808 - accuracy: 0.9206 - 129ms/epoch - 4ms/step\n",
      "Epoch 14/50\n",
      "29/29 - 0s - loss: 0.1691 - accuracy: 0.9249 - 128ms/epoch - 4ms/step\n",
      "Epoch 15/50\n",
      "29/29 - 0s - loss: 0.1594 - accuracy: 0.9391 - 130ms/epoch - 4ms/step\n",
      "Epoch 16/50\n",
      "29/29 - 0s - loss: 0.1478 - accuracy: 0.9380 - 129ms/epoch - 4ms/step\n",
      "Epoch 17/50\n",
      "29/29 - 0s - loss: 0.1381 - accuracy: 0.9510 - 124ms/epoch - 4ms/step\n",
      "Epoch 18/50\n",
      "29/29 - 0s - loss: 0.1348 - accuracy: 0.9478 - 126ms/epoch - 4ms/step\n",
      "Epoch 19/50\n",
      "29/29 - 0s - loss: 0.1224 - accuracy: 0.9532 - 131ms/epoch - 5ms/step\n",
      "Epoch 20/50\n",
      "29/29 - 0s - loss: 0.1209 - accuracy: 0.9543 - 130ms/epoch - 4ms/step\n",
      "Epoch 21/50\n",
      "29/29 - 0s - loss: 0.1115 - accuracy: 0.9587 - 135ms/epoch - 5ms/step\n",
      "Epoch 22/50\n",
      "29/29 - 0s - loss: 0.1035 - accuracy: 0.9608 - 131ms/epoch - 5ms/step\n",
      "Epoch 23/50\n",
      "29/29 - 0s - loss: 0.0968 - accuracy: 0.9641 - 133ms/epoch - 5ms/step\n",
      "Epoch 24/50\n",
      "29/29 - 0s - loss: 0.0915 - accuracy: 0.9608 - 130ms/epoch - 4ms/step\n",
      "Epoch 25/50\n",
      "29/29 - 0s - loss: 0.0908 - accuracy: 0.9608 - 134ms/epoch - 5ms/step\n",
      "Epoch 26/50\n",
      "29/29 - 0s - loss: 0.0853 - accuracy: 0.9663 - 131ms/epoch - 5ms/step\n",
      "Epoch 27/50\n",
      "29/29 - 0s - loss: 0.0797 - accuracy: 0.9684 - 131ms/epoch - 5ms/step\n",
      "Epoch 28/50\n",
      "29/29 - 0s - loss: 0.0779 - accuracy: 0.9728 - 134ms/epoch - 5ms/step\n",
      "Epoch 29/50\n",
      "29/29 - 0s - loss: 0.0734 - accuracy: 0.9706 - 132ms/epoch - 5ms/step\n",
      "Epoch 30/50\n",
      "29/29 - 0s - loss: 0.0702 - accuracy: 0.9739 - 132ms/epoch - 5ms/step\n",
      "Epoch 31/50\n",
      "29/29 - 0s - loss: 0.0676 - accuracy: 0.9771 - 132ms/epoch - 5ms/step\n",
      "Epoch 32/50\n",
      "29/29 - 0s - loss: 0.0656 - accuracy: 0.9793 - 130ms/epoch - 4ms/step\n",
      "Epoch 33/50\n",
      "29/29 - 0s - loss: 0.0625 - accuracy: 0.9782 - 126ms/epoch - 4ms/step\n",
      "Epoch 34/50\n",
      "29/29 - 0s - loss: 0.0605 - accuracy: 0.9804 - 124ms/epoch - 4ms/step\n",
      "Epoch 35/50\n",
      "29/29 - 0s - loss: 0.0574 - accuracy: 0.9826 - 132ms/epoch - 5ms/step\n",
      "Epoch 36/50\n",
      "29/29 - 0s - loss: 0.0554 - accuracy: 0.9815 - 133ms/epoch - 5ms/step\n",
      "Epoch 37/50\n",
      "29/29 - 0s - loss: 0.0536 - accuracy: 0.9826 - 132ms/epoch - 5ms/step\n",
      "Epoch 38/50\n",
      "29/29 - 0s - loss: 0.0488 - accuracy: 0.9848 - 132ms/epoch - 5ms/step\n",
      "Epoch 39/50\n",
      "29/29 - 0s - loss: 0.0482 - accuracy: 0.9859 - 132ms/epoch - 5ms/step\n",
      "Epoch 40/50\n",
      "29/29 - 0s - loss: 0.0467 - accuracy: 0.9869 - 134ms/epoch - 5ms/step\n",
      "Epoch 41/50\n",
      "29/29 - 0s - loss: 0.0442 - accuracy: 0.9848 - 132ms/epoch - 5ms/step\n",
      "Epoch 42/50\n",
      "29/29 - 0s - loss: 0.0437 - accuracy: 0.9826 - 130ms/epoch - 4ms/step\n",
      "Epoch 43/50\n",
      "29/29 - 0s - loss: 0.0449 - accuracy: 0.9880 - 130ms/epoch - 4ms/step\n",
      "Epoch 44/50\n",
      "29/29 - 0s - loss: 0.0390 - accuracy: 0.9891 - 131ms/epoch - 5ms/step\n",
      "Epoch 45/50\n",
      "29/29 - 0s - loss: 0.0378 - accuracy: 0.9891 - 132ms/epoch - 5ms/step\n",
      "Epoch 46/50\n",
      "29/29 - 0s - loss: 0.0357 - accuracy: 0.9913 - 129ms/epoch - 4ms/step\n",
      "Epoch 47/50\n",
      "29/29 - 0s - loss: 0.0383 - accuracy: 0.9869 - 128ms/epoch - 4ms/step\n",
      "Epoch 48/50\n",
      "29/29 - 0s - loss: 0.0328 - accuracy: 0.9935 - 127ms/epoch - 4ms/step\n",
      "Epoch 49/50\n",
      "29/29 - 0s - loss: 0.0305 - accuracy: 0.9946 - 130ms/epoch - 4ms/step\n",
      "Epoch 50/50\n",
      "29/29 - 0s - loss: 0.0309 - accuracy: 0.9935 - 130ms/epoch - 4ms/step\n",
      "8/8 - 0s - 60ms/epoch - 8ms/step\n",
      "Epoch 1/50\n"
     ]
    },
    {
     "name": "stderr",
     "output_type": "stream",
     "text": [
      "2023-10-17 15:24:45.880720: I tensorflow/core/grappler/optimizers/custom_graph_optimizer_registry.cc:113] Plugin optimizer for device_type GPU is enabled.\n",
      "2023-10-17 15:24:46.069361: I tensorflow/core/grappler/optimizers/custom_graph_optimizer_registry.cc:113] Plugin optimizer for device_type GPU is enabled.\n"
     ]
    },
    {
     "name": "stdout",
     "output_type": "stream",
     "text": [
      "29/29 - 1s - loss: 0.7098 - accuracy: 0.4940 - 515ms/epoch - 18ms/step\n",
      "Epoch 2/50\n",
      "29/29 - 0s - loss: 0.6330 - accuracy: 0.6431 - 146ms/epoch - 5ms/step\n",
      "Epoch 3/50\n",
      "29/29 - 0s - loss: 0.5769 - accuracy: 0.7116 - 137ms/epoch - 5ms/step\n",
      "Epoch 4/50\n",
      "29/29 - 0s - loss: 0.5054 - accuracy: 0.7943 - 130ms/epoch - 4ms/step\n",
      "Epoch 5/50\n",
      "29/29 - 0s - loss: 0.4302 - accuracy: 0.8281 - 136ms/epoch - 5ms/step\n",
      "Epoch 6/50\n",
      "29/29 - 0s - loss: 0.3665 - accuracy: 0.8455 - 130ms/epoch - 4ms/step\n",
      "Epoch 7/50\n",
      "29/29 - 0s - loss: 0.3157 - accuracy: 0.8694 - 135ms/epoch - 5ms/step\n",
      "Epoch 8/50\n",
      "29/29 - 0s - loss: 0.2850 - accuracy: 0.8814 - 132ms/epoch - 5ms/step\n",
      "Epoch 9/50\n",
      "29/29 - 0s - loss: 0.2628 - accuracy: 0.8825 - 129ms/epoch - 4ms/step\n",
      "Epoch 10/50\n",
      "29/29 - 0s - loss: 0.2461 - accuracy: 0.9010 - 136ms/epoch - 5ms/step\n",
      "Epoch 11/50\n",
      "29/29 - 0s - loss: 0.2345 - accuracy: 0.8999 - 127ms/epoch - 4ms/step\n",
      "Epoch 12/50\n",
      "29/29 - 0s - loss: 0.2180 - accuracy: 0.9053 - 127ms/epoch - 4ms/step\n",
      "Epoch 13/50\n",
      "29/29 - 0s - loss: 0.2108 - accuracy: 0.9140 - 133ms/epoch - 5ms/step\n",
      "Epoch 14/50\n",
      "29/29 - 0s - loss: 0.2014 - accuracy: 0.9195 - 128ms/epoch - 4ms/step\n",
      "Epoch 15/50\n",
      "29/29 - 0s - loss: 0.1941 - accuracy: 0.9162 - 129ms/epoch - 4ms/step\n",
      "Epoch 16/50\n",
      "29/29 - 0s - loss: 0.1851 - accuracy: 0.9249 - 125ms/epoch - 4ms/step\n",
      "Epoch 17/50\n",
      "29/29 - 0s - loss: 0.1784 - accuracy: 0.9249 - 128ms/epoch - 4ms/step\n",
      "Epoch 18/50\n",
      "29/29 - 0s - loss: 0.1706 - accuracy: 0.9271 - 127ms/epoch - 4ms/step\n",
      "Epoch 19/50\n",
      "29/29 - 0s - loss: 0.1637 - accuracy: 0.9336 - 128ms/epoch - 4ms/step\n",
      "Epoch 20/50\n",
      "29/29 - 0s - loss: 0.1576 - accuracy: 0.9380 - 127ms/epoch - 4ms/step\n",
      "Epoch 21/50\n",
      "29/29 - 0s - loss: 0.1537 - accuracy: 0.9304 - 123ms/epoch - 4ms/step\n",
      "Epoch 22/50\n",
      "29/29 - 0s - loss: 0.1463 - accuracy: 0.9358 - 124ms/epoch - 4ms/step\n",
      "Epoch 23/50\n",
      "29/29 - 0s - loss: 0.1400 - accuracy: 0.9423 - 127ms/epoch - 4ms/step\n",
      "Epoch 24/50\n",
      "29/29 - 0s - loss: 0.1333 - accuracy: 0.9456 - 128ms/epoch - 4ms/step\n",
      "Epoch 25/50\n",
      "29/29 - 0s - loss: 0.1271 - accuracy: 0.9456 - 131ms/epoch - 5ms/step\n",
      "Epoch 26/50\n",
      "29/29 - 0s - loss: 0.1225 - accuracy: 0.9532 - 129ms/epoch - 4ms/step\n",
      "Epoch 27/50\n",
      "29/29 - 0s - loss: 0.1182 - accuracy: 0.9510 - 131ms/epoch - 5ms/step\n",
      "Epoch 28/50\n",
      "29/29 - 0s - loss: 0.1110 - accuracy: 0.9565 - 130ms/epoch - 4ms/step\n",
      "Epoch 29/50\n",
      "29/29 - 0s - loss: 0.1081 - accuracy: 0.9565 - 130ms/epoch - 4ms/step\n",
      "Epoch 30/50\n",
      "29/29 - 0s - loss: 0.1037 - accuracy: 0.9608 - 132ms/epoch - 5ms/step\n",
      "Epoch 31/50\n",
      "29/29 - 0s - loss: 0.0994 - accuracy: 0.9652 - 130ms/epoch - 4ms/step\n",
      "Epoch 32/50\n",
      "29/29 - 0s - loss: 0.0953 - accuracy: 0.9652 - 127ms/epoch - 4ms/step\n",
      "Epoch 33/50\n",
      "29/29 - 0s - loss: 0.0950 - accuracy: 0.9641 - 132ms/epoch - 5ms/step\n",
      "Epoch 34/50\n",
      "29/29 - 0s - loss: 0.0864 - accuracy: 0.9641 - 130ms/epoch - 4ms/step\n",
      "Epoch 35/50\n",
      "29/29 - 0s - loss: 0.0879 - accuracy: 0.9695 - 132ms/epoch - 5ms/step\n",
      "Epoch 36/50\n",
      "29/29 - 0s - loss: 0.0832 - accuracy: 0.9717 - 128ms/epoch - 4ms/step\n",
      "Epoch 37/50\n",
      "29/29 - 0s - loss: 0.0776 - accuracy: 0.9717 - 129ms/epoch - 4ms/step\n",
      "Epoch 38/50\n",
      "29/29 - 0s - loss: 0.0723 - accuracy: 0.9793 - 129ms/epoch - 4ms/step\n",
      "Epoch 39/50\n",
      "29/29 - 0s - loss: 0.0717 - accuracy: 0.9761 - 128ms/epoch - 4ms/step\n",
      "Epoch 40/50\n",
      "29/29 - 0s - loss: 0.0701 - accuracy: 0.9739 - 133ms/epoch - 5ms/step\n",
      "Epoch 41/50\n",
      "29/29 - 0s - loss: 0.0649 - accuracy: 0.9782 - 130ms/epoch - 4ms/step\n",
      "Epoch 42/50\n",
      "29/29 - 0s - loss: 0.0620 - accuracy: 0.9804 - 126ms/epoch - 4ms/step\n",
      "Epoch 43/50\n",
      "29/29 - 0s - loss: 0.0589 - accuracy: 0.9782 - 127ms/epoch - 4ms/step\n",
      "Epoch 44/50\n",
      "29/29 - 0s - loss: 0.0577 - accuracy: 0.9815 - 130ms/epoch - 4ms/step\n",
      "Epoch 45/50\n",
      "29/29 - 0s - loss: 0.0574 - accuracy: 0.9826 - 128ms/epoch - 4ms/step\n",
      "Epoch 46/50\n",
      "29/29 - 0s - loss: 0.0542 - accuracy: 0.9826 - 127ms/epoch - 4ms/step\n",
      "Epoch 47/50\n",
      "29/29 - 0s - loss: 0.0526 - accuracy: 0.9804 - 140ms/epoch - 5ms/step\n",
      "Epoch 48/50\n",
      "29/29 - 0s - loss: 0.0496 - accuracy: 0.9848 - 138ms/epoch - 5ms/step\n",
      "Epoch 49/50\n",
      "29/29 - 0s - loss: 0.0489 - accuracy: 0.9848 - 127ms/epoch - 4ms/step\n",
      "Epoch 50/50\n",
      "29/29 - 0s - loss: 0.0458 - accuracy: 0.9859 - 129ms/epoch - 4ms/step\n",
      "8/8 - 0s - 62ms/epoch - 8ms/step\n",
      "Epoch 1/50\n"
     ]
    },
    {
     "name": "stderr",
     "output_type": "stream",
     "text": [
      "2023-10-17 15:24:52.958086: I tensorflow/core/grappler/optimizers/custom_graph_optimizer_registry.cc:113] Plugin optimizer for device_type GPU is enabled.\n",
      "2023-10-17 15:24:53.144358: I tensorflow/core/grappler/optimizers/custom_graph_optimizer_registry.cc:113] Plugin optimizer for device_type GPU is enabled.\n"
     ]
    },
    {
     "name": "stdout",
     "output_type": "stream",
     "text": [
      "29/29 - 1s - loss: 0.7120 - accuracy: 0.5022 - 583ms/epoch - 20ms/step\n",
      "Epoch 2/50\n",
      "29/29 - 0s - loss: 0.6319 - accuracy: 0.6565 - 143ms/epoch - 5ms/step\n",
      "Epoch 3/50\n",
      "29/29 - 0s - loss: 0.5642 - accuracy: 0.7489 - 136ms/epoch - 5ms/step\n",
      "Epoch 4/50\n",
      "29/29 - 0s - loss: 0.4848 - accuracy: 0.8065 - 142ms/epoch - 5ms/step\n",
      "Epoch 5/50\n",
      "29/29 - 0s - loss: 0.3984 - accuracy: 0.8522 - 136ms/epoch - 5ms/step\n",
      "Epoch 6/50\n",
      "29/29 - 0s - loss: 0.3368 - accuracy: 0.8717 - 130ms/epoch - 4ms/step\n",
      "Epoch 7/50\n",
      "29/29 - 0s - loss: 0.2918 - accuracy: 0.8870 - 130ms/epoch - 4ms/step\n",
      "Epoch 8/50\n",
      "29/29 - 0s - loss: 0.2599 - accuracy: 0.8935 - 130ms/epoch - 4ms/step\n",
      "Epoch 9/50\n",
      "29/29 - 0s - loss: 0.2379 - accuracy: 0.9076 - 136ms/epoch - 5ms/step\n",
      "Epoch 10/50\n",
      "29/29 - 0s - loss: 0.2145 - accuracy: 0.9054 - 130ms/epoch - 4ms/step\n",
      "Epoch 11/50\n",
      "29/29 - 0s - loss: 0.1989 - accuracy: 0.9174 - 128ms/epoch - 4ms/step\n",
      "Epoch 12/50\n",
      "29/29 - 0s - loss: 0.1864 - accuracy: 0.9250 - 139ms/epoch - 5ms/step\n",
      "Epoch 13/50\n",
      "29/29 - 0s - loss: 0.1733 - accuracy: 0.9239 - 143ms/epoch - 5ms/step\n",
      "Epoch 14/50\n",
      "29/29 - 0s - loss: 0.1627 - accuracy: 0.9315 - 133ms/epoch - 5ms/step\n",
      "Epoch 15/50\n",
      "29/29 - 0s - loss: 0.1507 - accuracy: 0.9435 - 131ms/epoch - 5ms/step\n",
      "Epoch 16/50\n",
      "29/29 - 0s - loss: 0.1405 - accuracy: 0.9457 - 134ms/epoch - 5ms/step\n",
      "Epoch 17/50\n",
      "29/29 - 0s - loss: 0.1331 - accuracy: 0.9489 - 130ms/epoch - 4ms/step\n",
      "Epoch 18/50\n",
      "29/29 - 0s - loss: 0.1256 - accuracy: 0.9533 - 130ms/epoch - 4ms/step\n",
      "Epoch 19/50\n",
      "29/29 - 0s - loss: 0.1197 - accuracy: 0.9533 - 131ms/epoch - 5ms/step\n",
      "Epoch 20/50\n",
      "29/29 - 0s - loss: 0.1127 - accuracy: 0.9565 - 133ms/epoch - 5ms/step\n",
      "Epoch 21/50\n",
      "29/29 - 0s - loss: 0.1104 - accuracy: 0.9565 - 140ms/epoch - 5ms/step\n",
      "Epoch 22/50\n",
      "29/29 - 0s - loss: 0.1026 - accuracy: 0.9609 - 130ms/epoch - 4ms/step\n",
      "Epoch 23/50\n",
      "29/29 - 0s - loss: 0.0957 - accuracy: 0.9674 - 134ms/epoch - 5ms/step\n",
      "Epoch 24/50\n",
      "29/29 - 0s - loss: 0.0934 - accuracy: 0.9685 - 134ms/epoch - 5ms/step\n",
      "Epoch 25/50\n",
      "29/29 - 0s - loss: 0.0867 - accuracy: 0.9707 - 128ms/epoch - 4ms/step\n",
      "Epoch 26/50\n",
      "29/29 - 0s - loss: 0.0823 - accuracy: 0.9707 - 129ms/epoch - 4ms/step\n",
      "Epoch 27/50\n",
      "29/29 - 0s - loss: 0.0791 - accuracy: 0.9750 - 129ms/epoch - 4ms/step\n",
      "Epoch 28/50\n",
      "29/29 - 0s - loss: 0.0744 - accuracy: 0.9728 - 128ms/epoch - 4ms/step\n",
      "Epoch 29/50\n",
      "29/29 - 0s - loss: 0.0714 - accuracy: 0.9750 - 127ms/epoch - 4ms/step\n",
      "Epoch 30/50\n",
      "29/29 - 0s - loss: 0.0693 - accuracy: 0.9750 - 126ms/epoch - 4ms/step\n",
      "Epoch 31/50\n",
      "29/29 - 0s - loss: 0.0656 - accuracy: 0.9761 - 127ms/epoch - 4ms/step\n",
      "Epoch 32/50\n",
      "29/29 - 0s - loss: 0.0629 - accuracy: 0.9783 - 127ms/epoch - 4ms/step\n",
      "Epoch 33/50\n",
      "29/29 - 0s - loss: 0.0603 - accuracy: 0.9783 - 131ms/epoch - 5ms/step\n",
      "Epoch 34/50\n",
      "29/29 - 0s - loss: 0.0587 - accuracy: 0.9793 - 129ms/epoch - 4ms/step\n",
      "Epoch 35/50\n",
      "29/29 - 0s - loss: 0.0552 - accuracy: 0.9804 - 130ms/epoch - 4ms/step\n",
      "Epoch 36/50\n",
      "29/29 - 0s - loss: 0.0518 - accuracy: 0.9783 - 129ms/epoch - 4ms/step\n",
      "Epoch 37/50\n",
      "29/29 - 0s - loss: 0.0510 - accuracy: 0.9826 - 129ms/epoch - 4ms/step\n",
      "Epoch 38/50\n",
      "29/29 - 0s - loss: 0.0488 - accuracy: 0.9815 - 127ms/epoch - 4ms/step\n",
      "Epoch 39/50\n",
      "29/29 - 0s - loss: 0.0458 - accuracy: 0.9848 - 131ms/epoch - 5ms/step\n",
      "Epoch 40/50\n",
      "29/29 - 0s - loss: 0.0457 - accuracy: 0.9848 - 134ms/epoch - 5ms/step\n",
      "Epoch 41/50\n",
      "29/29 - 0s - loss: 0.0440 - accuracy: 0.9848 - 128ms/epoch - 4ms/step\n",
      "Epoch 42/50\n",
      "29/29 - 0s - loss: 0.0412 - accuracy: 0.9837 - 130ms/epoch - 4ms/step\n",
      "Epoch 43/50\n",
      "29/29 - 0s - loss: 0.0384 - accuracy: 0.9924 - 130ms/epoch - 4ms/step\n",
      "Epoch 44/50\n",
      "29/29 - 0s - loss: 0.0372 - accuracy: 0.9880 - 133ms/epoch - 5ms/step\n",
      "Epoch 45/50\n",
      "29/29 - 0s - loss: 0.0358 - accuracy: 0.9913 - 133ms/epoch - 5ms/step\n",
      "Epoch 46/50\n",
      "29/29 - 0s - loss: 0.0336 - accuracy: 0.9924 - 128ms/epoch - 4ms/step\n",
      "Epoch 47/50\n",
      "29/29 - 0s - loss: 0.0330 - accuracy: 0.9924 - 127ms/epoch - 4ms/step\n",
      "Epoch 48/50\n",
      "29/29 - 0s - loss: 0.0314 - accuracy: 0.9924 - 131ms/epoch - 5ms/step\n",
      "Epoch 49/50\n",
      "29/29 - 0s - loss: 0.0306 - accuracy: 0.9924 - 127ms/epoch - 4ms/step\n",
      "Epoch 50/50\n",
      "29/29 - 0s - loss: 0.0299 - accuracy: 0.9902 - 126ms/epoch - 4ms/step\n",
      "8/8 - 0s - 181ms/epoch - 23ms/step\n"
     ]
    },
    {
     "name": "stderr",
     "output_type": "stream",
     "text": [
      "2023-10-17 15:25:00.169584: I tensorflow/core/grappler/optimizers/custom_graph_optimizer_registry.cc:113] Plugin optimizer for device_type GPU is enabled.\n"
     ]
    },
    {
     "data": {
      "text/plain": [
       "array([0.95652174, 0.95217391, 0.96521739, 0.96956522, 0.97816594])"
      ]
     },
     "execution_count": 24,
     "metadata": {},
     "output_type": "execute_result"
    }
   ],
   "source": [
    "cross_val_score(keras_model, X_pure_train, y_pure_train)"
   ]
  },
  {
   "cell_type": "markdown",
   "metadata": {
    "heading_collapsed": true,
    "hidden": true
   },
   "source": [
    "## Regularization"
   ]
  },
  {
   "cell_type": "markdown",
   "metadata": {
    "hidden": true
   },
   "source": [
    "Does regularization make sense in the context of neural networks? <br/>\n",
    "\n",
    "Yes! We still have all of the salient ingredients: a loss function, overfitting vs. underfitting, and coefficients (weights) that could get too large.\n",
    "\n",
    "But there are now a few different flavors besides L1 and L2 regularization. (Note that L1 regularization is not common in the context of  neural networks.)\n",
    "\n",
    "We'll add a few more layers to give regularization a better chance of making a difference!"
   ]
  },
  {
   "cell_type": "code",
   "execution_count": 28,
   "metadata": {
    "ExecuteTime": {
     "end_time": "2023-10-16T02:57:56.469968Z",
     "start_time": "2023-10-16T02:57:52.018481Z"
    },
    "hidden": true
   },
   "outputs": [
    {
     "name": "stderr",
     "output_type": "stream",
     "text": [
      "2023-10-17 15:29:46.577404: I tensorflow/core/grappler/optimizers/custom_graph_optimizer_registry.cc:113] Plugin optimizer for device_type GPU is enabled.\n",
      "2023-10-17 15:29:47.730738: I tensorflow/core/grappler/optimizers/custom_graph_optimizer_registry.cc:113] Plugin optimizer for device_type GPU is enabled.\n"
     ]
    },
    {
     "data": {
      "image/png": "[encoded data removed]",
      "text/plain": [
       "<Figure size 1000x500 with 2 Axes>"
      ]
     },
     "metadata": {},
     "output_type": "display_data"
    }
   ],
   "source": [
    "model = Sequential()\n",
    "model.add(Dense(30, activation='relu', input_dim=64))\n",
    "\n",
    "# We can add L2 (or L1) regularization right into\n",
    "# the layer with the kernel_regularizer parameter.\n",
    "\n",
    "model.add(Dense(20, activation='relu',\n",
    "                kernel_regularizer=l2(l2=0.05)))\n",
    "\n",
    "# Note that there is also a bias_regularizer,\n",
    "# but this tends to have less effect.\n",
    "\n",
    "model.add(Dense(12, activation='relu'))\n",
    "model.add(Dense(12, activation='relu'))\n",
    "model.add(Dense(12, activation='relu'))\n",
    "model.add(Dense(8, activation='relu'))\n",
    "model.add(Dense(4, activation='relu'))\n",
    "model.add(Dense(1, activation ='sigmoid'))\n",
    "\n",
    "model.compile(optimizer='adam',\n",
    "              loss='binary_crossentropy',\n",
    "              metrics=['accuracy'])\n",
    "\n",
    "results = model.fit(X_pure_train, y_pure_train, epochs=20, batch_size=32,\n",
    "                    verbose=0, validation_data=(X_val, y_val))\n",
    "\n",
    "train_loss = results.history['loss']\n",
    "train_acc = results.history['accuracy']\n",
    "val_loss = results.history['val_loss']\n",
    "val_acc = results.history['val_accuracy']\n",
    "\n",
    "\n",
    "fig, (ax1, ax2) = plt.subplots(1, 2, figsize=(10, 5))\n",
    "sns.lineplot(x=results.epoch, y=train_loss, ax=ax1, label='train_loss')\n",
    "sns.lineplot(x=results.epoch, y=train_acc, ax=ax2, label='train_accuracy')\n",
    "\n",
    "sns.lineplot(x=results.epoch, y=val_loss, ax=ax1, label='val_loss')\n",
    "sns.lineplot(x=results.epoch, y=val_acc, ax=ax2, label='val_accuracy');"
   ]
  },
  {
   "cell_type": "markdown",
   "metadata": {
    "hidden": true
   },
   "source": [
    "Adding L2 to multiple layers:"
   ]
  },
  {
   "cell_type": "code",
   "execution_count": 29,
   "metadata": {
    "ExecuteTime": {
     "end_time": "2023-10-16T02:58:06.107987Z",
     "start_time": "2023-10-16T02:58:01.306992Z"
    },
    "hidden": true
   },
   "outputs": [
    {
     "name": "stderr",
     "output_type": "stream",
     "text": [
      "2023-10-17 15:32:17.326523: I tensorflow/core/grappler/optimizers/custom_graph_optimizer_registry.cc:113] Plugin optimizer for device_type GPU is enabled.\n",
      "2023-10-17 15:32:18.207933: I tensorflow/core/grappler/optimizers/custom_graph_optimizer_registry.cc:113] Plugin optimizer for device_type GPU is enabled.\n"
     ]
    },
    {
     "data": {
      "image/png": "[encoded data removed]",
      "text/plain": [
       "<Figure size 1000x500 with 2 Axes>"
      ]
     },
     "metadata": {},
     "output_type": "display_data"
    }
   ],
   "source": [
    "model = Sequential()\n",
    "model.add(Dense(30, activation='relu',\n",
    "                input_dim=64))\n",
    "model.add(Dense(20, activation='relu',\n",
    "                kernel_regularizer=l2(l2=0.01)))\n",
    "\n",
    "model.add(Dense(12, activation='relu',\n",
    "                kernel_regularizer=l2(l2=0.01)))\n",
    "model.add(Dense(12, activation='relu',\n",
    "                kernel_regularizer=l2(l2=0.01)))\n",
    "model.add(Dense(12, activation='relu',\n",
    "                kernel_regularizer=l2(l2=0.01)))\n",
    "model.add(Dense(8, activation='relu',\n",
    "                kernel_regularizer=l2(l2=0.01)))\n",
    "model.add(Dense(4, activation='relu',\n",
    "                kernel_regularizer=l2(l2=0.01)))\n",
    "model.add(Dense(1, activation='sigmoid'))\n",
    "\n",
    "model.compile(optimizer='adam',\n",
    "              loss='binary_crossentropy',\n",
    "              metrics=['accuracy'])\n",
    "\n",
    "results = model.fit(X_pure_train, y_pure_train, epochs=20, batch_size=32,\n",
    "                    verbose=0, validation_data=(X_val, y_val))\n",
    "\n",
    "train_loss = results.history['loss']\n",
    "train_acc = results.history['accuracy']\n",
    "val_loss = results.history['val_loss']\n",
    "val_acc = results.history['val_accuracy']\n",
    "\n",
    "\n",
    "fig, (ax1, ax2) = plt.subplots(1, 2, figsize=(10, 5))\n",
    "sns.lineplot(x=results.epoch, y=train_loss, ax=ax1, label='train_loss')\n",
    "sns.lineplot(x=results.epoch, y=train_acc, ax=ax2, label='train_accuracy')\n",
    "\n",
    "sns.lineplot(x=results.epoch, y=val_loss, ax=ax1, label='val_loss')\n",
    "sns.lineplot(x=results.epoch, y=val_acc, ax=ax2, label='val_accuracy');"
   ]
  },
  {
   "cell_type": "markdown",
   "metadata": {
    "heading_collapsed": true,
    "hidden": true
   },
   "source": [
    "### Dropout"
   ]
  },
  {
   "cell_type": "markdown",
   "metadata": {
    "hidden": true
   },
   "source": [
    "We can also specify a dropout layer in keras, which randomly shuts off different nodes during training. This can help to prevent overfitting.\n",
    "\n",
    "![drop_out](images/drop_out.png)"
   ]
  },
  {
   "cell_type": "markdown",
   "metadata": {
    "heading_collapsed": true,
    "hidden": true
   },
   "source": [
    "### Exercise"
   ]
  },
  {
   "cell_type": "markdown",
   "metadata": {
    "hidden": true
   },
   "source": [
    "To add dropout to a `keras` network, simply add it as though it were a layer. It will apply to the immediately preceding layer.\n",
    "\n",
    "Add Dropout to one or more layers below."
   ]
  },
  {
   "cell_type": "code",
   "execution_count": 30,
   "metadata": {
    "ExecuteTime": {
     "end_time": "2023-10-16T02:58:27.548114Z",
     "start_time": "2023-10-16T02:58:18.103072Z"
    },
    "hidden": true
   },
   "outputs": [
    {
     "name": "stderr",
     "output_type": "stream",
     "text": [
      "2023-10-17 15:34:10.928187: I tensorflow/core/grappler/optimizers/custom_graph_optimizer_registry.cc:113] Plugin optimizer for device_type GPU is enabled.\n",
      "2023-10-17 15:34:11.883491: I tensorflow/core/grappler/optimizers/custom_graph_optimizer_registry.cc:113] Plugin optimizer for device_type GPU is enabled.\n"
     ]
    },
    {
     "data": {
      "image/png": "[encoded data removed]",
      "text/plain": [
       "<Figure size 1000x500 with 2 Axes>"
      ]
     },
     "metadata": {},
     "output_type": "display_data"
    }
   ],
   "source": [
    "# model.add(Dropout(0.5))\n",
    "\n",
    "model = Sequential()\n",
    "model.add(Dense(30, activation='relu', input_dim=64))\n",
    "model.add(Dense(20, activation='relu'))\n",
    "\n",
    "model.add(Dropout(0.5))\n",
    "\n",
    "model.add(Dense(12, activation='relu'))\n",
    "\n",
    "model.add(Dropout(0.2))\n",
    "\n",
    "model.add(Dense(12, activation='relu'))\n",
    "model.add(Dense(12, activation='relu'))\n",
    "model.add(Dense(8, activation='relu'))\n",
    "model.add(Dense(4, activation='relu'))\n",
    "model.add(Dense(1, activation ='sigmoid'))\n",
    "\n",
    "model.compile(optimizer='adam',\n",
    "              loss='binary_crossentropy',\n",
    "              metrics=['accuracy'])\n",
    "\n",
    "results = model.fit(X_pure_train, y_pure_train, epochs=50,\n",
    "                    batch_size= 32, verbose=0,\n",
    "                    validation_data=(X_val, y_val))\n",
    "\n",
    "\n",
    "\n",
    "\n",
    "\n",
    "\n",
    "\n",
    "\n",
    "train_loss = results.history['loss']\n",
    "train_acc = results.history['accuracy']\n",
    "val_loss = results.history['val_loss']\n",
    "val_acc = results.history['val_accuracy']\n",
    "\n",
    "\n",
    "fig, (ax1, ax2) = plt.subplots(1, 2, figsize=(10, 5))\n",
    "sns.lineplot(x=results.epoch, y=train_loss, ax=ax1, label='train_loss')\n",
    "sns.lineplot(x=results.epoch, y=train_acc, ax=ax2, label='train_accuracy')\n",
    "\n",
    "sns.lineplot(x=results.epoch, y=val_loss, ax=ax1, label='val_loss')\n",
    "sns.lineplot(x=results.epoch, y=val_acc, ax=ax2, label='val_accuracy');"
   ]
  },
  {
   "cell_type": "markdown",
   "metadata": {
    "hidden": true
   },
   "source": [
    "<details>\n",
    "    <summary>One answer here</summary>\n",
    "<code>model = Sequential()\n",
    "model.add(Dense(30, activation='relu', input_dim=64))\n",
    "model.add(Dense(20, activation='relu'))\n",
    "model.add(Dropout(0.5))\n",
    "model.add(Dense(12, activation='relu'))\n",
    "model.add(Dropout(0.2))\n",
    "model.add(Dense(12, activation='relu'))\n",
    "model.add(Dense(12, activation='relu'))\n",
    "model.add(Dense(8, activation='relu'))\n",
    "model.add(Dense(4, activation='relu'))\n",
    "model.add(Dense(1, activation ='sigmoid'))\n",
    "\n",
    "model.compile(optimizer='adam',\n",
    "              loss='binary_crossentropy',\n",
    "              metrics=['accuracy'])\n",
    "\n",
    "results = model.fit(X_pure_train, y_pure_train, epochs=50,\n",
    "                    batch_size= 32, verbose=0,\n",
    "                    validation_data=(X_val, y_val))\n",
    "\n",
    "train_loss = results.history['loss']\n",
    "train_acc = results.history['accuracy']\n",
    "val_loss = results.history['val_loss']\n",
    "val_acc = results.history['val_accuracy']\n",
    "\n",
    "\n",
    "fig, (ax1, ax2) = plt.subplots(1, 2, figsize=(10, 5))\n",
    "sns.lineplot(x=results.epoch, y=train_loss, ax=ax1, label='train_loss')\n",
    "sns.lineplot(x=results.epoch, y=train_acc, ax=ax2, label='train_accuracy')\n",
    "\n",
    "sns.lineplot(x=results.epoch, y=val_loss, ax=ax1, label='val_loss')\n",
    "sns.lineplot(x=results.epoch, y=val_acc, ax=ax2, label='val_accuracy');</code>\n",
    "</details>"
   ]
  },
  {
   "cell_type": "code",
   "execution_count": 31,
   "metadata": {
    "ExecuteTime": {
     "end_time": "2023-10-16T02:58:34.087381Z",
     "start_time": "2023-10-16T02:58:33.973649Z"
    },
    "hidden": true
   },
   "outputs": [
    {
     "data": {
      "text/plain": [
       "0.9791666865348816"
      ]
     },
     "execution_count": 31,
     "metadata": {},
     "output_type": "execute_result"
    }
   ],
   "source": [
    "results.history['val_accuracy'][-1]"
   ]
  },
  {
   "cell_type": "code",
   "execution_count": 32,
   "metadata": {
    "ExecuteTime": {
     "end_time": "2023-10-16T02:58:34.678055Z",
     "start_time": "2023-10-16T02:58:34.570055Z"
    },
    "hidden": true
   },
   "outputs": [
    {
     "data": {
      "text/plain": [
       "0.9947780966758728"
      ]
     },
     "execution_count": 32,
     "metadata": {},
     "output_type": "execute_result"
    }
   ],
   "source": [
    "results.history['accuracy'][-1]"
   ]
  },
  {
   "cell_type": "markdown",
   "metadata": {
    "heading_collapsed": true,
    "hidden": true
   },
   "source": [
    "### Early Stopping"
   ]
  },
  {
   "cell_type": "markdown",
   "metadata": {
    "hidden": true
   },
   "source": [
    "We can also tell our neural network to stop once it stops realizing any gain.\n",
    "\n",
    "Here we tell it to stop once the a very small positive change in the validation loss occurs:"
   ]
  },
  {
   "cell_type": "code",
   "execution_count": 34,
   "metadata": {
    "ExecuteTime": {
     "end_time": "2023-10-16T03:01:56.569003Z",
     "start_time": "2023-10-16T03:01:55.027035Z"
    },
    "hidden": true
   },
   "outputs": [
    {
     "name": "stdout",
     "output_type": "stream",
     "text": [
      "Epoch 1/20\n"
     ]
    },
    {
     "name": "stderr",
     "output_type": "stream",
     "text": [
      "2023-10-17 15:40:21.756903: I tensorflow/core/grappler/optimizers/custom_graph_optimizer_registry.cc:113] Plugin optimizer for device_type GPU is enabled.\n"
     ]
    },
    {
     "name": "stdout",
     "output_type": "stream",
     "text": [
      "36/36 [==============================] - 1s 19ms/step - loss: 0.7059 - accuracy: 0.5309 - val_loss: 0.6700 - val_accuracy: 0.7049\n",
      "Epoch 2/20\n",
      " 8/36 [=====>........................] - ETA: 0s - loss: 0.6686 - accuracy: 0.6211"
     ]
    },
    {
     "name": "stderr",
     "output_type": "stream",
     "text": [
      "2023-10-17 15:40:22.638988: I tensorflow/core/grappler/optimizers/custom_graph_optimizer_registry.cc:113] Plugin optimizer for device_type GPU is enabled.\n"
     ]
    },
    {
     "name": "stdout",
     "output_type": "stream",
     "text": [
      "36/36 [==============================] - 0s 9ms/step - loss: 0.6451 - accuracy: 0.6406 - val_loss: 0.6069 - val_accuracy: 0.7153\n",
      "Epoch 3/20\n",
      "36/36 [==============================] - 0s 9ms/step - loss: 0.5563 - accuracy: 0.7250 - val_loss: 0.4741 - val_accuracy: 0.8125\n",
      "Epoch 4/20\n",
      "36/36 [==============================] - 0s 8ms/step - loss: 0.4448 - accuracy: 0.8068 - val_loss: 0.3681 - val_accuracy: 0.8819\n",
      "Epoch 5/20\n",
      "36/36 [==============================] - 0s 8ms/step - loss: 0.3710 - accuracy: 0.8477 - val_loss: 0.2855 - val_accuracy: 0.9028\n",
      "Epoch 6/20\n",
      "36/36 [==============================] - 0s 8ms/step - loss: 0.3227 - accuracy: 0.8625 - val_loss: 0.2270 - val_accuracy: 0.9097\n",
      "Epoch 7/20\n",
      "36/36 [==============================] - 0s 9ms/step - loss: 0.2637 - accuracy: 0.8921 - val_loss: 0.1967 - val_accuracy: 0.9271\n",
      "Epoch 8/20\n",
      "36/36 [==============================] - 0s 9ms/step - loss: 0.2409 - accuracy: 0.9060 - val_loss: 0.1814 - val_accuracy: 0.9271\n",
      "Epoch 9/20\n",
      "36/36 [==============================] - 0s 9ms/step - loss: 0.2154 - accuracy: 0.9208 - val_loss: 0.1572 - val_accuracy: 0.9444\n",
      "Epoch 10/20\n",
      "36/36 [==============================] - 0s 9ms/step - loss: 0.1851 - accuracy: 0.9339 - val_loss: 0.1486 - val_accuracy: 0.9444\n",
      "Epoch 11/20\n",
      "36/36 [==============================] - 0s 10ms/step - loss: 0.1649 - accuracy: 0.9399 - val_loss: 0.1319 - val_accuracy: 0.9583\n",
      "Epoch 12/20\n",
      "36/36 [==============================] - 0s 13ms/step - loss: 0.1526 - accuracy: 0.9391 - val_loss: 0.1280 - val_accuracy: 0.9549\n",
      "Epoch 13/20\n",
      "36/36 [==============================] - 0s 8ms/step - loss: 0.1389 - accuracy: 0.9513 - val_loss: 0.1191 - val_accuracy: 0.9549\n",
      "Epoch 14/20\n",
      "36/36 [==============================] - 0s 8ms/step - loss: 0.1156 - accuracy: 0.9539 - val_loss: 0.1110 - val_accuracy: 0.9653\n",
      "Epoch 15/20\n",
      "36/36 [==============================] - 0s 8ms/step - loss: 0.1076 - accuracy: 0.9608 - val_loss: 0.1048 - val_accuracy: 0.9583\n",
      "Epoch 16/20\n",
      "36/36 [==============================] - 0s 8ms/step - loss: 0.1022 - accuracy: 0.9600 - val_loss: 0.1123 - val_accuracy: 0.9583\n",
      "Epoch 17/20\n",
      "36/36 [==============================] - 0s 9ms/step - loss: 0.0821 - accuracy: 0.9687 - val_loss: 0.0990 - val_accuracy: 0.9618\n",
      "Epoch 18/20\n",
      "36/36 [==============================] - 0s 8ms/step - loss: 0.0773 - accuracy: 0.9739 - val_loss: 0.0938 - val_accuracy: 0.9688\n",
      "Epoch 19/20\n",
      "36/36 [==============================] - 0s 9ms/step - loss: 0.0871 - accuracy: 0.9661 - val_loss: 0.1079 - val_accuracy: 0.9653\n",
      "Epoch 20/20\n",
      "36/36 [==============================] - 0s 9ms/step - loss: 0.0624 - accuracy: 0.9800 - val_loss: 0.0896 - val_accuracy: 0.9653\n"
     ]
    },
    {
     "data": {
      "image/png": "[encoded data removed]",
      "text/plain": [
       "<Figure size 1000x500 with 2 Axes>"
      ]
     },
     "metadata": {},
     "output_type": "display_data"
    }
   ],
   "source": [
    "model = Sequential()\n",
    "model.add(Dense(30, activation='relu', input_dim=64))\n",
    "model.add(Dense(20, activation='relu'))\n",
    "model.add(Dropout(0.5))\n",
    "model.add(Dense(12, activation='relu'))\n",
    "model.add(Dense(12, activation='relu'))\n",
    "model.add(Dense(12, activation='relu'))\n",
    "model.add(Dense(8, activation='relu'))\n",
    "model.add(Dense(4, activation='relu'))\n",
    "model.add(Dense(1, activation ='sigmoid'))\n",
    "\n",
    "model.compile(optimizer='adam',\n",
    "              loss='binary_crossentropy',\n",
    "              metrics=['accuracy'])\n",
    "\n",
    "# Define the EarlyStopping object\n",
    "early_stop = EarlyStopping(monitor='val_loss', min_delta=1e-4,\n",
    "                           verbose=1,\n",
    "                           patience=5,\n",
    "                           mode='min')\n",
    "\n",
    "# Place this in a list as the value of the `callbacks` parameter\n",
    "# in the `.fit()` method.\n",
    "results = model.fit(X_pure_train, y_pure_train,\n",
    "                    epochs=20, batch_size=32,\n",
    "                    verbose=1, validation_data=(X_val, y_val),\n",
    "                    callbacks=[early_stop])\n",
    "\n",
    "train_loss = results.history['loss']\n",
    "train_acc = results.history['accuracy']\n",
    "val_loss = results.history['val_loss']\n",
    "val_acc = results.history['val_accuracy']\n",
    "\n",
    "\n",
    "fig, (ax1, ax2) = plt.subplots(1, 2, figsize=(10, 5))\n",
    "sns.lineplot(x=results.epoch, y=train_loss, ax=ax1, label='train_loss')\n",
    "sns.lineplot(x=results.epoch, y=train_acc, ax=ax2, label='train_accuracy')\n",
    "\n",
    "sns.lineplot(x=results.epoch, y=val_loss, ax=ax1, label='val_loss')\n",
    "sns.lineplot(x=results.epoch, y=val_acc, ax=ax2, label='val_accuracy');"
   ]
  },
  {
   "cell_type": "markdown",
   "metadata": {
    "heading_collapsed": true,
    "hidden": true
   },
   "source": [
    "### Exercise"
   ]
  },
  {
   "cell_type": "markdown",
   "metadata": {
    "hidden": true
   },
   "source": [
    "That probably stopped too early. We can specify the number of epochs in which it doesn't see decrease in the loss with the `patience` parameter. Modify the code below to include an Early Stop with a patience of 5 epochs."
   ]
  },
  {
   "cell_type": "code",
   "execution_count": null,
   "metadata": {
    "ExecuteTime": {
     "end_time": "2023-10-16T03:02:13.470343Z",
     "start_time": "2023-10-16T03:02:09.126373Z"
    },
    "hidden": true
   },
   "outputs": [],
   "source": [
    "model = Sequential()\n",
    "model.add(Dense(30, activation='relu', input_dim=64))\n",
    "model.add(Dense(20, activation='relu'))\n",
    "model.add(Dropout(0.5))\n",
    "model.add(Dense(12, activation='relu'))\n",
    "model.add(Dense(12, activation='relu'))\n",
    "model.add(Dense(12, activation='relu'))\n",
    "model.add(Dense(8, activation='relu'))\n",
    "model.add(Dense(4, activation='relu'))\n",
    "model.add(Dense(1, activation ='sigmoid'))\n",
    "\n",
    "model.compile(optimizer='adam',\n",
    "              loss='binary_crossentropy',\n",
    "              metrics=['accuracy'])\n",
    "\n",
    "# Define the EarlyStopping object\n",
    "early_stop = EarlyStopping(monitor='val_loss', min_delta=1e-8,\n",
    "                           verbose=1, \n",
    "                           patience=5,\n",
    "                           mode='min')\n",
    "\n",
    "# Place this in a list as the value of the `callbacks` parameter\n",
    "# in the `.fit()` method.\n",
    "results = model.fit(X_pure_train, y_pure_train,\n",
    "                    epochs=50, batch_size= 32,\n",
    "                    verbose=0, validation_data=(X_val, y_val),\n",
    "                    callbacks=[early_stop])\n",
    "\n",
    "train_loss = results.history['loss']\n",
    "train_acc = results.history['accuracy']\n",
    "val_loss = results.history['val_loss']\n",
    "val_acc = results.history['val_accuracy']\n",
    "\n",
    "\n",
    "fig, (ax1, ax2) = plt.subplots(1, 2, figsize=(10, 5))\n",
    "sns.lineplot(x=results.epoch, y=train_loss, ax=ax1, label='train_loss')\n",
    "sns.lineplot(x=results.epoch, y=train_acc, ax=ax2, label='train_accuracy')\n",
    "\n",
    "sns.lineplot(x=results.epoch, y=val_loss, ax=ax1, label='val_loss')\n",
    "sns.lineplot(x=results.epoch, y=val_acc, ax=ax2, label='val_accuracy');"
   ]
  },
  {
   "cell_type": "markdown",
   "metadata": {
    "hidden": true
   },
   "source": [
    "<details>\n",
    "    <summary>One answer here</summary>\n",
    "<code>model = Sequential()\n",
    "model.add(Dense(30, activation='relu', input_dim=64))\n",
    "model.add(Dense(20, activation='relu'))\n",
    "model.add(Dropout(0.5))\n",
    "model.add(Dense(12, activation='relu'))\n",
    "model.add(Dense(12, activation='relu'))\n",
    "model.add(Dense(12, activation='relu'))\n",
    "model.add(Dense(8, activation='relu'))\n",
    "model.add(Dense(4, activation='relu'))\n",
    "model.add(Dense(1, activation ='sigmoid'))\n",
    "\n",
    "model.compile(optimizer='adam',\n",
    "              loss='binary_crossentropy',\n",
    "              metrics=['accuracy'])\n",
    "\n",
    "# Define the EarlyStopping object\n",
    "\n",
    "\n",
    "\n",
    "# Place this in a list as the value of the `callbacks` parameter\n",
    "# in the `.fit()` method.\n",
    "results = model.fit(X_pure_train, y_pure_train,\n",
    "                    epochs=50, batch_size= 32,\n",
    "                    verbose=0, validation_data=(X_val, y_val),\n",
    "                    callbacks=[early_stop])\n",
    "\n",
    "train_loss = results.history['loss']\n",
    "train_acc = results.history['accuracy']\n",
    "val_loss = results.history['val_loss']\n",
    "val_acc = results.history['val_accuracy']\n",
    "\n",
    "\n",
    "fig, (ax1, ax2) = plt.subplots(1, 2, figsize=(10, 5))\n",
    "sns.lineplot(x=results.epoch, y=train_loss, ax=ax1, label='train_loss')\n",
    "sns.lineplot(x=results.epoch, y=train_acc, ax=ax2, label='train_accuracy')\n",
    "\n",
    "sns.lineplot(x=results.epoch, y=val_loss, ax=ax1, label='val_loss')\n",
    "sns.lineplot(x=results.epoch, y=val_acc, ax=ax2, label='val_accuracy');</code>\n",
    "</details>"
   ]
  },
  {
   "cell_type": "code",
   "execution_count": null,
   "metadata": {
    "ExecuteTime": {
     "end_time": "2023-10-16T03:02:20.250416Z",
     "start_time": "2023-10-16T03:02:20.130295Z"
    },
    "hidden": true
   },
   "outputs": [],
   "source": [
    "results.history['val_accuracy'][-1]"
   ]
  },
  {
   "cell_type": "code",
   "execution_count": null,
   "metadata": {
    "ExecuteTime": {
     "end_time": "2023-10-16T03:02:20.843297Z",
     "start_time": "2023-10-16T03:02:20.735297Z"
    },
    "hidden": true
   },
   "outputs": [],
   "source": [
    "results.history['accuracy'][-1]"
   ]
  },
  {
   "cell_type": "markdown",
   "metadata": {
    "heading_collapsed": true,
    "hidden": true
   },
   "source": [
    "## Multiclass Classification and Softmax"
   ]
  },
  {
   "cell_type": "markdown",
   "metadata": {
    "hidden": true
   },
   "source": [
    "Now let's return to the problem of predicting digits 0 through 9."
   ]
  },
  {
   "cell_type": "code",
   "execution_count": 35,
   "metadata": {
    "ExecuteTime": {
     "end_time": "2023-10-16T03:02:25.088716Z",
     "start_time": "2023-10-16T03:02:24.934687Z"
    },
    "hidden": true
   },
   "outputs": [],
   "source": [
    "digits = load_digits()\n",
    "X = digits.data\n",
    "y = digits.target"
   ]
  },
  {
   "cell_type": "code",
   "execution_count": 36,
   "metadata": {
    "ExecuteTime": {
     "end_time": "2023-10-16T03:02:26.359134Z",
     "start_time": "2023-10-16T03:02:26.254529Z"
    },
    "hidden": true
   },
   "outputs": [],
   "source": [
    "X_train, X_test, y_train, y_test = train_test_split(X, y,\n",
    "                                                    random_state=42,\n",
    "                                                    test_size=0.2)\n",
    "X_pure_train, X_val, y_pure_train, y_val =\\\n",
    "    train_test_split(X_train, y_train,\n",
    "                     random_state=42, test_size=0.2)\n",
    "X_pure_train, X_val, X_test = X_pure_train/16, X_val/16, X_test/16"
   ]
  },
  {
   "cell_type": "markdown",
   "metadata": {
    "hidden": true
   },
   "source": [
    "For a multiclass output, our neural net expects our target to be in a certain form."
   ]
  },
  {
   "cell_type": "code",
   "execution_count": null,
   "metadata": {
    "ExecuteTime": {
     "end_time": "2023-10-16T03:02:28.828868Z",
     "start_time": "2023-10-16T03:02:28.717867Z"
    },
    "hidden": true
   },
   "outputs": [],
   "source": [
    "y_test[0]"
   ]
  },
  {
   "cell_type": "code",
   "execution_count": 37,
   "metadata": {
    "ExecuteTime": {
     "end_time": "2023-10-16T03:02:36.427533Z",
     "start_time": "2023-10-16T03:02:36.313559Z"
    },
    "hidden": true
   },
   "outputs": [
    {
     "name": "stderr",
     "output_type": "stream",
     "text": [
      "/Users/danayt/anaconda3/envs/learn-env/lib/python3.9/site-packages/sklearn/preprocessing/_encoders.py:975: FutureWarning: `sparse` was renamed to `sparse_output` in version 1.2 and will be removed in 1.4. `sparse_output` is ignored unless you leave `sparse` to its default value.\n",
      "  warnings.warn(\n"
     ]
    }
   ],
   "source": [
    "ohe = OneHotEncoder(sparse=False)\n",
    "y_pure_train = ohe.fit_transform(y_pure_train.reshape(-1,1))\n",
    "y_val = ohe.transform(y_val.reshape(-1,1))\n",
    "y_test = ohe.transform(y_test.reshape(-1,1))"
   ]
  },
  {
   "cell_type": "code",
   "execution_count": 38,
   "metadata": {
    "ExecuteTime": {
     "end_time": "2023-10-16T03:02:37.040568Z",
     "start_time": "2023-10-16T03:02:36.930534Z"
    },
    "hidden": true
   },
   "outputs": [
    {
     "data": {
      "text/plain": [
       "array([0., 0., 0., 0., 0., 0., 1., 0., 0., 0.])"
      ]
     },
     "execution_count": 38,
     "metadata": {},
     "output_type": "execute_result"
    }
   ],
   "source": [
    "y_test[0]"
   ]
  },
  {
   "cell_type": "code",
   "execution_count": 39,
   "metadata": {
    "ExecuteTime": {
     "end_time": "2023-10-16T03:03:12.127906Z",
     "start_time": "2023-10-16T03:02:48.124764Z"
    },
    "hidden": true
   },
   "outputs": [
    {
     "name": "stdout",
     "output_type": "stream",
     "text": [
      "Epoch 1/50\n"
     ]
    },
    {
     "name": "stderr",
     "output_type": "stream",
     "text": [
      "2023-10-17 15:40:55.657875: I tensorflow/core/grappler/optimizers/custom_graph_optimizer_registry.cc:113] Plugin optimizer for device_type GPU is enabled.\n"
     ]
    },
    {
     "name": "stdout",
     "output_type": "stream",
     "text": [
      "115/115 [==============================] - ETA: 0s - loss: 2.1330 - accuracy: 0.2002 - precision: 0.0000e+00"
     ]
    },
    {
     "name": "stderr",
     "output_type": "stream",
     "text": [
      "2023-10-17 15:40:58.111575: I tensorflow/core/grappler/optimizers/custom_graph_optimizer_registry.cc:113] Plugin optimizer for device_type GPU is enabled.\n"
     ]
    },
    {
     "name": "stdout",
     "output_type": "stream",
     "text": [
      "115/115 [==============================] - 3s 17ms/step - loss: 2.1330 - accuracy: 0.2002 - precision: 0.0000e+00 - val_loss: 2.0309 - val_accuracy: 0.2951 - val_precision: 0.0000e+00\n",
      "Epoch 2/50\n",
      "115/115 [==============================] - 2s 13ms/step - loss: 1.8498 - accuracy: 0.4134 - precision: 0.0000e+00 - val_loss: 1.7580 - val_accuracy: 0.3958 - val_precision: 1.0000\n",
      "Epoch 3/50\n",
      "115/115 [==============================] - 1s 12ms/step - loss: 1.5615 - accuracy: 0.5161 - precision: 1.0000 - val_loss: 1.5008 - val_accuracy: 0.4931 - val_precision: 0.9773\n",
      "Epoch 4/50\n",
      "115/115 [==============================] - 1s 12ms/step - loss: 1.2771 - accuracy: 0.6292 - precision: 1.0000 - val_loss: 1.1914 - val_accuracy: 0.6632 - val_precision: 0.9868\n",
      "Epoch 5/50\n",
      "115/115 [==============================] - 1s 12ms/step - loss: 0.9899 - accuracy: 0.7598 - precision: 0.9770 - val_loss: 0.9088 - val_accuracy: 0.7951 - val_precision: 0.9587\n",
      "Epoch 6/50\n",
      "115/115 [==============================] - 1s 11ms/step - loss: 0.7596 - accuracy: 0.8198 - precision: 0.9655 - val_loss: 0.7193 - val_accuracy: 0.8264 - val_precision: 0.9399\n",
      "Epoch 7/50\n",
      "115/115 [==============================] - 1s 12ms/step - loss: 0.6228 - accuracy: 0.8442 - precision: 0.9567 - val_loss: 0.6152 - val_accuracy: 0.8472 - val_precision: 0.9519\n",
      "Epoch 8/50\n",
      "115/115 [==============================] - 1s 11ms/step - loss: 0.5313 - accuracy: 0.8686 - precision: 0.9552 - val_loss: 0.5399 - val_accuracy: 0.8542 - val_precision: 0.9345\n",
      "Epoch 9/50\n",
      "115/115 [==============================] - 1s 11ms/step - loss: 0.4716 - accuracy: 0.8747 - precision: 0.9452 - val_loss: 0.4953 - val_accuracy: 0.8750 - val_precision: 0.9502\n",
      "Epoch 10/50\n",
      "115/115 [==============================] - 1s 11ms/step - loss: 0.4249 - accuracy: 0.8869 - precision: 0.9406 - val_loss: 0.4664 - val_accuracy: 0.8681 - val_precision: 0.9252\n",
      "Epoch 11/50\n",
      "115/115 [==============================] - 1s 11ms/step - loss: 0.3918 - accuracy: 0.8938 - precision: 0.9495 - val_loss: 0.4356 - val_accuracy: 0.8715 - val_precision: 0.9363\n",
      "Epoch 12/50\n",
      "115/115 [==============================] - 1s 11ms/step - loss: 0.3618 - accuracy: 0.8999 - precision: 0.9529 - val_loss: 0.4050 - val_accuracy: 0.8819 - val_precision: 0.9377\n",
      "Epoch 13/50\n",
      "115/115 [==============================] - 1s 13ms/step - loss: 0.3413 - accuracy: 0.9051 - precision: 0.9422 - val_loss: 0.3791 - val_accuracy: 0.8715 - val_precision: 0.9176\n",
      "Epoch 14/50\n",
      "115/115 [==============================] - 1s 11ms/step - loss: 0.3223 - accuracy: 0.9069 - precision: 0.9446 - val_loss: 0.3683 - val_accuracy: 0.8819 - val_precision: 0.9211\n",
      "Epoch 15/50\n",
      "115/115 [==============================] - 1s 11ms/step - loss: 0.3021 - accuracy: 0.9095 - precision: 0.9498 - val_loss: 0.3469 - val_accuracy: 0.8958 - val_precision: 0.9398\n",
      "Epoch 16/50\n",
      "115/115 [==============================] - 1s 11ms/step - loss: 0.2860 - accuracy: 0.9164 - precision: 0.9516 - val_loss: 0.3119 - val_accuracy: 0.8854 - val_precision: 0.9262\n",
      "Epoch 17/50\n",
      "115/115 [==============================] - 1s 11ms/step - loss: 0.2711 - accuracy: 0.9182 - precision: 0.9514 - val_loss: 0.3056 - val_accuracy: 0.9028 - val_precision: 0.9304\n",
      "Epoch 18/50\n",
      "115/115 [==============================] - 1s 11ms/step - loss: 0.2582 - accuracy: 0.9243 - precision: 0.9535 - val_loss: 0.2880 - val_accuracy: 0.9028 - val_precision: 0.9270\n",
      "Epoch 19/50\n",
      "115/115 [==============================] - 1s 11ms/step - loss: 0.2442 - accuracy: 0.9278 - precision: 0.9519 - val_loss: 0.2887 - val_accuracy: 0.9167 - val_precision: 0.9442\n",
      "Epoch 20/50\n",
      "115/115 [==============================] - 1s 12ms/step - loss: 0.2346 - accuracy: 0.9304 - precision: 0.9574 - val_loss: 0.2611 - val_accuracy: 0.9062 - val_precision: 0.9239\n",
      "Epoch 21/50\n",
      "115/115 [==============================] - 1s 11ms/step - loss: 0.2236 - accuracy: 0.9408 - precision: 0.9607 - val_loss: 0.2603 - val_accuracy: 0.9132 - val_precision: 0.9304\n",
      "Epoch 22/50\n",
      "115/115 [==============================] - 1s 11ms/step - loss: 0.2129 - accuracy: 0.9382 - precision: 0.9609 - val_loss: 0.2499 - val_accuracy: 0.9132 - val_precision: 0.9341\n",
      "Epoch 23/50\n",
      "115/115 [==============================] - 1s 12ms/step - loss: 0.2064 - accuracy: 0.9417 - precision: 0.9612 - val_loss: 0.2393 - val_accuracy: 0.9132 - val_precision: 0.9414\n",
      "Epoch 24/50\n",
      "115/115 [==============================] - 1s 13ms/step - loss: 0.1972 - accuracy: 0.9426 - precision: 0.9620 - val_loss: 0.2338 - val_accuracy: 0.9271 - val_precision: 0.9524\n",
      "Epoch 25/50\n",
      "115/115 [==============================] - 1s 12ms/step - loss: 0.1899 - accuracy: 0.9399 - precision: 0.9578 - val_loss: 0.2225 - val_accuracy: 0.9167 - val_precision: 0.9493\n",
      "Epoch 26/50\n",
      "115/115 [==============================] - 1s 12ms/step - loss: 0.1838 - accuracy: 0.9434 - precision: 0.9615 - val_loss: 0.2127 - val_accuracy: 0.9306 - val_precision: 0.9631\n",
      "Epoch 27/50\n",
      "115/115 [==============================] - 1s 12ms/step - loss: 0.1773 - accuracy: 0.9452 - precision: 0.9631 - val_loss: 0.2128 - val_accuracy: 0.9306 - val_precision: 0.9529\n",
      "Epoch 28/50\n",
      "115/115 [==============================] - 1s 12ms/step - loss: 0.1690 - accuracy: 0.9513 - precision: 0.9668 - val_loss: 0.2027 - val_accuracy: 0.9236 - val_precision: 0.9431\n",
      "Epoch 29/50\n",
      "115/115 [==============================] - 1s 12ms/step - loss: 0.1621 - accuracy: 0.9495 - precision: 0.9641 - val_loss: 0.2179 - val_accuracy: 0.9306 - val_precision: 0.9500\n",
      "Epoch 30/50\n",
      "115/115 [==============================] - 1s 12ms/step - loss: 0.1576 - accuracy: 0.9547 - precision: 0.9668 - val_loss: 0.1973 - val_accuracy: 0.9340 - val_precision: 0.9496\n",
      "Epoch 31/50\n",
      "115/115 [==============================] - 1s 12ms/step - loss: 0.1515 - accuracy: 0.9556 - precision: 0.9688 - val_loss: 0.1885 - val_accuracy: 0.9410 - val_precision: 0.9568\n",
      "Epoch 32/50\n",
      "115/115 [==============================] - 1s 11ms/step - loss: 0.1429 - accuracy: 0.9600 - precision: 0.9723 - val_loss: 0.1894 - val_accuracy: 0.9340 - val_precision: 0.9536\n",
      "Epoch 33/50\n",
      "115/115 [==============================] - 1s 11ms/step - loss: 0.1448 - accuracy: 0.9591 - precision: 0.9697 - val_loss: 0.1770 - val_accuracy: 0.9410 - val_precision: 0.9607\n",
      "Epoch 34/50\n",
      "115/115 [==============================] - 1s 12ms/step - loss: 0.1361 - accuracy: 0.9600 - precision: 0.9698 - val_loss: 0.1723 - val_accuracy: 0.9479 - val_precision: 0.9643\n",
      "Epoch 35/50\n",
      "115/115 [==============================] - 2s 13ms/step - loss: 0.1311 - accuracy: 0.9608 - precision: 0.9708 - val_loss: 0.1683 - val_accuracy: 0.9444 - val_precision: 0.9610\n",
      "Epoch 36/50\n",
      "115/115 [==============================] - 1s 13ms/step - loss: 0.1290 - accuracy: 0.9574 - precision: 0.9734 - val_loss: 0.1613 - val_accuracy: 0.9444 - val_precision: 0.9544\n",
      "Epoch 37/50\n",
      "115/115 [==============================] - 2s 13ms/step - loss: 0.1261 - accuracy: 0.9617 - precision: 0.9708 - val_loss: 0.1600 - val_accuracy: 0.9444 - val_precision: 0.9574\n",
      "Epoch 38/50\n",
      "115/115 [==============================] - 1s 13ms/step - loss: 0.1186 - accuracy: 0.9669 - precision: 0.9761 - val_loss: 0.1524 - val_accuracy: 0.9410 - val_precision: 0.9574\n",
      "Epoch 39/50\n",
      "115/115 [==============================] - 2s 13ms/step - loss: 0.1172 - accuracy: 0.9661 - precision: 0.9750 - val_loss: 0.1498 - val_accuracy: 0.9444 - val_precision: 0.9576\n",
      "Epoch 40/50\n",
      "115/115 [==============================] - 1s 12ms/step - loss: 0.1155 - accuracy: 0.9669 - precision: 0.9727 - val_loss: 0.1578 - val_accuracy: 0.9514 - val_precision: 0.9607\n",
      "Epoch 41/50\n",
      "115/115 [==============================] - 1s 12ms/step - loss: 0.1097 - accuracy: 0.9687 - precision: 0.9787 - val_loss: 0.1528 - val_accuracy: 0.9479 - val_precision: 0.9609\n",
      "Epoch 42/50\n",
      "115/115 [==============================] - 1s 11ms/step - loss: 0.1065 - accuracy: 0.9687 - precision: 0.9753 - val_loss: 0.1514 - val_accuracy: 0.9444 - val_precision: 0.9573\n",
      "Epoch 43/50\n",
      "115/115 [==============================] - 1s 11ms/step - loss: 0.1008 - accuracy: 0.9774 - precision: 0.9824 - val_loss: 0.1464 - val_accuracy: 0.9444 - val_precision: 0.9542\n",
      "Epoch 44/50\n",
      "115/115 [==============================] - 1s 12ms/step - loss: 0.0996 - accuracy: 0.9739 - precision: 0.9806 - val_loss: 0.1502 - val_accuracy: 0.9479 - val_precision: 0.9576\n",
      "Epoch 45/50\n",
      "115/115 [==============================] - 1s 12ms/step - loss: 0.1009 - accuracy: 0.9687 - precision: 0.9744 - val_loss: 0.1420 - val_accuracy: 0.9444 - val_precision: 0.9576\n",
      "Epoch 46/50\n",
      "115/115 [==============================] - 1s 11ms/step - loss: 0.0960 - accuracy: 0.9739 - precision: 0.9823 - val_loss: 0.1385 - val_accuracy: 0.9479 - val_precision: 0.9577\n",
      "Epoch 47/50\n",
      "115/115 [==============================] - 1s 11ms/step - loss: 0.0908 - accuracy: 0.9782 - precision: 0.9859 - val_loss: 0.1651 - val_accuracy: 0.9444 - val_precision: 0.9574\n",
      "Epoch 48/50\n",
      "115/115 [==============================] - 1s 11ms/step - loss: 0.0921 - accuracy: 0.9748 - precision: 0.9823 - val_loss: 0.1343 - val_accuracy: 0.9514 - val_precision: 0.9577\n",
      "Epoch 49/50\n",
      "115/115 [==============================] - 1s 11ms/step - loss: 0.0843 - accuracy: 0.9756 - precision: 0.9815 - val_loss: 0.1345 - val_accuracy: 0.9583 - val_precision: 0.9645\n",
      "Epoch 50/50\n",
      "115/115 [==============================] - 1s 12ms/step - loss: 0.0828 - accuracy: 0.9791 - precision: 0.9859 - val_loss: 0.1368 - val_accuracy: 0.9514 - val_precision: 0.9645\n"
     ]
    }
   ],
   "source": [
    "# Model from above, but now with ten output neurons:\n",
    "\n",
    "model = Sequential()\n",
    "model.add(Dense(12, activation='relu', input_dim=64))\n",
    "model.add(Dense(8, activation='relu'))\n",
    "model.add(Dense(10, activation='softmax'))\n",
    "\n",
    "model.compile(optimizer='adam',\n",
    "              loss='categorical_crossentropy',\n",
    "              metrics=['accuracy', Precision()])\n",
    "\n",
    "results = model.fit(X_pure_train, y_pure_train,\n",
    "                   epochs=50, batch_size=10,\n",
    "                   validation_data=(X_val, y_val))"
   ]
  },
  {
   "cell_type": "markdown",
   "metadata": {
    "hidden": true
   },
   "source": [
    "$$\\large \\text{Softmax}(x_{i}) = \\frac{\\exp(x_i)}{\\sum_j \\exp(x_j)}$$\n",
    "\n",
    "The sofmax function outputs a number between 0 and 1 for each of our classes.  All of the probabilities of the classes sum up to 1.\n",
    "\n",
    "The number of nodes in our output layer equals the number of categories in our dataset.\n",
    "\n",
    "We also need a new loss function: **categorical crossentropy**, which calculates a separate loss for each label and then sums the results."
   ]
  },
  {
   "cell_type": "code",
   "execution_count": 40,
   "metadata": {
    "ExecuteTime": {
     "end_time": "2023-10-16T03:03:29.634298Z",
     "start_time": "2023-10-16T03:03:29.532192Z"
    },
    "hidden": true
   },
   "outputs": [],
   "source": [
    "history = results.history\n",
    "training_loss = history['loss']\n",
    "val_loss = history['val_loss']\n",
    "training_accuracy = history['accuracy']\n",
    "val_accuracy = history['val_accuracy']"
   ]
  },
  {
   "cell_type": "code",
   "execution_count": 41,
   "metadata": {
    "ExecuteTime": {
     "end_time": "2023-10-16T03:03:32.385811Z",
     "start_time": "2023-10-16T03:03:32.048812Z"
    },
    "hidden": true
   },
   "outputs": [
    {
     "data": {
      "image/png": "[encoded data removed]",
      "text/plain": [
       "<Figure size 1500x500 with 2 Axes>"
      ]
     },
     "metadata": {},
     "output_type": "display_data"
    }
   ],
   "source": [
    "fig, (ax1,ax2) = plt.subplots(1,2,figsize=(15,5))\n",
    "\n",
    "\n",
    "sns.lineplot(x=list(range(len(training_loss))),\n",
    "             y=training_loss, color='r', label='training', ax=ax1)\n",
    "sns.lineplot(x=list(range(len(val_loss))),\n",
    "             y=val_loss, color='b', label='validation', ax=ax1)\n",
    "sns.lineplot(x=list(range(len(training_loss))),\n",
    "             y=training_accuracy, color='r', label='training',ax=ax2)\n",
    "sns.lineplot(x=list(range(len(val_loss))),\n",
    "             y=val_accuracy, color='b', label='validation',ax=ax2)\n",
    "ax1.legend();"
   ]
  },
  {
   "cell_type": "code",
   "execution_count": 44,
   "metadata": {
    "ExecuteTime": {
     "end_time": "2023-10-16T03:03:38.182845Z",
     "start_time": "2023-10-16T03:03:38.008848Z"
    },
    "hidden": true
   },
   "outputs": [
    {
     "name": "stdout",
     "output_type": "stream",
     "text": [
      "12/12 [==============================] - 0s 3ms/step\n"
     ]
    }
   ],
   "source": [
    "y_hat_test = np.argmax(model.predict(X_test), axis=-1)"
   ]
  },
  {
   "cell_type": "code",
   "execution_count": 46,
   "metadata": {},
   "outputs": [
    {
     "name": "stdout",
     "output_type": "stream",
     "text": [
      "12/12 [==============================] - 0s 2ms/step\n"
     ]
    },
    {
     "data": {
      "text/plain": [
       "0.9999999841315305"
      ]
     },
     "execution_count": 46,
     "metadata": {},
     "output_type": "execute_result"
    }
   ],
   "source": [
    "sum(model.predict(X_test)[0])"
   ]
  },
  {
   "cell_type": "code",
   "execution_count": 43,
   "metadata": {
    "ExecuteTime": {
     "end_time": "2023-10-16T03:03:39.317702Z",
     "start_time": "2023-10-16T03:03:39.204581Z"
    },
    "hidden": true
   },
   "outputs": [
    {
     "data": {
      "text/plain": [
       "array([[33,  0,  0,  0,  0,  0,  0,  0,  0,  0],\n",
       "       [ 1, 27,  0,  0,  0,  0,  0,  0,  0,  0],\n",
       "       [ 0,  1, 29,  2,  0,  0,  0,  0,  1,  0],\n",
       "       [ 0,  0,  1, 32,  0,  1,  0,  0,  0,  0],\n",
       "       [ 0,  0,  0,  0, 46,  0,  0,  0,  0,  0],\n",
       "       [ 0,  0,  0,  0,  0, 45,  0,  0,  1,  1],\n",
       "       [ 1,  0,  0,  0,  0,  0, 34,  0,  0,  0],\n",
       "       [ 0,  0,  0,  0,  0,  0,  0, 33,  0,  1],\n",
       "       [ 0,  3,  1,  0,  0,  1,  0,  0, 24,  1],\n",
       "       [ 0,  0,  0,  2,  0,  3,  0,  1,  1, 33]])"
      ]
     },
     "execution_count": 43,
     "metadata": {},
     "output_type": "execute_result"
    }
   ],
   "source": [
    "y_test_restore = ohe.inverse_transform(y_test)\n",
    "confusion_matrix(y_test_restore, y_hat_test)"
   ]
  },
  {
   "cell_type": "markdown",
   "metadata": {
    "hidden": true
   },
   "source": [
    "Wow, look at that performance!  \n",
    "\n",
    "That is great, but remember, we were dealing with simple black and white images.  With color, our basic neural net will have less success.\n",
    "\n",
    "We will explore more advanced tools in the coming days.\n"
   ]
  }
 ],
 "metadata": {
  "celltoolbar": "Raw Cell Format",
  "colab": {
   "collapsed_sections": [],
   "name": "intro-to-keras.ipynb",
   "provenance": []
  },
  "kernelspec": {
   "display_name": "Python 3 (ipykernel)",
   "language": "python",
   "name": "python3"
  },
  "language_info": {
   "codemirror_mode": {
    "name": "ipython",
    "version": 3
   },
   "file_extension": ".py",
   "mimetype": "text/x-python",
   "name": "python",
   "nbconvert_exporter": "python",
   "pygments_lexer": "ipython3",
   "version": "3.9.16"
  },
  "toc": {
   "base_numbering": 1,
   "nav_menu": {},
   "number_sections": true,
   "sideBar": true,
   "skip_h1_title": false,
   "title_cell": "Table of Contents",
   "title_sidebar": "Contents",
   "toc_cell": false,
   "toc_position": {},
   "toc_section_display": true,
   "toc_window_display": true
  },
  "varInspector": {
   "cols": {
    "lenName": 16,
    "lenType": 16,
    "lenVar": 40
   },
   "kernels_config": {
    "python": {
     "delete_cmd_postfix": "",
     "delete_cmd_prefix": "del ",
     "library": "var_list.py",
     "varRefreshCmd": "print(var_dic_list())"
    },
    "r": {
     "delete_cmd_postfix": ") ",
     "delete_cmd_prefix": "rm(",
     "library": "var_list.r",
     "varRefreshCmd": "cat(var_dic_list()) "
    }
   },
   "types_to_exclude": [
    "module",
    "function",
    "builtin_function_or_method",
    "instance",
    "_Feature"
   ],
   "window_display": false
  }
 },
 "nbformat": 4,
 "nbformat_minor": 4
}
