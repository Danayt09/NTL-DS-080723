{
 "cells": [
  {
   "cell_type": "markdown",
   "metadata": {
    "toc": true
   },
   "source": [
    "<h1>Table of Contents<span class=\"tocSkip\"></span></h1>\n",
    "<div class=\"toc\"><ul class=\"toc-item\"><li><span><a href=\"#Objectives\" data-toc-modified-id=\"Objectives-1\"><span class=\"toc-item-num\">1&nbsp;&nbsp;</span>Objectives</a></span></li><li><span><a href=\"#When-a-Good-Model-Goes-Bad\" data-toc-modified-id=\"When-a-Good-Model-Goes-Bad-2\"><span class=\"toc-item-num\">2&nbsp;&nbsp;</span>When a Good Model Goes Bad</a></span><ul class=\"toc-item\"><li><span><a href=\"#Bias-Variance-Tradeoff\" data-toc-modified-id=\"Bias-Variance-Tradeoff-2.1\"><span class=\"toc-item-num\">2.1&nbsp;&nbsp;</span>Bias-Variance Tradeoff</a></span><ul class=\"toc-item\"><li><span><a href=\"#Underfitting\" data-toc-modified-id=\"Underfitting-2.1.1\"><span class=\"toc-item-num\">2.1.1&nbsp;&nbsp;</span>Underfitting</a></span></li><li><span><a href=\"#Overfitting\" data-toc-modified-id=\"Overfitting-2.1.2\"><span class=\"toc-item-num\">2.1.2&nbsp;&nbsp;</span>Overfitting</a></span></li></ul></li><li><span><a href=\"#How-Do-We-Identify-a-Bad-Model?-🕵️\" data-toc-modified-id=\"How-Do-We-Identify-a-Bad-Model?-🕵️-2.2\"><span class=\"toc-item-num\">2.2&nbsp;&nbsp;</span>How Do We Identify a Bad Model? 🕵️</a></span><ul class=\"toc-item\"><li><span><a href=\"#Solution---Model-Validation\" data-toc-modified-id=\"Solution---Model-Validation-2.2.1\"><span class=\"toc-item-num\">2.2.1&nbsp;&nbsp;</span>Solution - Model Validation</a></span></li><li><span><a href=\"#Steps:\" data-toc-modified-id=\"Steps:-2.2.2\"><span class=\"toc-item-num\">2.2.2&nbsp;&nbsp;</span>Steps:</a></span></li><li><span><a href=\"#The-Power-of-the-Validation-Set\" data-toc-modified-id=\"The-Power-of-the-Validation-Set-2.2.3\"><span class=\"toc-item-num\">2.2.3&nbsp;&nbsp;</span>The Power of the Validation Set</a></span><ul class=\"toc-item\"><li><span><a href=\"#From-Validation-to-Cross-Validation\" data-toc-modified-id=\"From-Validation-to-Cross-Validation-2.2.3.1\"><span class=\"toc-item-num\">2.2.3.1&nbsp;&nbsp;</span>From Validation to Cross-Validation</a></span></li></ul></li></ul></li></ul></li><li><span><a href=\"#Preventing-Overfitting---Regularization\" data-toc-modified-id=\"Preventing-Overfitting---Regularization-3\"><span class=\"toc-item-num\">3&nbsp;&nbsp;</span>Preventing Overfitting - Regularization</a></span><ul class=\"toc-item\"><li><span><a href=\"#The-Strategy-Behind-Ridge-/-Lasso-/-Elastic-Net\" data-toc-modified-id=\"The-Strategy-Behind-Ridge-/-Lasso-/-Elastic-Net-3.1\"><span class=\"toc-item-num\">3.1&nbsp;&nbsp;</span>The Strategy Behind Ridge / Lasso / Elastic Net</a></span></li><li><span><a href=\"#Ridge-and-Lasso-Regression\" data-toc-modified-id=\"Ridge-and-Lasso-Regression-3.2\"><span class=\"toc-item-num\">3.2&nbsp;&nbsp;</span>Ridge and Lasso Regression</a></span><ul class=\"toc-item\"><li><span><a href=\"#Lasso:-L1-Regularization---Absolute-Value\" data-toc-modified-id=\"Lasso:-L1-Regularization---Absolute-Value-3.2.1\"><span class=\"toc-item-num\">3.2.1&nbsp;&nbsp;</span>Lasso: L1 Regularization - Absolute Value</a></span></li><li><span><a href=\"#Ridge:-L2-Regularization---Squared-Value\" data-toc-modified-id=\"Ridge:-L2-Regularization---Squared-Value-3.2.2\"><span class=\"toc-item-num\">3.2.2&nbsp;&nbsp;</span>Ridge: L2 Regularization - Squared Value</a></span></li><li><span><a href=\"#🤔-Which-Do-I-Use?\" data-toc-modified-id=\"🤔-Which-Do-I-Use?-3.2.3\"><span class=\"toc-item-num\">3.2.3&nbsp;&nbsp;</span>🤔 Which Do I Use?</a></span></li><li><span><a href=\"#The-Best-of-Both-Worlds:-Elastic-Net\" data-toc-modified-id=\"The-Best-of-Both-Worlds:-Elastic-Net-3.2.4\"><span class=\"toc-item-num\">3.2.4&nbsp;&nbsp;</span>The Best of Both Worlds: Elastic Net</a></span></li></ul></li><li><span><a href=\"#Code-it-Out!\" data-toc-modified-id=\"Code-it-Out!-3.3\"><span class=\"toc-item-num\">3.3&nbsp;&nbsp;</span>Code it Out!</a></span><ul class=\"toc-item\"><li><span><a href=\"#Producing-an-Overfit-Model\" data-toc-modified-id=\"Producing-an-Overfit-Model-3.3.1\"><span class=\"toc-item-num\">3.3.1&nbsp;&nbsp;</span>Producing an Overfit Model</a></span><ul class=\"toc-item\"><li><span><a href=\"#Train-Test-Split\" data-toc-modified-id=\"Train-Test-Split-3.3.1.1\"><span class=\"toc-item-num\">3.3.1.1&nbsp;&nbsp;</span>Train-Test Split</a></span></li><li><span><a href=\"#Dummy!\" data-toc-modified-id=\"Dummy!-3.3.1.2\"><span class=\"toc-item-num\">3.3.1.2&nbsp;&nbsp;</span>Dummy!</a></span></li><li><span><a href=\"#First-simple-model\" data-toc-modified-id=\"First-simple-model-3.3.1.3\"><span class=\"toc-item-num\">3.3.1.3&nbsp;&nbsp;</span>First simple model</a></span></li><li><span><a href=\"#Add-Polynomial-Features\" data-toc-modified-id=\"Add-Polynomial-Features-3.3.1.4\"><span class=\"toc-item-num\">3.3.1.4&nbsp;&nbsp;</span>Add Polynomial Features</a></span></li></ul></li><li><span><a href=\"#Ridge-(L2)-Regression\" data-toc-modified-id=\"Ridge-(L2)-Regression-3.3.2\"><span class=\"toc-item-num\">3.3.2&nbsp;&nbsp;</span>Ridge (L2) Regression</a></span></li><li><span><a href=\"#Optimizing-the-Regularization-Hyperparameter\" data-toc-modified-id=\"Optimizing-the-Regularization-Hyperparameter-3.3.3\"><span class=\"toc-item-num\">3.3.3&nbsp;&nbsp;</span>Optimizing the Regularization Hyperparameter</a></span><ul class=\"toc-item\"><li><span><a href=\"#Observation\" data-toc-modified-id=\"Observation-3.3.3.1\"><span class=\"toc-item-num\">3.3.3.1&nbsp;&nbsp;</span>Observation</a></span></li><li><span><a href=\"#Cross-Validation\" data-toc-modified-id=\"Cross-Validation-3.3.3.2\"><span class=\"toc-item-num\">3.3.3.2&nbsp;&nbsp;</span>Cross-Validation</a></span></li></ul></li><li><span><a href=\"#LEVEL-UP---Elastic-Net!\" data-toc-modified-id=\"LEVEL-UP---Elastic-Net!-3.3.4\"><span class=\"toc-item-num\">3.3.4&nbsp;&nbsp;</span>LEVEL UP - Elastic Net!</a></span><ul class=\"toc-item\"><li><span><a href=\"#Note-on-ElasticNet()\" data-toc-modified-id=\"Note-on-ElasticNet()-3.3.4.1\"><span class=\"toc-item-num\">3.3.4.1&nbsp;&nbsp;</span>Note on <code>ElasticNet()</code></a></span></li><li><span><a href=\"#Fitting-Regularized-Models-with-Cross-Validation\" data-toc-modified-id=\"Fitting-Regularized-Models-with-Cross-Validation-3.3.4.2\"><span class=\"toc-item-num\">3.3.4.2&nbsp;&nbsp;</span>Fitting Regularized Models with Cross-Validation</a></span></li></ul></li></ul></li></ul></li></ul></div>"
   ]
  },
  {
   "cell_type": "code",
   "execution_count": 2,
   "metadata": {
    "ExecuteTime": {
     "end_time": "2023-09-21T13:53:55.300357Z",
     "start_time": "2023-09-21T13:53:53.195360Z"
    }
   },
   "outputs": [],
   "source": [
    "from sklearn.preprocessing import StandardScaler, PolynomialFeatures, OneHotEncoder\n",
    "from sklearn.linear_model import Ridge, Lasso, ElasticNet, LinearRegression,\\\n",
    "LassoCV, RidgeCV, ElasticNetCV\n",
    "from sklearn.model_selection import train_test_split, KFold,\\\n",
    "cross_val_score, cross_validate, ShuffleSplit\n",
    "from sklearn.metrics import mean_squared_error\n",
    "from sklearn.dummy import DummyRegressor\n",
    "\n",
    "import pandas as pd\n",
    "import numpy as np\n",
    "import seaborn as sns\n",
    "import matplotlib.pyplot as plt"
   ]
  },
  {
   "cell_type": "markdown",
   "metadata": {
    "heading_collapsed": true
   },
   "source": [
    "# Objectives"
   ]
  },
  {
   "cell_type": "markdown",
   "metadata": {
    "hidden": true
   },
   "source": [
    "- Explain the notion of \"validation data\"\n",
    "- Use the algorithm of cross-validation (with `sklearn`)\n",
    "- Explain the concept of regularization\n",
    "- Use Lasso and Ridge regularization in model design"
   ]
  },
  {
   "cell_type": "markdown",
   "metadata": {
    "hidden": true
   },
   "source": [
    "One of the goals of a machine learning project is to make models which are highly predictive.\n",
    "If the model fails to generalize to unseen data then the model is bad."
   ]
  },
  {
   "cell_type": "markdown",
   "metadata": {
    "heading_collapsed": true
   },
   "source": [
    "# When a Good Model Goes Bad"
   ]
  },
  {
   "cell_type": "markdown",
   "metadata": {
    "hidden": true
   },
   "source": [
    "> One of the goals of a machine learning project is to make models which are highly predictive"
   ]
  },
  {
   "cell_type": "markdown",
   "metadata": {
    "hidden": true
   },
   "source": [
    "Adding complexity to a model can find patterns to help make better predictions! \n",
    "\n",
    "But too much complexity can lead to the model finding patterns in the noise..."
   ]
  },
  {
   "cell_type": "markdown",
   "metadata": {
    "hidden": true
   },
   "source": [
    "![Overfitting Model](images/overfitting_model_meme.jpeg)"
   ]
  },
  {
   "cell_type": "markdown",
   "metadata": {
    "hidden": true
   },
   "source": [
    ">So how do we know when our model is ~~a conspiracy theorist~~ overfitting?"
   ]
  },
  {
   "cell_type": "markdown",
   "metadata": {
    "heading_collapsed": true,
    "hidden": true
   },
   "source": [
    "## Bias-Variance Tradeoff"
   ]
  },
  {
   "cell_type": "markdown",
   "metadata": {
    "hidden": true
   },
   "source": [
    "1. High bias\n",
    "    1. Systematic error in predictions\n",
    "    2. Bias is about the strength of assumptions the model makes\n",
    "    3. Underfit models tend to have high bias\n",
    "2. High variance\n",
    "    1. The model is highly sensitive to changes in the data\n",
    "    2. Overfit models tend to have low bias"
   ]
  },
  {
   "cell_type": "markdown",
   "metadata": {
    "hidden": true
   },
   "source": [
    "![](images/bias_vs_variance.png)"
   ]
  },
  {
   "cell_type": "markdown",
   "metadata": {
    "heading_collapsed": true,
    "hidden": true
   },
   "source": [
    "##### Aside: Example of high bias and variance"
   ]
  },
  {
   "cell_type": "markdown",
   "metadata": {
    "hidden": true
   },
   "source": [
    "High bias is easy to wrap one's mind around: Imagine pulling three red balls from an urn that has hundreds of balls of all colors in a uniform distribution. Then my sample is a terrible representative of the whole population. If I were to build a model by extrapolating from my sample, that model would predict that _every_ ball produced would be red! That is, this model would be incredibly biased."
   ]
  },
  {
   "cell_type": "markdown",
   "metadata": {
    "hidden": true
   },
   "source": [
    "High variance is a little bit harder to visualize, but it's basically the \"opposite\" of this. Imagine that the population of balls in the urn is mostly red, but also that there are a few balls of other colors floating around. Now imagine that our sample comprises a few balls, none of which is red. In this case, we've essentially picked up on the \"noise\", rather than the \"signal\". If I were to build a model by extrapolating from my sample, that model would be needlessly complex. It might predict that balls drawn before noon will be orange and that balls drawn after 8pm will be green, when the reality is that a simple model that predicted 'red' for all balls would be a superior model!"
   ]
  },
  {
   "cell_type": "markdown",
   "metadata": {
    "hidden": true
   },
   "source": [
    "The important idea here is that there is a *trade-off*: If we have too few data in our sample (training set), or too few predictors, we run the risk of high *bias*, i.e. an underfit model. On the other hand, if we have too many predictors (especially ones that are collinear), we run the risk of high *variance*, i.e. an overfit model."
   ]
  },
  {
   "cell_type": "markdown",
   "metadata": {
    "hidden": true
   },
   "source": [
    "[Here](https://en.wikipedia.org/wiki/Overfitting#/media/File:Overfitting.svg) is a nice illustration of the difficulty."
   ]
  },
  {
   "cell_type": "markdown",
   "metadata": {
    "heading_collapsed": true,
    "hidden": true
   },
   "source": [
    "### Underfitting"
   ]
  },
  {
   "cell_type": "markdown",
   "metadata": {
    "hidden": true
   },
   "source": [
    "> Underfit models fail to capture all of the information in the data"
   ]
  },
  {
   "cell_type": "markdown",
   "metadata": {
    "hidden": true
   },
   "source": [
    "* low complexity --> high bias, low variance\n",
    "* training error: large\n",
    "* testing error: large"
   ]
  },
  {
   "cell_type": "markdown",
   "metadata": {
    "heading_collapsed": true,
    "hidden": true
   },
   "source": [
    "### Overfitting"
   ]
  },
  {
   "cell_type": "markdown",
   "metadata": {
    "hidden": true
   },
   "source": [
    "> Overfit models fit to the noise in the data and fail to generalize"
   ]
  },
  {
   "cell_type": "markdown",
   "metadata": {
    "hidden": true
   },
   "source": [
    "* high complexity --> low bias, high variance\n",
    "* training error: low\n",
    "* testing error: large"
   ]
  },
  {
   "cell_type": "markdown",
   "metadata": {
    "hidden": true
   },
   "source": [
    "![](images/bias-variance-table.png)\n"
   ]
  },
  {
   "cell_type": "markdown",
   "metadata": {
    "heading_collapsed": true,
    "hidden": true
   },
   "source": [
    "## How Do We Identify a Bad Model? 🕵️"
   ]
  },
  {
   "cell_type": "markdown",
   "metadata": {
    "heading_collapsed": true,
    "hidden": true
   },
   "source": [
    "### Solution - Model Validation"
   ]
  },
  {
   "cell_type": "markdown",
   "metadata": {
    "hidden": true
   },
   "source": [
    "Generally speaking we want to take more precautions than using just a test and train split. After all, we're still imagining building just one model on the training set and then crossing our fingers for its performance on the test set.\n",
    "\n",
    "Data scientists often distinguish *three* subsets of data: **training, validation (dev), and testing**"
   ]
  },
  {
   "cell_type": "markdown",
   "metadata": {
    "hidden": true
   },
   "source": [
    "Roughly:\n",
    "- Training data is for building the model;\n",
    "- Validation data is for *tweaking* the model;\n",
    "- Testing data is for evaluating the model on unseen data."
   ]
  },
  {
   "cell_type": "markdown",
   "metadata": {
    "hidden": true
   },
   "source": [
    "- Think of **training** data as what you study for a test\n",
    "- Think of **validation** data is using a practice test (note sometimes called **dev**)\n",
    "- Think of **testing** data as what you use to judge the model\n",
    "    - A **holdout** set is when your test dataset is never used for training (unlike in cross-validation)"
   ]
  },
  {
   "cell_type": "markdown",
   "metadata": {
    "hidden": true
   },
   "source": [
    "![](https://scikit-learn.org/stable/_images/grid_search_workflow.png)\n",
    "> Image from Scikit-Learn https://scikit-learn.org/stable/modules/cross_validation.html"
   ]
  },
  {
   "cell_type": "markdown",
   "metadata": {
    "heading_collapsed": true,
    "hidden": true
   },
   "source": [
    "### Steps:"
   ]
  },
  {
   "cell_type": "markdown",
   "metadata": {
    "hidden": true
   },
   "source": [
    "1. Split data into training data and a holdout test\n",
    "2. Design a model\n",
    "3. Evaluate how well it generalizes with **cross-validation** (only training data)\n",
    "4. Determine if we should adjust model, use cross-validation to evaluate, and repeat\n",
    "5. After iteratively adjusting your model, do a _final_ evaluation with the holdout test set\n",
    "6. DON'T TOUCH THE MODEL!!!"
   ]
  },
  {
   "cell_type": "markdown",
   "metadata": {
    "heading_collapsed": true,
    "hidden": true
   },
   "source": [
    "### The Power of the Validation Set"
   ]
  },
  {
   "cell_type": "markdown",
   "metadata": {
    "hidden": true
   },
   "source": [
    "This \"tweaking\" includes most of all the fine-tuning of model parameters (see below). Think of what this three-way distinction allows us to do:\n",
    "\n",
    "I can build a model on some data. Then, **before** I introduce the model to the testing data, I can introduce it to a different batch of data (the validation set). With respect to the validation data I can do things like measure error and tweak model parameters to minimize that error. Of course, I also don't want to lose sight of the error on the training data. If the model error has been minimized on the training error, then of course any changes I make to the model parameters will take me away from that minimum. But still the new information I've gained by looking at the model's performance on the validation data is valuable. I might for example go with a kind of compromising model whose parameters produce an error that's not too big on the training data and not too big on the validation data."
   ]
  },
  {
   "cell_type": "markdown",
   "metadata": {
    "hidden": true
   },
   "source": [
    "**Question**: What's different about this procedure from what we've described before? Aren't I just calling the test data \"validation data\" now? Is there any substantive difference?"
   ]
  },
  {
   "cell_type": "markdown",
   "metadata": {
    "heading_collapsed": true,
    "hidden": true
   },
   "source": [
    "#### From Validation to Cross-Validation"
   ]
  },
  {
   "cell_type": "markdown",
   "metadata": {
    "hidden": true
   },
   "source": [
    "Since my model will \"see\" the validation data in any case, I might as well use *all* of my training data to validate my model! How do I do this?\n",
    "\n",
    "Cross-validation works like this: First I'll partition my training data into $k$-many *folds*. Then I'll train a model on $k-1$ of those folds and \"test\" it on the remaining fold. I'll do this for all possible divisions of my $k$ folds into $k-1$ training folds and a single \"testing\" fold. Since there are $k\\choose 1$$=k$-many ways of doing this, I'll be building $k$-many models!"
   ]
  },
  {
   "cell_type": "code",
   "execution_count": 3,
   "metadata": {
    "ExecuteTime": {
     "end_time": "2023-09-21T13:53:55.331357Z",
     "start_time": "2023-09-21T13:53:55.301358Z"
    },
    "hidden": true,
    "scrolled": true
   },
   "outputs": [
    {
     "data": {
      "text/html": [
       "<div>\n",
       "<style scoped>\n",
       "    .dataframe tbody tr th:only-of-type {\n",
       "        vertical-align: middle;\n",
       "    }\n",
       "\n",
       "    .dataframe tbody tr th {\n",
       "        vertical-align: top;\n",
       "    }\n",
       "\n",
       "    .dataframe thead th {\n",
       "        text-align: right;\n",
       "    }\n",
       "</style>\n",
       "<table border=\"1\" class=\"dataframe\">\n",
       "  <thead>\n",
       "    <tr style=\"text-align: right;\">\n",
       "      <th></th>\n",
       "      <th>number</th>\n",
       "    </tr>\n",
       "  </thead>\n",
       "  <tbody>\n",
       "    <tr>\n",
       "      <th>0</th>\n",
       "      <td>1</td>\n",
       "    </tr>\n",
       "    <tr>\n",
       "      <th>1</th>\n",
       "      <td>2</td>\n",
       "    </tr>\n",
       "    <tr>\n",
       "      <th>2</th>\n",
       "      <td>3</td>\n",
       "    </tr>\n",
       "    <tr>\n",
       "      <th>3</th>\n",
       "      <td>4</td>\n",
       "    </tr>\n",
       "    <tr>\n",
       "      <th>4</th>\n",
       "      <td>5</td>\n",
       "    </tr>\n",
       "  </tbody>\n",
       "</table>\n",
       "</div>"
      ],
      "text/plain": [
       "   number\n",
       "0       1\n",
       "1       2\n",
       "2       3\n",
       "3       4\n",
       "4       5"
      ]
     },
     "execution_count": 3,
     "metadata": {},
     "output_type": "execute_result"
    }
   ],
   "source": [
    "example = pd.DataFrame([num for num in range(1,101)], columns=['number'])\n",
    "example.head()    "
   ]
  },
  {
   "cell_type": "code",
   "execution_count": 4,
   "metadata": {
    "ExecuteTime": {
     "end_time": "2023-09-21T13:53:55.347359Z",
     "start_time": "2023-09-21T13:53:55.334358Z"
    },
    "hidden": true
   },
   "outputs": [
    {
     "name": "stdout",
     "output_type": "stream",
     "text": [
      "Training indices: [20 21 22 23 24 25 26 27 28 29 30 31 32 33 34 35 36 37 38 39 40 41 42 43\n",
      " 44 45 46 47 48 49 50 51 52 53 54 55 56 57 58 59 60 61 62 63 64 65 66 67\n",
      " 68 69 70 71 72 73 74 75 76 77 78 79 80 81 82 83 84 85 86 87 88 89 90 91\n",
      " 92 93 94 95 96 97 98 99]\n",
      "\n",
      "Validation indices: [ 0  1  2  3  4  5  6  7  8  9 10 11 12 13 14 15 16 17 18 19]\n",
      "\n",
      "\n",
      "\n",
      "Training indices: [ 0  1  2  3  4  5  6  7  8  9 10 11 12 13 14 15 16 17 18 19 40 41 42 43\n",
      " 44 45 46 47 48 49 50 51 52 53 54 55 56 57 58 59 60 61 62 63 64 65 66 67\n",
      " 68 69 70 71 72 73 74 75 76 77 78 79 80 81 82 83 84 85 86 87 88 89 90 91\n",
      " 92 93 94 95 96 97 98 99]\n",
      "\n",
      "Validation indices: [20 21 22 23 24 25 26 27 28 29 30 31 32 33 34 35 36 37 38 39]\n",
      "\n",
      "\n",
      "\n",
      "Training indices: [ 0  1  2  3  4  5  6  7  8  9 10 11 12 13 14 15 16 17 18 19 20 21 22 23\n",
      " 24 25 26 27 28 29 30 31 32 33 34 35 36 37 38 39 60 61 62 63 64 65 66 67\n",
      " 68 69 70 71 72 73 74 75 76 77 78 79 80 81 82 83 84 85 86 87 88 89 90 91\n",
      " 92 93 94 95 96 97 98 99]\n",
      "\n",
      "Validation indices: [40 41 42 43 44 45 46 47 48 49 50 51 52 53 54 55 56 57 58 59]\n",
      "\n",
      "\n",
      "\n",
      "Training indices: [ 0  1  2  3  4  5  6  7  8  9 10 11 12 13 14 15 16 17 18 19 20 21 22 23\n",
      " 24 25 26 27 28 29 30 31 32 33 34 35 36 37 38 39 40 41 42 43 44 45 46 47\n",
      " 48 49 50 51 52 53 54 55 56 57 58 59 80 81 82 83 84 85 86 87 88 89 90 91\n",
      " 92 93 94 95 96 97 98 99]\n",
      "\n",
      "Validation indices: [60 61 62 63 64 65 66 67 68 69 70 71 72 73 74 75 76 77 78 79]\n",
      "\n",
      "\n",
      "\n",
      "Training indices: [ 0  1  2  3  4  5  6  7  8  9 10 11 12 13 14 15 16 17 18 19 20 21 22 23\n",
      " 24 25 26 27 28 29 30 31 32 33 34 35 36 37 38 39 40 41 42 43 44 45 46 47\n",
      " 48 49 50 51 52 53 54 55 56 57 58 59 60 61 62 63 64 65 66 67 68 69 70 71\n",
      " 72 73 74 75 76 77 78 79]\n",
      "\n",
      "Validation indices: [80 81 82 83 84 85 86 87 88 89 90 91 92 93 94 95 96 97 98 99]\n",
      "\n",
      "\n",
      "\n"
     ]
    }
   ],
   "source": [
    "kf = KFold()\n",
    "\n",
    "for train,val in kf.split(example):\n",
    "    print(f'Training indices: {train}\\n')\n",
    "    print(f'Validation indices: {val}')\n",
    "    print('\\n\\n')"
   ]
  },
  {
   "cell_type": "markdown",
   "metadata": {
    "hidden": true
   },
   "source": [
    "**A picture is worth 1.0e3 words!**\n",
    "\n",
    "![](https://scikit-learn.org/stable/_images/grid_search_cross_validation.png)"
   ]
  },
  {
   "cell_type": "markdown",
   "metadata": {
    "hidden": true
   },
   "source": [
    "How to interpret the different values\n",
    "\n",
    "![Bias Variance](./images/bias-variance-table.png)"
   ]
  },
  {
   "cell_type": "markdown",
   "metadata": {
    "hidden": true
   },
   "source": [
    "[Cross validation](https://machinelearningmastery.com/k-fold-cross-validation/) is very useful, as it allows us to user our `train` split and simulate looking at unseen (`test`) data.\n",
    "\n",
    "A couple of standard values for *k* are 5 and 10. There is, however, some [interesting](https://machinelearningmastery.com/how-to-configure-k-fold-cross-validation/) discussion about how many are actually needed."
   ]
  },
  {
   "cell_type": "markdown",
   "metadata": {
    "hidden": true
   },
   "source": [
    "Let's look at the [documentation](https://scikitearn.org/stable/modules/generated/sklearn.model_selection.cross_validate.html#sklearn.model_selection.cross_validate) for `cross_validate`.\n",
    "\n",
    "An overview of how this works:\n",
    "\n",
    "An algorithm is instantiated: `lr = LinearRegression()`\n",
    "\n",
    "A cross-validator is instantiated: `cv = cross_validate(estimator = lr, X = X_train, y = y_train, cv = 5)`\n",
    "\n",
    "The cross-validator looks at the `X_train` and splits it into five sections.\n",
    "\n",
    "The first fold is held out as the \"test\" set, while the linear regression `lr` is fitted to the remaining four folds.\n",
    "\n",
    "This repeats four more times, with a different set of data being held out as the \"test\" set."
   ]
  },
  {
   "cell_type": "markdown",
   "metadata": {
    "hidden": true
   },
   "source": [
    "Remember from previous, this is our data science workflow:\n",
    "\n",
    "1. Get Data\n",
    "2. EDA\n",
    "3. Cleaning\n",
    "4. Feature Engineering\n",
    "5. Train/Test split\n",
    "6. Model training using `train` split\n",
    "7. Model testing using `test` split\n"
   ]
  },
  {
   "cell_type": "markdown",
   "metadata": {
    "hidden": true
   },
   "source": [
    "So, now our modeling process has an added step: cross-validation.\n",
    "\n",
    "1. Get Data\n",
    "2. EDA\n",
    "3. Cleaning\n",
    "4. Feature Engineering\n",
    "5. Train/Test split\n",
    "6. Model training using `train` split\n",
    "7. Cross Validation (Once you are happy with the model, then do step 8)\n",
    "8. Model testing using `test` split\n",
    "\n",
    "Please note, this is **NOT** a linear process.\n",
    "\n",
    "You will repeat steps 3 through 7 many times. \n",
    "\n",
    "You only use the `test` split when you are satisfied of your model's performance as judged by the cross-validation."
   ]
  },
  {
   "cell_type": "markdown",
   "metadata": {
    "heading_collapsed": true,
    "hidden": true
   },
   "source": [
    "##### Python Example"
   ]
  },
  {
   "cell_type": "code",
   "execution_count": 5,
   "metadata": {
    "ExecuteTime": {
     "end_time": "2023-09-21T13:53:55.379358Z",
     "start_time": "2023-09-21T13:53:55.349360Z"
    },
    "hidden": true
   },
   "outputs": [
    {
     "data": {
      "text/html": [
       "<div>\n",
       "<style scoped>\n",
       "    .dataframe tbody tr th:only-of-type {\n",
       "        vertical-align: middle;\n",
       "    }\n",
       "\n",
       "    .dataframe tbody tr th {\n",
       "        vertical-align: top;\n",
       "    }\n",
       "\n",
       "    .dataframe thead th {\n",
       "        text-align: right;\n",
       "    }\n",
       "</style>\n",
       "<table border=\"1\" class=\"dataframe\">\n",
       "  <thead>\n",
       "    <tr style=\"text-align: right;\">\n",
       "      <th></th>\n",
       "      <th>species</th>\n",
       "      <th>island</th>\n",
       "      <th>bill_length_mm</th>\n",
       "      <th>bill_depth_mm</th>\n",
       "      <th>flipper_length_mm</th>\n",
       "      <th>body_mass_g</th>\n",
       "      <th>sex</th>\n",
       "    </tr>\n",
       "  </thead>\n",
       "  <tbody>\n",
       "    <tr>\n",
       "      <th>146</th>\n",
       "      <td>Adelie</td>\n",
       "      <td>Dream</td>\n",
       "      <td>39.2</td>\n",
       "      <td>18.6</td>\n",
       "      <td>190.0</td>\n",
       "      <td>4250.0</td>\n",
       "      <td>Male</td>\n",
       "    </tr>\n",
       "    <tr>\n",
       "      <th>176</th>\n",
       "      <td>Chinstrap</td>\n",
       "      <td>Dream</td>\n",
       "      <td>46.7</td>\n",
       "      <td>17.9</td>\n",
       "      <td>195.0</td>\n",
       "      <td>3300.0</td>\n",
       "      <td>Female</td>\n",
       "    </tr>\n",
       "    <tr>\n",
       "      <th>274</th>\n",
       "      <td>Gentoo</td>\n",
       "      <td>Biscoe</td>\n",
       "      <td>46.5</td>\n",
       "      <td>14.4</td>\n",
       "      <td>217.0</td>\n",
       "      <td>4900.0</td>\n",
       "      <td>Female</td>\n",
       "    </tr>\n",
       "    <tr>\n",
       "      <th>84</th>\n",
       "      <td>Adelie</td>\n",
       "      <td>Dream</td>\n",
       "      <td>37.3</td>\n",
       "      <td>17.8</td>\n",
       "      <td>191.0</td>\n",
       "      <td>3350.0</td>\n",
       "      <td>Female</td>\n",
       "    </tr>\n",
       "    <tr>\n",
       "      <th>307</th>\n",
       "      <td>Gentoo</td>\n",
       "      <td>Biscoe</td>\n",
       "      <td>51.3</td>\n",
       "      <td>14.2</td>\n",
       "      <td>218.0</td>\n",
       "      <td>5300.0</td>\n",
       "      <td>Male</td>\n",
       "    </tr>\n",
       "  </tbody>\n",
       "</table>\n",
       "</div>"
      ],
      "text/plain": [
       "       species  island  bill_length_mm  bill_depth_mm  flipper_length_mm  \\\n",
       "146     Adelie   Dream            39.2           18.6              190.0   \n",
       "176  Chinstrap   Dream            46.7           17.9              195.0   \n",
       "274     Gentoo  Biscoe            46.5           14.4              217.0   \n",
       "84      Adelie   Dream            37.3           17.8              191.0   \n",
       "307     Gentoo  Biscoe            51.3           14.2              218.0   \n",
       "\n",
       "     body_mass_g     sex  \n",
       "146       4250.0    Male  \n",
       "176       3300.0  Female  \n",
       "274       4900.0  Female  \n",
       "84        3350.0  Female  \n",
       "307       5300.0    Male  "
      ]
     },
     "execution_count": 5,
     "metadata": {},
     "output_type": "execute_result"
    }
   ],
   "source": [
    "birds = sns.load_dataset('penguins')\n",
    "birds.sample(5)"
   ]
  },
  {
   "cell_type": "code",
   "execution_count": 6,
   "metadata": {
    "ExecuteTime": {
     "end_time": "2023-09-21T13:53:55.395358Z",
     "start_time": "2023-09-21T13:53:55.381359Z"
    },
    "hidden": true
   },
   "outputs": [
    {
     "name": "stdout",
     "output_type": "stream",
     "text": [
      "<class 'pandas.core.frame.DataFrame'>\n",
      "RangeIndex: 344 entries, 0 to 343\n",
      "Data columns (total 7 columns):\n",
      " #   Column             Non-Null Count  Dtype  \n",
      "---  ------             --------------  -----  \n",
      " 0   species            344 non-null    object \n",
      " 1   island             344 non-null    object \n",
      " 2   bill_length_mm     342 non-null    float64\n",
      " 3   bill_depth_mm      342 non-null    float64\n",
      " 4   flipper_length_mm  342 non-null    float64\n",
      " 5   body_mass_g        342 non-null    float64\n",
      " 6   sex                333 non-null    object \n",
      "dtypes: float64(4), object(3)\n",
      "memory usage: 18.9+ KB\n"
     ]
    }
   ],
   "source": [
    "birds.info()"
   ]
  },
  {
   "cell_type": "code",
   "execution_count": 7,
   "metadata": {
    "ExecuteTime": {
     "end_time": "2023-09-21T13:53:55.426361Z",
     "start_time": "2023-09-21T13:53:55.396359Z"
    },
    "hidden": true
   },
   "outputs": [
    {
     "data": {
      "text/html": [
       "<div>\n",
       "<style scoped>\n",
       "    .dataframe tbody tr th:only-of-type {\n",
       "        vertical-align: middle;\n",
       "    }\n",
       "\n",
       "    .dataframe tbody tr th {\n",
       "        vertical-align: top;\n",
       "    }\n",
       "\n",
       "    .dataframe thead th {\n",
       "        text-align: right;\n",
       "    }\n",
       "</style>\n",
       "<table border=\"1\" class=\"dataframe\">\n",
       "  <thead>\n",
       "    <tr style=\"text-align: right;\">\n",
       "      <th></th>\n",
       "      <th>bill_length_mm</th>\n",
       "      <th>bill_depth_mm</th>\n",
       "      <th>flipper_length_mm</th>\n",
       "      <th>body_mass_g</th>\n",
       "    </tr>\n",
       "  </thead>\n",
       "  <tbody>\n",
       "    <tr>\n",
       "      <th>count</th>\n",
       "      <td>342.000000</td>\n",
       "      <td>342.000000</td>\n",
       "      <td>342.000000</td>\n",
       "      <td>342.000000</td>\n",
       "    </tr>\n",
       "    <tr>\n",
       "      <th>mean</th>\n",
       "      <td>43.921930</td>\n",
       "      <td>17.151170</td>\n",
       "      <td>200.915205</td>\n",
       "      <td>4201.754386</td>\n",
       "    </tr>\n",
       "    <tr>\n",
       "      <th>std</th>\n",
       "      <td>5.459584</td>\n",
       "      <td>1.974793</td>\n",
       "      <td>14.061714</td>\n",
       "      <td>801.954536</td>\n",
       "    </tr>\n",
       "    <tr>\n",
       "      <th>min</th>\n",
       "      <td>32.100000</td>\n",
       "      <td>13.100000</td>\n",
       "      <td>172.000000</td>\n",
       "      <td>2700.000000</td>\n",
       "    </tr>\n",
       "    <tr>\n",
       "      <th>25%</th>\n",
       "      <td>39.225000</td>\n",
       "      <td>15.600000</td>\n",
       "      <td>190.000000</td>\n",
       "      <td>3550.000000</td>\n",
       "    </tr>\n",
       "    <tr>\n",
       "      <th>50%</th>\n",
       "      <td>44.450000</td>\n",
       "      <td>17.300000</td>\n",
       "      <td>197.000000</td>\n",
       "      <td>4050.000000</td>\n",
       "    </tr>\n",
       "    <tr>\n",
       "      <th>75%</th>\n",
       "      <td>48.500000</td>\n",
       "      <td>18.700000</td>\n",
       "      <td>213.000000</td>\n",
       "      <td>4750.000000</td>\n",
       "    </tr>\n",
       "    <tr>\n",
       "      <th>max</th>\n",
       "      <td>59.600000</td>\n",
       "      <td>21.500000</td>\n",
       "      <td>231.000000</td>\n",
       "      <td>6300.000000</td>\n",
       "    </tr>\n",
       "  </tbody>\n",
       "</table>\n",
       "</div>"
      ],
      "text/plain": [
       "       bill_length_mm  bill_depth_mm  flipper_length_mm  body_mass_g\n",
       "count      342.000000     342.000000         342.000000   342.000000\n",
       "mean        43.921930      17.151170         200.915205  4201.754386\n",
       "std          5.459584       1.974793          14.061714   801.954536\n",
       "min         32.100000      13.100000         172.000000  2700.000000\n",
       "25%         39.225000      15.600000         190.000000  3550.000000\n",
       "50%         44.450000      17.300000         197.000000  4050.000000\n",
       "75%         48.500000      18.700000         213.000000  4750.000000\n",
       "max         59.600000      21.500000         231.000000  6300.000000"
      ]
     },
     "execution_count": 7,
     "metadata": {},
     "output_type": "execute_result"
    }
   ],
   "source": [
    "birds.describe()"
   ]
  },
  {
   "cell_type": "code",
   "execution_count": 8,
   "metadata": {
    "ExecuteTime": {
     "end_time": "2023-09-21T13:53:55.442362Z",
     "start_time": "2023-09-21T13:53:55.429360Z"
    },
    "hidden": true
   },
   "outputs": [],
   "source": [
    "# For simplicity's sake we'll limit our analysis to the numeric columns.\n",
    "# Newer versions of seaborn have \"bill\" instead of \"culmen\".\n",
    "\n",
    "numeric = birds[['bill_length_mm', 'bill_depth_mm',\n",
    "                 'flipper_length_mm', 'body_mass_g']]"
   ]
  },
  {
   "cell_type": "code",
   "execution_count": 9,
   "metadata": {
    "ExecuteTime": {
     "end_time": "2023-09-21T13:53:55.458363Z",
     "start_time": "2023-09-21T13:53:55.444359Z"
    },
    "hidden": true
   },
   "outputs": [],
   "source": [
    "# We'll drop the rows with null values\n",
    "\n",
    "numeric = numeric.dropna().reset_index()"
   ]
  },
  {
   "cell_type": "markdown",
   "metadata": {
    "hidden": true
   },
   "source": [
    "Suppose I want to model `body_mass_g` as a function of the other attributes."
   ]
  },
  {
   "cell_type": "code",
   "execution_count": 10,
   "metadata": {
    "ExecuteTime": {
     "end_time": "2023-09-21T13:53:55.474360Z",
     "start_time": "2023-09-21T13:53:55.460359Z"
    },
    "hidden": true
   },
   "outputs": [],
   "source": [
    "X = numeric.drop('body_mass_g', axis=1)\n",
    "y = numeric['body_mass_g']"
   ]
  },
  {
   "cell_type": "markdown",
   "metadata": {
    "hidden": true
   },
   "source": [
    "We'll make ten models and record our evaluations of them."
   ]
  },
  {
   "cell_type": "code",
   "execution_count": 21,
   "metadata": {
    "ExecuteTime": {
     "end_time": "2023-09-21T13:53:55.490359Z",
     "start_time": "2023-09-21T13:53:55.476359Z"
    },
    "hidden": true
   },
   "outputs": [],
   "source": [
    "# instantiate algorithm\n",
    "lr2 = LinearRegression()"
   ]
  },
  {
   "cell_type": "code",
   "execution_count": 12,
   "metadata": {
    "ExecuteTime": {
     "end_time": "2023-09-21T13:53:55.632358Z",
     "start_time": "2023-09-21T13:53:55.491358Z"
    },
    "hidden": true
   },
   "outputs": [],
   "source": [
    "# instantiate cross val\n",
    "cv_results = cross_validate(estimator=lr2,\n",
    "                            X=X,\n",
    "                            y=y,\n",
    "                            cv=10,\n",
    "                            scoring=('r2','neg_mean_squared_error'),\n",
    "                            return_train_score=True\n",
    "                            \n",
    ")"
   ]
  },
  {
   "cell_type": "code",
   "execution_count": 13,
   "metadata": {
    "ExecuteTime": {
     "end_time": "2023-09-21T13:53:55.648359Z",
     "start_time": "2023-09-21T13:53:55.633358Z"
    },
    "hidden": true
   },
   "outputs": [
    {
     "data": {
      "text/plain": [
       "{'fit_time': array([0.00369   , 0.0019002 , 0.00192308, 0.00100589, 0.00102687,\n",
       "        0.00081897, 0.00109601, 0.00115299, 0.00093174, 0.00076199]),\n",
       " 'score_time': array([0.00230908, 0.0018518 , 0.00167012, 0.00104809, 0.00081706,\n",
       "        0.00077391, 0.00096798, 0.00088716, 0.00083733, 0.00070405]),\n",
       " 'test_r2': array([-0.42725693,  0.34759891,  0.26457031,  0.18940771, -0.23644035,\n",
       "        -0.11124329,  0.64439272,  0.46668576,  0.70389366, -0.05362906]),\n",
       " 'train_r2': array([0.78273743, 0.77180478, 0.7770143 , 0.77408458, 0.77179887,\n",
       "        0.7809426 , 0.77169732, 0.75002225, 0.73338377, 0.74245472]),\n",
       " 'test_neg_mean_squared_error': array([-212380.20037164, -175439.30737533, -156577.81522691,\n",
       "        -174889.14364989, -125422.88865805, -245168.65200855,\n",
       "        -248712.26425944, -124725.63766302,  -73234.61013889,\n",
       "        -191504.0309426 ]),\n",
       " 'train_neg_mean_squared_error': array([-144590.32096152, -147420.92118059, -149250.11057185,\n",
       "        -147580.08672751, -152786.8225516 , -144781.26794412,\n",
       "        -141202.26784828, -152657.7190103 , -158349.17784041,\n",
       "        -148627.93297683])}"
      ]
     },
     "execution_count": 13,
     "metadata": {},
     "output_type": "execute_result"
    }
   ],
   "source": [
    "#results\n",
    "\n",
    "cv_results"
   ]
  },
  {
   "cell_type": "code",
   "execution_count": 14,
   "metadata": {
    "ExecuteTime": {
     "end_time": "2023-09-21T13:53:55.664357Z",
     "start_time": "2023-09-21T13:53:55.649358Z"
    },
    "hidden": true
   },
   "outputs": [
    {
     "data": {
      "text/plain": [
       "dict_keys(['fit_time', 'score_time', 'test_r2', 'train_r2', 'test_neg_mean_squared_error', 'train_neg_mean_squared_error'])"
      ]
     },
     "execution_count": 14,
     "metadata": {},
     "output_type": "execute_result"
    }
   ],
   "source": [
    "cv_results.keys()"
   ]
  },
  {
   "cell_type": "code",
   "execution_count": 15,
   "metadata": {
    "ExecuteTime": {
     "end_time": "2023-09-21T13:53:55.680356Z",
     "start_time": "2023-09-21T13:53:55.665359Z"
    },
    "hidden": true
   },
   "outputs": [
    {
     "data": {
      "text/plain": [
       "array([0.78273743, 0.77180478, 0.7770143 , 0.77408458, 0.77179887,\n",
       "       0.7809426 , 0.77169732, 0.75002225, 0.73338377, 0.74245472])"
      ]
     },
     "execution_count": 15,
     "metadata": {},
     "output_type": "execute_result"
    }
   ],
   "source": [
    "cv_results['train_r2']"
   ]
  },
  {
   "cell_type": "code",
   "execution_count": 16,
   "metadata": {
    "ExecuteTime": {
     "end_time": "2023-09-21T13:53:55.695356Z",
     "start_time": "2023-09-21T13:53:55.681358Z"
    },
    "hidden": true
   },
   "outputs": [
    {
     "name": "stdout",
     "output_type": "stream",
     "text": [
      "148724.66276130028 4659.680060002408\n"
     ]
    }
   ],
   "source": [
    "# Compare the results\n",
    "print(-1*cv_results.get('train_neg_mean_squared_error').mean(),\n",
    "      cv_results.get('train_neg_mean_squared_error').std())"
   ]
  },
  {
   "cell_type": "code",
   "execution_count": 17,
   "metadata": {
    "ExecuteTime": {
     "end_time": "2023-09-21T13:53:55.711358Z",
     "start_time": "2023-09-21T13:53:55.696358Z"
    },
    "hidden": true
   },
   "outputs": [
    {
     "name": "stdout",
     "output_type": "stream",
     "text": [
      "172805.45502943182 52592.60213257127\n"
     ]
    }
   ],
   "source": [
    "print(-1*cv_results.get('test_neg_mean_squared_error').mean(),\n",
    "      cv_results.get('test_neg_mean_squared_error').std())"
   ]
  },
  {
   "cell_type": "code",
   "execution_count": 18,
   "metadata": {
    "ExecuteTime": {
     "end_time": "2023-09-21T13:53:55.727359Z",
     "start_time": "2023-09-21T13:53:55.712357Z"
    },
    "hidden": true
   },
   "outputs": [],
   "source": [
    "def cv_results_df(cv_model):\n",
    "    '''\n",
    "    Return a Dataframe with the cross validation results\n",
    "    '''\n",
    "    cv_df = pd.DataFrame(cv_model)\n",
    "    cv_df['test_rmse'] = (np.sqrt(-cv_df['test_neg_mean_squared_error']))\n",
    "    cv_df['train_rmse'] = (np.sqrt(-cv_df['train_neg_mean_squared_error']))\n",
    "    cv_df['r2_diff'] = cv_df.train_r2 - cv_df.test_r2\n",
    "    \n",
    "    return cv_df"
   ]
  },
  {
   "cell_type": "code",
   "execution_count": 19,
   "metadata": {
    "ExecuteTime": {
     "end_time": "2023-09-21T13:53:55.743357Z",
     "start_time": "2023-09-21T13:53:55.728359Z"
    },
    "hidden": true
   },
   "outputs": [],
   "source": [
    "def test_peek(model,X,y):\n",
    "    '''\n",
    "    Print R^2 and RMSE for a given model and data\n",
    "    '''\n",
    "    r2 = model.score(X,y)\n",
    "    rmse = mean_squared_error(model.predict(X), y, squared=False)\n",
    "    \n",
    "    print(f'{model} has the following scores:\\n'\n",
    "          f'    R^2 of {r2}\\n'\n",
    "          f'    RMSE of {rmse}')\n",
    "    \n",
    "    return\n",
    "    "
   ]
  },
  {
   "cell_type": "code",
   "execution_count": 22,
   "metadata": {
    "ExecuteTime": {
     "end_time": "2023-09-21T13:53:55.759360Z",
     "start_time": "2023-09-21T13:53:55.744357Z"
    },
    "hidden": true
   },
   "outputs": [
    {
     "data": {
      "text/html": [
       "<div>\n",
       "<style scoped>\n",
       "    .dataframe tbody tr th:only-of-type {\n",
       "        vertical-align: middle;\n",
       "    }\n",
       "\n",
       "    .dataframe tbody tr th {\n",
       "        vertical-align: top;\n",
       "    }\n",
       "\n",
       "    .dataframe thead th {\n",
       "        text-align: right;\n",
       "    }\n",
       "</style>\n",
       "<table border=\"1\" class=\"dataframe\">\n",
       "  <thead>\n",
       "    <tr style=\"text-align: right;\">\n",
       "      <th></th>\n",
       "      <th>fit_time</th>\n",
       "      <th>score_time</th>\n",
       "      <th>test_r2</th>\n",
       "      <th>train_r2</th>\n",
       "      <th>test_neg_mean_squared_error</th>\n",
       "      <th>train_neg_mean_squared_error</th>\n",
       "      <th>test_rmse</th>\n",
       "      <th>train_rmse</th>\n",
       "      <th>r2_diff</th>\n",
       "    </tr>\n",
       "  </thead>\n",
       "  <tbody>\n",
       "    <tr>\n",
       "      <th>0</th>\n",
       "      <td>0.003690</td>\n",
       "      <td>0.002309</td>\n",
       "      <td>-0.427257</td>\n",
       "      <td>0.782737</td>\n",
       "      <td>-212380.200372</td>\n",
       "      <td>-144590.320962</td>\n",
       "      <td>460.847264</td>\n",
       "      <td>380.250340</td>\n",
       "      <td>1.209994</td>\n",
       "    </tr>\n",
       "    <tr>\n",
       "      <th>1</th>\n",
       "      <td>0.001900</td>\n",
       "      <td>0.001852</td>\n",
       "      <td>0.347599</td>\n",
       "      <td>0.771805</td>\n",
       "      <td>-175439.307375</td>\n",
       "      <td>-147420.921181</td>\n",
       "      <td>418.854757</td>\n",
       "      <td>383.954322</td>\n",
       "      <td>0.424206</td>\n",
       "    </tr>\n",
       "    <tr>\n",
       "      <th>2</th>\n",
       "      <td>0.001923</td>\n",
       "      <td>0.001670</td>\n",
       "      <td>0.264570</td>\n",
       "      <td>0.777014</td>\n",
       "      <td>-156577.815227</td>\n",
       "      <td>-149250.110572</td>\n",
       "      <td>395.699147</td>\n",
       "      <td>386.329019</td>\n",
       "      <td>0.512444</td>\n",
       "    </tr>\n",
       "    <tr>\n",
       "      <th>3</th>\n",
       "      <td>0.001006</td>\n",
       "      <td>0.001048</td>\n",
       "      <td>0.189408</td>\n",
       "      <td>0.774085</td>\n",
       "      <td>-174889.143650</td>\n",
       "      <td>-147580.086728</td>\n",
       "      <td>418.197494</td>\n",
       "      <td>384.161537</td>\n",
       "      <td>0.584677</td>\n",
       "    </tr>\n",
       "    <tr>\n",
       "      <th>4</th>\n",
       "      <td>0.001027</td>\n",
       "      <td>0.000817</td>\n",
       "      <td>-0.236440</td>\n",
       "      <td>0.771799</td>\n",
       "      <td>-125422.888658</td>\n",
       "      <td>-152786.822552</td>\n",
       "      <td>354.150941</td>\n",
       "      <td>390.879550</td>\n",
       "      <td>1.008239</td>\n",
       "    </tr>\n",
       "    <tr>\n",
       "      <th>5</th>\n",
       "      <td>0.000819</td>\n",
       "      <td>0.000774</td>\n",
       "      <td>-0.111243</td>\n",
       "      <td>0.780943</td>\n",
       "      <td>-245168.652009</td>\n",
       "      <td>-144781.267944</td>\n",
       "      <td>495.145082</td>\n",
       "      <td>380.501338</td>\n",
       "      <td>0.892186</td>\n",
       "    </tr>\n",
       "    <tr>\n",
       "      <th>6</th>\n",
       "      <td>0.001096</td>\n",
       "      <td>0.000968</td>\n",
       "      <td>0.644393</td>\n",
       "      <td>0.771697</td>\n",
       "      <td>-248712.264259</td>\n",
       "      <td>-141202.267848</td>\n",
       "      <td>498.710602</td>\n",
       "      <td>375.768902</td>\n",
       "      <td>0.127305</td>\n",
       "    </tr>\n",
       "    <tr>\n",
       "      <th>7</th>\n",
       "      <td>0.001153</td>\n",
       "      <td>0.000887</td>\n",
       "      <td>0.466686</td>\n",
       "      <td>0.750022</td>\n",
       "      <td>-124725.637663</td>\n",
       "      <td>-152657.719010</td>\n",
       "      <td>353.165171</td>\n",
       "      <td>390.714370</td>\n",
       "      <td>0.283336</td>\n",
       "    </tr>\n",
       "    <tr>\n",
       "      <th>8</th>\n",
       "      <td>0.000932</td>\n",
       "      <td>0.000837</td>\n",
       "      <td>0.703894</td>\n",
       "      <td>0.733384</td>\n",
       "      <td>-73234.610139</td>\n",
       "      <td>-158349.177840</td>\n",
       "      <td>270.618939</td>\n",
       "      <td>397.931122</td>\n",
       "      <td>0.029490</td>\n",
       "    </tr>\n",
       "    <tr>\n",
       "      <th>9</th>\n",
       "      <td>0.000762</td>\n",
       "      <td>0.000704</td>\n",
       "      <td>-0.053629</td>\n",
       "      <td>0.742455</td>\n",
       "      <td>-191504.030943</td>\n",
       "      <td>-148627.932977</td>\n",
       "      <td>437.611735</td>\n",
       "      <td>385.522934</td>\n",
       "      <td>0.796084</td>\n",
       "    </tr>\n",
       "  </tbody>\n",
       "</table>\n",
       "</div>"
      ],
      "text/plain": [
       "   fit_time  score_time   test_r2  train_r2  test_neg_mean_squared_error  \\\n",
       "0  0.003690    0.002309 -0.427257  0.782737               -212380.200372   \n",
       "1  0.001900    0.001852  0.347599  0.771805               -175439.307375   \n",
       "2  0.001923    0.001670  0.264570  0.777014               -156577.815227   \n",
       "3  0.001006    0.001048  0.189408  0.774085               -174889.143650   \n",
       "4  0.001027    0.000817 -0.236440  0.771799               -125422.888658   \n",
       "5  0.000819    0.000774 -0.111243  0.780943               -245168.652009   \n",
       "6  0.001096    0.000968  0.644393  0.771697               -248712.264259   \n",
       "7  0.001153    0.000887  0.466686  0.750022               -124725.637663   \n",
       "8  0.000932    0.000837  0.703894  0.733384                -73234.610139   \n",
       "9  0.000762    0.000704 -0.053629  0.742455               -191504.030943   \n",
       "\n",
       "   train_neg_mean_squared_error   test_rmse  train_rmse   r2_diff  \n",
       "0                -144590.320962  460.847264  380.250340  1.209994  \n",
       "1                -147420.921181  418.854757  383.954322  0.424206  \n",
       "2                -149250.110572  395.699147  386.329019  0.512444  \n",
       "3                -147580.086728  418.197494  384.161537  0.584677  \n",
       "4                -152786.822552  354.150941  390.879550  1.008239  \n",
       "5                -144781.267944  495.145082  380.501338  0.892186  \n",
       "6                -141202.267848  498.710602  375.768902  0.127305  \n",
       "7                -152657.719010  353.165171  390.714370  0.283336  \n",
       "8                -158349.177840  270.618939  397.931122  0.029490  \n",
       "9                -148627.932977  437.611735  385.522934  0.796084  "
      ]
     },
     "execution_count": 22,
     "metadata": {},
     "output_type": "execute_result"
    }
   ],
   "source": [
    "# All results in a dataframe\n",
    "lr2_df = cv_results_df(cv_results)\n",
    "lr2_df"
   ]
  },
  {
   "cell_type": "code",
   "execution_count": 23,
   "metadata": {
    "ExecuteTime": {
     "end_time": "2023-09-21T13:53:55.775357Z",
     "start_time": "2023-09-21T13:53:55.760358Z"
    },
    "hidden": true
   },
   "outputs": [
    {
     "data": {
      "text/html": [
       "<div>\n",
       "<style scoped>\n",
       "    .dataframe tbody tr th:only-of-type {\n",
       "        vertical-align: middle;\n",
       "    }\n",
       "\n",
       "    .dataframe tbody tr th {\n",
       "        vertical-align: top;\n",
       "    }\n",
       "\n",
       "    .dataframe thead th {\n",
       "        text-align: right;\n",
       "    }\n",
       "</style>\n",
       "<table border=\"1\" class=\"dataframe\">\n",
       "  <thead>\n",
       "    <tr style=\"text-align: right;\">\n",
       "      <th></th>\n",
       "      <th>mean</th>\n",
       "      <th>std</th>\n",
       "      <th>var</th>\n",
       "    </tr>\n",
       "  </thead>\n",
       "  <tbody>\n",
       "    <tr>\n",
       "      <th>test_r2</th>\n",
       "      <td>0.178798</td>\n",
       "      <td>0.378479</td>\n",
       "      <td>0.143246</td>\n",
       "    </tr>\n",
       "    <tr>\n",
       "      <th>train_r2</th>\n",
       "      <td>0.765594</td>\n",
       "      <td>0.017197</td>\n",
       "      <td>0.000296</td>\n",
       "    </tr>\n",
       "    <tr>\n",
       "      <th>test_rmse</th>\n",
       "      <td>410.300113</td>\n",
       "      <td>70.389964</td>\n",
       "      <td>4954.746971</td>\n",
       "    </tr>\n",
       "    <tr>\n",
       "      <th>train_rmse</th>\n",
       "      <td>385.601343</td>\n",
       "      <td>6.347944</td>\n",
       "      <td>40.296392</td>\n",
       "    </tr>\n",
       "  </tbody>\n",
       "</table>\n",
       "</div>"
      ],
      "text/plain": [
       "                  mean        std          var\n",
       "test_r2       0.178798   0.378479     0.143246\n",
       "train_r2      0.765594   0.017197     0.000296\n",
       "test_rmse   410.300113  70.389964  4954.746971\n",
       "train_rmse  385.601343   6.347944    40.296392"
      ]
     },
     "execution_count": 23,
     "metadata": {},
     "output_type": "execute_result"
    }
   ],
   "source": [
    "# Aggregate and reduce\n",
    "\n",
    "\n",
    "lr2_df[['test_r2','train_r2','test_rmse','train_rmse']].agg(['mean','std','var']).T"
   ]
  },
  {
   "cell_type": "code",
   "execution_count": 24,
   "metadata": {
    "ExecuteTime": {
     "end_time": "2023-09-21T13:53:55.790356Z",
     "start_time": "2023-09-21T13:53:55.776358Z"
    },
    "hidden": true
   },
   "outputs": [
    {
     "data": {
      "text/plain": [
       "array([-1.42157732, 14.00729125, -8.35710258, 53.77190154])"
      ]
     },
     "execution_count": 24,
     "metadata": {},
     "output_type": "execute_result"
    }
   ],
   "source": [
    "LinearRegression().fit(X,y).coef_"
   ]
  },
  {
   "cell_type": "markdown",
   "metadata": {
    "heading_collapsed": true
   },
   "source": [
    "# Preventing Overfitting - Regularization"
   ]
  },
  {
   "cell_type": "markdown",
   "metadata": {
    "hidden": true
   },
   "source": [
    "Again, complex models are very flexible in the patterns that they can model but this also means that they can easily find patterns that are simply statistical flukes of one particular dataset rather than patterns reflective of the underlying data-generating process."
   ]
  },
  {
   "cell_type": "markdown",
   "metadata": {
    "hidden": true
   },
   "source": [
    "When a model has large weights, the model is \"too confident\". This translates to a model with high variance which puts it in danger of overfitting!"
   ]
  },
  {
   "cell_type": "markdown",
   "metadata": {
    "hidden": true
   },
   "source": [
    "![](images/punishing_model_metaphor.jpeg)"
   ]
  },
  {
   "cell_type": "markdown",
   "metadata": {
    "hidden": true
   },
   "source": [
    "We need to punish large (confident) weights by contributing them to the error function"
   ]
  },
  {
   "cell_type": "markdown",
   "metadata": {
    "hidden": true
   },
   "source": [
    "**Some Types of Regularization:**\n",
    "\n",
    "1. Reducing the number of features\n",
    "2. Increasing the amount of data\n",
    "3. Popular techniques: Ridge, Lasso, Elastic Net\n",
    "        "
   ]
  },
  {
   "cell_type": "markdown",
   "metadata": {
    "heading_collapsed": true,
    "hidden": true
   },
   "source": [
    "## The Strategy Behind Ridge / Lasso / Elastic Net"
   ]
  },
  {
   "cell_type": "markdown",
   "metadata": {
    "hidden": true
   },
   "source": [
    "Overfit models overestimate the relevance that predictors have for a target. Thus overfit models tend to have **overly large coefficients**. \n",
    "\n",
    "Generally, overfitting models come from a result of high model variance. High model variance can be caused by:\n",
    "\n",
    "- having irrelevant or too many predictors\n",
    "- multicollinearity\n",
    "- large coefficients"
   ]
  },
  {
   "cell_type": "markdown",
   "metadata": {
    "hidden": true
   },
   "source": [
    "The evaluation of many models, linear regression included, proceeds by measuring its **error**, some quantifiable expression of the discrepancy between its predictions and the ground truth. The best-fit line of LR, for example, minimizes the sum of squared residuals.\n",
    "\n",
    "Our new idea, then, will be ***to add a term representing the size of our coefficients to our loss function***. This will be our **cost function** $J$.\n",
    "\n",
    "The goal will still be to minimize this new function, but we can make progress toward this minimum *either* by reducing the size of our residuals *or* by reducing the size of our coefficients.\n",
    "\n",
    "Since coefficients can be either negative or positive, we have the familiar difficulty that we can't simply add them up to get a sense of how large they are in general. Once again there are two natural choices: We could focus either on the squares or the absolute values of the coefficients. The former strategy is the basis for **Ridge** (also called Tikhonov) regularization; the latter strategy results in **Lasso** (Least Absolute Shrinkage and Selection Operator) regularization.\n",
    "\n",
    "These tools, as we shall see, are easily implemented with `sklearn`."
   ]
  },
  {
   "cell_type": "markdown",
   "metadata": {
    "hidden": true
   },
   "source": [
    "--------"
   ]
  },
  {
   "cell_type": "markdown",
   "metadata": {
    "hidden": true
   },
   "source": [
    "Regularization is about introducing a factor into our model designed to enforce the stricture that the coefficients stay small, by _penalizing_ the ones that get too large.\n",
    "\n",
    "That is, we'll alter our loss function so that the goal now is not merely to minimize the difference between actual values and our model's predicted values. Rather, we'll add in a term to our loss function that represents the sizes of the coefficients."
   ]
  },
  {
   "cell_type": "markdown",
   "metadata": {
    "heading_collapsed": true,
    "hidden": true
   },
   "source": [
    "## Ridge and Lasso Regression"
   ]
  },
  {
   "cell_type": "markdown",
   "metadata": {
    "hidden": true
   },
   "source": [
    "The first problem is about picking up on noise rather than signal.\n",
    "The second problem is about having a least-squares estimate that is highly sensitive to random error.\n",
    "The third is about having highly sensitive predictors.\n",
    "\n",
    "Regularization is about introducing a factor into our model designed to enforce the stricture that the coefficients stay small, by penalizing the ones that get too large.\n",
    "\n",
    "That is, we'll alter our loss function so that the goal now is not merely to minimize the difference between actual values and our model's predicted values. Rather, we'll add in a term to our loss function that represents the sizes of the coefficients."
   ]
  },
  {
   "cell_type": "markdown",
   "metadata": {
    "heading_collapsed": true,
    "hidden": true
   },
   "source": [
    "### Lasso: L1 Regularization - Absolute Value"
   ]
  },
  {
   "cell_type": "markdown",
   "metadata": {
    "hidden": true
   },
   "source": [
    "- Tend to get sparse vectors (small weights go to 0)\n",
    "- Reduce number of weights\n",
    "- Good feature selection to pick out importance\n",
    "\n",
    "$$ J(W,b) = -\\dfrac{1}{m} \\sum^m_{i=1}\\big[\\mathcal{L}(\\hat y_i, y_i)+ \\lambda|w_i| \\big]$$"
   ]
  },
  {
   "cell_type": "markdown",
   "metadata": {
    "heading_collapsed": true,
    "hidden": true
   },
   "source": [
    "### Ridge: L2 Regularization - Squared Value"
   ]
  },
  {
   "cell_type": "markdown",
   "metadata": {
    "hidden": true
   },
   "source": [
    "- Not sparse vectors (weights homogeneous & small)\n",
    "- Tends to give better results for training\n",
    "\n",
    "    \n",
    "$$ J(W,b) = -\\dfrac{1}{m} \\sum^m_{i=1}\\big[\\mathcal{L}(\\hat y_i, y_i)+ \\lambda w_i^2 \\big]$$"
   ]
  },
  {
   "cell_type": "markdown",
   "metadata": {
    "heading_collapsed": true,
    "hidden": true
   },
   "source": [
    "### 🤔 Which Do I Use?"
   ]
  },
  {
   "cell_type": "markdown",
   "metadata": {
    "hidden": true
   },
   "source": [
    "> Typically you'll want to use L2 regularization "
   ]
  },
  {
   "cell_type": "markdown",
   "metadata": {
    "hidden": true
   },
   "source": [
    "- For a given value of $\\lambda$, the ridge makes for a gentler reining in of runaway coefficients. When in doubt, try ridge first.\n",
    "- The lasso will more quickly reduce the contribution of individual predictors down to insignificance. It is therefore most useful for trimming through the fat of datasets with many predictors or if a model with very few predictors is especially desirable."
   ]
  },
  {
   "cell_type": "markdown",
   "metadata": {
    "heading_collapsed": true,
    "hidden": true
   },
   "source": [
    "##### Aside: Comparing L1 & L2 Regularization"
   ]
  },
  {
   "cell_type": "markdown",
   "metadata": {
    "hidden": true
   },
   "source": [
    "This is a bit subtle: \n",
    "- Consider vectors: [1,0] & [0.5, 0.5] \n",
    "- Recall we want smallest value for our value\n",
    "- L2 prefers [0.5,0.5] over [1,0] "
   ]
  },
  {
   "cell_type": "markdown",
   "metadata": {
    "hidden": true
   },
   "source": [
    "For a nice discussion of these methods in Python, see [this post](https://towardsdatascience.com/ridge-and-lasso-regression-a-complete-guide-with-python-scikit-learn-e20e34bcbf0b)."
   ]
  },
  {
   "cell_type": "markdown",
   "metadata": {
    "heading_collapsed": true,
    "hidden": true
   },
   "source": [
    "### The Best of Both Worlds: Elastic Net"
   ]
  },
  {
   "cell_type": "markdown",
   "metadata": {
    "hidden": true
   },
   "source": [
    "There is a combination of L1 and L2 regularization called the Elastic Net that can also be used. The idea is to use a scaled linear combination of the lasso and the ridge, where the weights add up to 100%. We might want 50% of each, but we also might want, say, 10% Lasso and 90% Ridge.\n",
    "\n",
    "The loss function for an Elastic Net Regression looks like this:\n",
    "\n",
    "Elastic Net:\n",
    "\n",
    "$\\rho\\Sigma^{n_{obs.}}_{i=1}[(y_i - \\Sigma^{n_{feat.}}_{j=0}\\beta_j\\times x_{ij})^2 + \\lambda\\Sigma^{n_{feat.}}_{j=0}|\\beta_j|] + (1 - \\rho)\\Sigma^{n_{obs.}}_{i=1}[(y_i - \\Sigma^{n_{feat.}}_{j=0}\\beta_j\\times x_{ij})^2 + \\lambda\\Sigma^{n_{feat.}}_{j=0}\\beta^2_j]$\n",
    "\n",
    "Sometimes you will see this loss function represented with different scaling terms, but the basic idea is to have a combination of L1 and L2 regularization terms."
   ]
  },
  {
   "cell_type": "markdown",
   "metadata": {
    "heading_collapsed": true,
    "hidden": true
   },
   "source": [
    "## Code it Out!"
   ]
  },
  {
   "cell_type": "markdown",
   "metadata": {
    "heading_collapsed": true,
    "hidden": true
   },
   "source": [
    "### Producing an Overfit Model"
   ]
  },
  {
   "cell_type": "markdown",
   "metadata": {
    "hidden": true
   },
   "source": [
    "We can often produce an overfit model by including **interaction terms**. We'll start over with the penguins dataset. This time we'll include the categorical features."
   ]
  },
  {
   "cell_type": "markdown",
   "metadata": {
    "heading_collapsed": true,
    "hidden": true
   },
   "source": [
    "#### Train-Test Split"
   ]
  },
  {
   "cell_type": "code",
   "execution_count": 25,
   "metadata": {
    "ExecuteTime": {
     "end_time": "2023-09-21T13:53:55.806357Z",
     "start_time": "2023-09-21T13:53:55.793357Z"
    },
    "hidden": true
   },
   "outputs": [],
   "source": [
    "birds = sns.load_dataset('penguins')\n",
    "birds = birds.dropna()"
   ]
  },
  {
   "cell_type": "code",
   "execution_count": 26,
   "metadata": {
    "ExecuteTime": {
     "end_time": "2023-09-21T13:53:55.821360Z",
     "start_time": "2023-09-21T13:53:55.808359Z"
    },
    "hidden": true
   },
   "outputs": [
    {
     "data": {
      "text/html": [
       "<div>\n",
       "<style scoped>\n",
       "    .dataframe tbody tr th:only-of-type {\n",
       "        vertical-align: middle;\n",
       "    }\n",
       "\n",
       "    .dataframe tbody tr th {\n",
       "        vertical-align: top;\n",
       "    }\n",
       "\n",
       "    .dataframe thead th {\n",
       "        text-align: right;\n",
       "    }\n",
       "</style>\n",
       "<table border=\"1\" class=\"dataframe\">\n",
       "  <thead>\n",
       "    <tr style=\"text-align: right;\">\n",
       "      <th></th>\n",
       "      <th>species</th>\n",
       "      <th>island</th>\n",
       "      <th>bill_length_mm</th>\n",
       "      <th>bill_depth_mm</th>\n",
       "      <th>flipper_length_mm</th>\n",
       "      <th>body_mass_g</th>\n",
       "      <th>sex</th>\n",
       "    </tr>\n",
       "  </thead>\n",
       "  <tbody>\n",
       "    <tr>\n",
       "      <th>0</th>\n",
       "      <td>Adelie</td>\n",
       "      <td>Torgersen</td>\n",
       "      <td>39.1</td>\n",
       "      <td>18.7</td>\n",
       "      <td>181.0</td>\n",
       "      <td>3750.0</td>\n",
       "      <td>Male</td>\n",
       "    </tr>\n",
       "    <tr>\n",
       "      <th>1</th>\n",
       "      <td>Adelie</td>\n",
       "      <td>Torgersen</td>\n",
       "      <td>39.5</td>\n",
       "      <td>17.4</td>\n",
       "      <td>186.0</td>\n",
       "      <td>3800.0</td>\n",
       "      <td>Female</td>\n",
       "    </tr>\n",
       "    <tr>\n",
       "      <th>2</th>\n",
       "      <td>Adelie</td>\n",
       "      <td>Torgersen</td>\n",
       "      <td>40.3</td>\n",
       "      <td>18.0</td>\n",
       "      <td>195.0</td>\n",
       "      <td>3250.0</td>\n",
       "      <td>Female</td>\n",
       "    </tr>\n",
       "    <tr>\n",
       "      <th>4</th>\n",
       "      <td>Adelie</td>\n",
       "      <td>Torgersen</td>\n",
       "      <td>36.7</td>\n",
       "      <td>19.3</td>\n",
       "      <td>193.0</td>\n",
       "      <td>3450.0</td>\n",
       "      <td>Female</td>\n",
       "    </tr>\n",
       "    <tr>\n",
       "      <th>5</th>\n",
       "      <td>Adelie</td>\n",
       "      <td>Torgersen</td>\n",
       "      <td>39.3</td>\n",
       "      <td>20.6</td>\n",
       "      <td>190.0</td>\n",
       "      <td>3650.0</td>\n",
       "      <td>Male</td>\n",
       "    </tr>\n",
       "  </tbody>\n",
       "</table>\n",
       "</div>"
      ],
      "text/plain": [
       "  species     island  bill_length_mm  bill_depth_mm  flipper_length_mm  \\\n",
       "0  Adelie  Torgersen            39.1           18.7              181.0   \n",
       "1  Adelie  Torgersen            39.5           17.4              186.0   \n",
       "2  Adelie  Torgersen            40.3           18.0              195.0   \n",
       "4  Adelie  Torgersen            36.7           19.3              193.0   \n",
       "5  Adelie  Torgersen            39.3           20.6              190.0   \n",
       "\n",
       "   body_mass_g     sex  \n",
       "0       3750.0    Male  \n",
       "1       3800.0  Female  \n",
       "2       3250.0  Female  \n",
       "4       3450.0  Female  \n",
       "5       3650.0    Male  "
      ]
     },
     "execution_count": 26,
     "metadata": {},
     "output_type": "execute_result"
    }
   ],
   "source": [
    "birds.head()"
   ]
  },
  {
   "cell_type": "code",
   "execution_count": 27,
   "metadata": {
    "ExecuteTime": {
     "end_time": "2023-09-21T13:53:55.837357Z",
     "start_time": "2023-09-21T13:53:55.822358Z"
    },
    "hidden": true
   },
   "outputs": [],
   "source": [
    "X_train, X_test, y_train, y_test = train_test_split(\n",
    "                                        birds.drop('body_mass_g', axis=1),\n",
    "                                        birds['body_mass_g'],\n",
    "                                        random_state=42\n",
    ")"
   ]
  },
  {
   "cell_type": "code",
   "execution_count": 30,
   "metadata": {
    "ExecuteTime": {
     "end_time": "2023-09-21T13:53:55.869357Z",
     "start_time": "2023-09-21T13:53:55.838357Z"
    },
    "hidden": true
   },
   "outputs": [
    {
     "data": {
      "text/html": [
       "<div>\n",
       "<style scoped>\n",
       "    .dataframe tbody tr th:only-of-type {\n",
       "        vertical-align: middle;\n",
       "    }\n",
       "\n",
       "    .dataframe tbody tr th {\n",
       "        vertical-align: top;\n",
       "    }\n",
       "\n",
       "    .dataframe thead th {\n",
       "        text-align: right;\n",
       "    }\n",
       "</style>\n",
       "<table border=\"1\" class=\"dataframe\">\n",
       "  <thead>\n",
       "    <tr style=\"text-align: right;\">\n",
       "      <th></th>\n",
       "      <th>bill_length_mm</th>\n",
       "      <th>bill_depth_mm</th>\n",
       "      <th>flipper_length_mm</th>\n",
       "      <th>species_Chinstrap</th>\n",
       "      <th>species_Gentoo</th>\n",
       "      <th>island_Dream</th>\n",
       "      <th>island_Torgersen</th>\n",
       "      <th>sex_Male</th>\n",
       "    </tr>\n",
       "  </thead>\n",
       "  <tbody>\n",
       "    <tr>\n",
       "      <th>321</th>\n",
       "      <td>55.9</td>\n",
       "      <td>17.0</td>\n",
       "      <td>228.0</td>\n",
       "      <td>0.0</td>\n",
       "      <td>1.0</td>\n",
       "      <td>0.0</td>\n",
       "      <td>0.0</td>\n",
       "      <td>1.0</td>\n",
       "    </tr>\n",
       "    <tr>\n",
       "      <th>265</th>\n",
       "      <td>43.6</td>\n",
       "      <td>13.9</td>\n",
       "      <td>217.0</td>\n",
       "      <td>0.0</td>\n",
       "      <td>1.0</td>\n",
       "      <td>0.0</td>\n",
       "      <td>0.0</td>\n",
       "      <td>0.0</td>\n",
       "    </tr>\n",
       "    <tr>\n",
       "      <th>36</th>\n",
       "      <td>38.8</td>\n",
       "      <td>20.0</td>\n",
       "      <td>190.0</td>\n",
       "      <td>0.0</td>\n",
       "      <td>0.0</td>\n",
       "      <td>1.0</td>\n",
       "      <td>0.0</td>\n",
       "      <td>1.0</td>\n",
       "    </tr>\n",
       "    <tr>\n",
       "      <th>308</th>\n",
       "      <td>47.5</td>\n",
       "      <td>14.0</td>\n",
       "      <td>212.0</td>\n",
       "      <td>0.0</td>\n",
       "      <td>1.0</td>\n",
       "      <td>0.0</td>\n",
       "      <td>0.0</td>\n",
       "      <td>0.0</td>\n",
       "    </tr>\n",
       "    <tr>\n",
       "      <th>191</th>\n",
       "      <td>53.5</td>\n",
       "      <td>19.9</td>\n",
       "      <td>205.0</td>\n",
       "      <td>1.0</td>\n",
       "      <td>0.0</td>\n",
       "      <td>1.0</td>\n",
       "      <td>0.0</td>\n",
       "      <td>1.0</td>\n",
       "    </tr>\n",
       "  </tbody>\n",
       "</table>\n",
       "</div>"
      ],
      "text/plain": [
       "     bill_length_mm  bill_depth_mm  flipper_length_mm  species_Chinstrap  \\\n",
       "321            55.9           17.0              228.0                0.0   \n",
       "265            43.6           13.9              217.0                0.0   \n",
       "36             38.8           20.0              190.0                0.0   \n",
       "308            47.5           14.0              212.0                0.0   \n",
       "191            53.5           19.9              205.0                1.0   \n",
       "\n",
       "     species_Gentoo  island_Dream  island_Torgersen  sex_Male  \n",
       "321             1.0           0.0               0.0       1.0  \n",
       "265             1.0           0.0               0.0       0.0  \n",
       "36              0.0           1.0               0.0       1.0  \n",
       "308             1.0           0.0               0.0       0.0  \n",
       "191             0.0           1.0               0.0       1.0  "
      ]
     },
     "execution_count": 30,
     "metadata": {},
     "output_type": "execute_result"
    }
   ],
   "source": [
    "# Taking in other features (category)\n",
    "ohe = OneHotEncoder(drop='first')\n",
    "dummies = ohe.fit_transform(X_train[['species', 'island', 'sex']])\n",
    "\n",
    "# Getting a DF\n",
    "dummies_df = pd.DataFrame(dummies.todense(), columns=ohe.get_feature_names_out(),\n",
    "                         index=X_train.index)\n",
    "\n",
    "# What we'll feed int our model\n",
    "X_train_df = pd.concat([X_train[['bill_length_mm', 'bill_depth_mm',\n",
    "                                'flipper_length_mm']], dummies_df], axis=1)\n",
    "X_train_df.head()"
   ]
  },
  {
   "cell_type": "markdown",
   "metadata": {
    "hidden": true
   },
   "source": [
    "Our Test Data:"
   ]
  },
  {
   "cell_type": "code",
   "execution_count": 31,
   "metadata": {
    "ExecuteTime": {
     "end_time": "2023-09-21T13:53:55.884357Z",
     "start_time": "2023-09-21T13:53:55.870358Z"
    },
    "hidden": true
   },
   "outputs": [],
   "source": [
    "# Note the same transformation (not FIT) to match structure\n",
    "test_dummies = ohe.transform(X_test[['species', 'island', 'sex']])\n",
    "test_df = pd.DataFrame(test_dummies.todense(), columns=ohe.get_feature_names_out(),\n",
    "                       index=X_test.index)\n",
    "X_test_df = pd.concat([X_test[['bill_length_mm', 'bill_depth_mm',\n",
    "                              'flipper_length_mm']], test_df], axis=1)"
   ]
  },
  {
   "cell_type": "code",
   "execution_count": 32,
   "metadata": {
    "ExecuteTime": {
     "end_time": "2023-09-21T13:53:55.900357Z",
     "start_time": "2023-09-21T13:53:55.885358Z"
    },
    "hidden": true
   },
   "outputs": [
    {
     "data": {
      "text/html": [
       "<div>\n",
       "<style scoped>\n",
       "    .dataframe tbody tr th:only-of-type {\n",
       "        vertical-align: middle;\n",
       "    }\n",
       "\n",
       "    .dataframe tbody tr th {\n",
       "        vertical-align: top;\n",
       "    }\n",
       "\n",
       "    .dataframe thead th {\n",
       "        text-align: right;\n",
       "    }\n",
       "</style>\n",
       "<table border=\"1\" class=\"dataframe\">\n",
       "  <thead>\n",
       "    <tr style=\"text-align: right;\">\n",
       "      <th></th>\n",
       "      <th>bill_length_mm</th>\n",
       "      <th>bill_depth_mm</th>\n",
       "      <th>flipper_length_mm</th>\n",
       "      <th>species_Chinstrap</th>\n",
       "      <th>species_Gentoo</th>\n",
       "      <th>island_Dream</th>\n",
       "      <th>island_Torgersen</th>\n",
       "      <th>sex_Male</th>\n",
       "    </tr>\n",
       "  </thead>\n",
       "  <tbody>\n",
       "    <tr>\n",
       "      <th>30</th>\n",
       "      <td>39.5</td>\n",
       "      <td>16.7</td>\n",
       "      <td>178.0</td>\n",
       "      <td>0.0</td>\n",
       "      <td>0.0</td>\n",
       "      <td>1.0</td>\n",
       "      <td>0.0</td>\n",
       "      <td>0.0</td>\n",
       "    </tr>\n",
       "    <tr>\n",
       "      <th>317</th>\n",
       "      <td>46.9</td>\n",
       "      <td>14.6</td>\n",
       "      <td>222.0</td>\n",
       "      <td>0.0</td>\n",
       "      <td>1.0</td>\n",
       "      <td>0.0</td>\n",
       "      <td>0.0</td>\n",
       "      <td>0.0</td>\n",
       "    </tr>\n",
       "    <tr>\n",
       "      <th>79</th>\n",
       "      <td>42.1</td>\n",
       "      <td>19.1</td>\n",
       "      <td>195.0</td>\n",
       "      <td>0.0</td>\n",
       "      <td>0.0</td>\n",
       "      <td>0.0</td>\n",
       "      <td>1.0</td>\n",
       "      <td>1.0</td>\n",
       "    </tr>\n",
       "    <tr>\n",
       "      <th>201</th>\n",
       "      <td>49.8</td>\n",
       "      <td>17.3</td>\n",
       "      <td>198.0</td>\n",
       "      <td>1.0</td>\n",
       "      <td>0.0</td>\n",
       "      <td>1.0</td>\n",
       "      <td>0.0</td>\n",
       "      <td>0.0</td>\n",
       "    </tr>\n",
       "    <tr>\n",
       "      <th>63</th>\n",
       "      <td>41.1</td>\n",
       "      <td>18.2</td>\n",
       "      <td>192.0</td>\n",
       "      <td>0.0</td>\n",
       "      <td>0.0</td>\n",
       "      <td>0.0</td>\n",
       "      <td>0.0</td>\n",
       "      <td>1.0</td>\n",
       "    </tr>\n",
       "    <tr>\n",
       "      <th>...</th>\n",
       "      <td>...</td>\n",
       "      <td>...</td>\n",
       "      <td>...</td>\n",
       "      <td>...</td>\n",
       "      <td>...</td>\n",
       "      <td>...</td>\n",
       "      <td>...</td>\n",
       "      <td>...</td>\n",
       "    </tr>\n",
       "    <tr>\n",
       "      <th>247</th>\n",
       "      <td>47.8</td>\n",
       "      <td>15.0</td>\n",
       "      <td>215.0</td>\n",
       "      <td>0.0</td>\n",
       "      <td>1.0</td>\n",
       "      <td>0.0</td>\n",
       "      <td>0.0</td>\n",
       "      <td>1.0</td>\n",
       "    </tr>\n",
       "    <tr>\n",
       "      <th>122</th>\n",
       "      <td>40.2</td>\n",
       "      <td>17.0</td>\n",
       "      <td>176.0</td>\n",
       "      <td>0.0</td>\n",
       "      <td>0.0</td>\n",
       "      <td>0.0</td>\n",
       "      <td>1.0</td>\n",
       "      <td>0.0</td>\n",
       "    </tr>\n",
       "    <tr>\n",
       "      <th>146</th>\n",
       "      <td>39.2</td>\n",
       "      <td>18.6</td>\n",
       "      <td>190.0</td>\n",
       "      <td>0.0</td>\n",
       "      <td>0.0</td>\n",
       "      <td>1.0</td>\n",
       "      <td>0.0</td>\n",
       "      <td>1.0</td>\n",
       "    </tr>\n",
       "    <tr>\n",
       "      <th>182</th>\n",
       "      <td>40.9</td>\n",
       "      <td>16.6</td>\n",
       "      <td>187.0</td>\n",
       "      <td>1.0</td>\n",
       "      <td>0.0</td>\n",
       "      <td>1.0</td>\n",
       "      <td>0.0</td>\n",
       "      <td>0.0</td>\n",
       "    </tr>\n",
       "    <tr>\n",
       "      <th>96</th>\n",
       "      <td>38.1</td>\n",
       "      <td>18.6</td>\n",
       "      <td>190.0</td>\n",
       "      <td>0.0</td>\n",
       "      <td>0.0</td>\n",
       "      <td>1.0</td>\n",
       "      <td>0.0</td>\n",
       "      <td>0.0</td>\n",
       "    </tr>\n",
       "  </tbody>\n",
       "</table>\n",
       "<p>84 rows × 8 columns</p>\n",
       "</div>"
      ],
      "text/plain": [
       "     bill_length_mm  bill_depth_mm  flipper_length_mm  species_Chinstrap  \\\n",
       "30             39.5           16.7              178.0                0.0   \n",
       "317            46.9           14.6              222.0                0.0   \n",
       "79             42.1           19.1              195.0                0.0   \n",
       "201            49.8           17.3              198.0                1.0   \n",
       "63             41.1           18.2              192.0                0.0   \n",
       "..              ...            ...                ...                ...   \n",
       "247            47.8           15.0              215.0                0.0   \n",
       "122            40.2           17.0              176.0                0.0   \n",
       "146            39.2           18.6              190.0                0.0   \n",
       "182            40.9           16.6              187.0                1.0   \n",
       "96             38.1           18.6              190.0                0.0   \n",
       "\n",
       "     species_Gentoo  island_Dream  island_Torgersen  sex_Male  \n",
       "30              0.0           1.0               0.0       0.0  \n",
       "317             1.0           0.0               0.0       0.0  \n",
       "79              0.0           0.0               1.0       1.0  \n",
       "201             0.0           1.0               0.0       0.0  \n",
       "63              0.0           0.0               0.0       1.0  \n",
       "..              ...           ...               ...       ...  \n",
       "247             1.0           0.0               0.0       1.0  \n",
       "122             0.0           0.0               1.0       0.0  \n",
       "146             0.0           1.0               0.0       1.0  \n",
       "182             0.0           1.0               0.0       0.0  \n",
       "96              0.0           1.0               0.0       0.0  \n",
       "\n",
       "[84 rows x 8 columns]"
      ]
     },
     "execution_count": 32,
     "metadata": {},
     "output_type": "execute_result"
    }
   ],
   "source": [
    "X_test_df"
   ]
  },
  {
   "cell_type": "markdown",
   "metadata": {
    "heading_collapsed": true,
    "hidden": true
   },
   "source": [
    "#### Dummy!"
   ]
  },
  {
   "cell_type": "code",
   "execution_count": 33,
   "metadata": {
    "ExecuteTime": {
     "end_time": "2023-09-21T13:53:55.916357Z",
     "start_time": "2023-09-21T13:53:55.901358Z"
    },
    "hidden": true
   },
   "outputs": [
    {
     "data": {
      "text/html": [
       "<style>#sk-container-id-1 {color: black;}#sk-container-id-1 pre{padding: 0;}#sk-container-id-1 div.sk-toggleable {background-color: white;}#sk-container-id-1 label.sk-toggleable__label {cursor: pointer;display: block;width: 100%;margin-bottom: 0;padding: 0.3em;box-sizing: border-box;text-align: center;}#sk-container-id-1 label.sk-toggleable__label-arrow:before {content: \"▸\";float: left;margin-right: 0.25em;color: #696969;}#sk-container-id-1 label.sk-toggleable__label-arrow:hover:before {color: black;}#sk-container-id-1 div.sk-estimator:hover label.sk-toggleable__label-arrow:before {color: black;}#sk-container-id-1 div.sk-toggleable__content {max-height: 0;max-width: 0;overflow: hidden;text-align: left;background-color: #f0f8ff;}#sk-container-id-1 div.sk-toggleable__content pre {margin: 0.2em;color: black;border-radius: 0.25em;background-color: #f0f8ff;}#sk-container-id-1 input.sk-toggleable__control:checked~div.sk-toggleable__content {max-height: 200px;max-width: 100%;overflow: auto;}#sk-container-id-1 input.sk-toggleable__control:checked~label.sk-toggleable__label-arrow:before {content: \"▾\";}#sk-container-id-1 div.sk-estimator input.sk-toggleable__control:checked~label.sk-toggleable__label {background-color: #d4ebff;}#sk-container-id-1 div.sk-label input.sk-toggleable__control:checked~label.sk-toggleable__label {background-color: #d4ebff;}#sk-container-id-1 input.sk-hidden--visually {border: 0;clip: rect(1px 1px 1px 1px);clip: rect(1px, 1px, 1px, 1px);height: 1px;margin: -1px;overflow: hidden;padding: 0;position: absolute;width: 1px;}#sk-container-id-1 div.sk-estimator {font-family: monospace;background-color: #f0f8ff;border: 1px dotted black;border-radius: 0.25em;box-sizing: border-box;margin-bottom: 0.5em;}#sk-container-id-1 div.sk-estimator:hover {background-color: #d4ebff;}#sk-container-id-1 div.sk-parallel-item::after {content: \"\";width: 100%;border-bottom: 1px solid gray;flex-grow: 1;}#sk-container-id-1 div.sk-label:hover label.sk-toggleable__label {background-color: #d4ebff;}#sk-container-id-1 div.sk-serial::before {content: \"\";position: absolute;border-left: 1px solid gray;box-sizing: border-box;top: 0;bottom: 0;left: 50%;z-index: 0;}#sk-container-id-1 div.sk-serial {display: flex;flex-direction: column;align-items: center;background-color: white;padding-right: 0.2em;padding-left: 0.2em;position: relative;}#sk-container-id-1 div.sk-item {position: relative;z-index: 1;}#sk-container-id-1 div.sk-parallel {display: flex;align-items: stretch;justify-content: center;background-color: white;position: relative;}#sk-container-id-1 div.sk-item::before, #sk-container-id-1 div.sk-parallel-item::before {content: \"\";position: absolute;border-left: 1px solid gray;box-sizing: border-box;top: 0;bottom: 0;left: 50%;z-index: -1;}#sk-container-id-1 div.sk-parallel-item {display: flex;flex-direction: column;z-index: 1;position: relative;background-color: white;}#sk-container-id-1 div.sk-parallel-item:first-child::after {align-self: flex-end;width: 50%;}#sk-container-id-1 div.sk-parallel-item:last-child::after {align-self: flex-start;width: 50%;}#sk-container-id-1 div.sk-parallel-item:only-child::after {width: 0;}#sk-container-id-1 div.sk-dashed-wrapped {border: 1px dashed gray;margin: 0 0.4em 0.5em 0.4em;box-sizing: border-box;padding-bottom: 0.4em;background-color: white;}#sk-container-id-1 div.sk-label label {font-family: monospace;font-weight: bold;display: inline-block;line-height: 1.2em;}#sk-container-id-1 div.sk-label-container {text-align: center;}#sk-container-id-1 div.sk-container {/* jupyter's `normalize.less` sets `[hidden] { display: none; }` but bootstrap.min.css set `[hidden] { display: none !important; }` so we also need the `!important` here to be able to override the default hidden behavior on the sphinx rendered scikit-learn.org. See: https://github.com/scikit-learn/scikit-learn/issues/21755 */display: inline-block !important;position: relative;}#sk-container-id-1 div.sk-text-repr-fallback {display: none;}</style><div id=\"sk-container-id-1\" class=\"sk-top-container\"><div class=\"sk-text-repr-fallback\"><pre>DummyRegressor()</pre><b>In a Jupyter environment, please rerun this cell to show the HTML representation or trust the notebook. <br />On GitHub, the HTML representation is unable to render, please try loading this page with nbviewer.org.</b></div><div class=\"sk-container\" hidden><div class=\"sk-item\"><div class=\"sk-estimator sk-toggleable\"><input class=\"sk-toggleable__control sk-hidden--visually\" id=\"sk-estimator-id-1\" type=\"checkbox\" checked><label for=\"sk-estimator-id-1\" class=\"sk-toggleable__label sk-toggleable__label-arrow\">DummyRegressor</label><div class=\"sk-toggleable__content\"><pre>DummyRegressor()</pre></div></div></div></div></div>"
      ],
      "text/plain": [
       "DummyRegressor()"
      ]
     },
     "execution_count": 33,
     "metadata": {},
     "output_type": "execute_result"
    }
   ],
   "source": [
    "# Instantiate and Fit\n",
    "dum = DummyRegressor()\n",
    "dum.fit(X_train_df, y_train)"
   ]
  },
  {
   "cell_type": "code",
   "execution_count": 34,
   "metadata": {
    "ExecuteTime": {
     "end_time": "2023-09-21T13:53:55.932357Z",
     "start_time": "2023-09-21T13:53:55.917358Z"
    },
    "hidden": true
   },
   "outputs": [
    {
     "data": {
      "text/plain": [
       "0.0"
      ]
     },
     "execution_count": 34,
     "metadata": {},
     "output_type": "execute_result"
    }
   ],
   "source": [
    "dum.score(X_train, y_train)"
   ]
  },
  {
   "cell_type": "code",
   "execution_count": 35,
   "metadata": {
    "ExecuteTime": {
     "end_time": "2023-09-21T13:53:55.963356Z",
     "start_time": "2023-09-21T13:53:55.933358Z"
    },
    "hidden": true
   },
   "outputs": [],
   "source": [
    "# Cross Val!\n",
    "cv_results = cross_validate(estimator=dum,\n",
    "                            X=X_train,\n",
    "                            y=y_train,\n",
    "                            cv=10,\n",
    "                            scoring=('r2','neg_mean_squared_error'),\n",
    "                            return_train_score=True\n",
    "                            \n",
    ")"
   ]
  },
  {
   "cell_type": "code",
   "execution_count": 36,
   "metadata": {
    "ExecuteTime": {
     "end_time": "2023-09-21T13:53:55.979357Z",
     "start_time": "2023-09-21T13:53:55.964358Z"
    },
    "hidden": true
   },
   "outputs": [],
   "source": [
    "# Create results df\n",
    "dum_df = cv_results_df(cv_results)"
   ]
  },
  {
   "cell_type": "code",
   "execution_count": 37,
   "metadata": {
    "ExecuteTime": {
     "end_time": "2023-09-21T13:53:55.994358Z",
     "start_time": "2023-09-21T13:53:55.980357Z"
    },
    "hidden": true
   },
   "outputs": [
    {
     "data": {
      "text/html": [
       "<div>\n",
       "<style scoped>\n",
       "    .dataframe tbody tr th:only-of-type {\n",
       "        vertical-align: middle;\n",
       "    }\n",
       "\n",
       "    .dataframe tbody tr th {\n",
       "        vertical-align: top;\n",
       "    }\n",
       "\n",
       "    .dataframe thead th {\n",
       "        text-align: right;\n",
       "    }\n",
       "</style>\n",
       "<table border=\"1\" class=\"dataframe\">\n",
       "  <thead>\n",
       "    <tr style=\"text-align: right;\">\n",
       "      <th></th>\n",
       "      <th>mean</th>\n",
       "      <th>std</th>\n",
       "      <th>var</th>\n",
       "    </tr>\n",
       "  </thead>\n",
       "  <tbody>\n",
       "    <tr>\n",
       "      <th>test_r2</th>\n",
       "      <td>-0.109779</td>\n",
       "      <td>0.241763</td>\n",
       "      <td>0.058449</td>\n",
       "    </tr>\n",
       "    <tr>\n",
       "      <th>train_r2</th>\n",
       "      <td>0.000000</td>\n",
       "      <td>0.000000</td>\n",
       "      <td>0.000000</td>\n",
       "    </tr>\n",
       "    <tr>\n",
       "      <th>test_rmse</th>\n",
       "      <td>811.363258</td>\n",
       "      <td>104.435263</td>\n",
       "      <td>10906.724079</td>\n",
       "    </tr>\n",
       "    <tr>\n",
       "      <th>train_rmse</th>\n",
       "      <td>812.145067</td>\n",
       "      <td>11.379059</td>\n",
       "      <td>129.482978</td>\n",
       "    </tr>\n",
       "  </tbody>\n",
       "</table>\n",
       "</div>"
      ],
      "text/plain": [
       "                  mean         std           var\n",
       "test_r2      -0.109779    0.241763      0.058449\n",
       "train_r2      0.000000    0.000000      0.000000\n",
       "test_rmse   811.363258  104.435263  10906.724079\n",
       "train_rmse  812.145067   11.379059    129.482978"
      ]
     },
     "execution_count": 37,
     "metadata": {},
     "output_type": "execute_result"
    }
   ],
   "source": [
    "# Aggregate for clarity\n",
    "dum_df[['test_r2','train_r2','test_rmse','train_rmse']].agg(['mean','std','var']).T"
   ]
  },
  {
   "cell_type": "markdown",
   "metadata": {
    "heading_collapsed": true,
    "hidden": true
   },
   "source": [
    "##### Peeking at the end (test data)👀"
   ]
  },
  {
   "cell_type": "code",
   "execution_count": 38,
   "metadata": {
    "ExecuteTime": {
     "end_time": "2023-09-21T13:53:56.010358Z",
     "start_time": "2023-09-21T13:53:55.995359Z"
    },
    "hidden": true
   },
   "outputs": [
    {
     "name": "stdout",
     "output_type": "stream",
     "text": [
      "DummyRegressor() has the following scores:\n",
      "    R^2 of -0.0013838238040353446\n",
      "    RMSE of 778.5201629726316\n"
     ]
    }
   ],
   "source": [
    "#test_peek\n",
    "test_peek(dum, X_test, y_test)"
   ]
  },
  {
   "cell_type": "markdown",
   "metadata": {
    "heading_collapsed": true,
    "hidden": true
   },
   "source": [
    "#### First simple model"
   ]
  },
  {
   "cell_type": "markdown",
   "metadata": {
    "hidden": true
   },
   "source": [
    "Let's do some cross-validation!"
   ]
  },
  {
   "cell_type": "code",
   "execution_count": 39,
   "metadata": {
    "ExecuteTime": {
     "end_time": "2023-09-21T13:53:56.073357Z",
     "start_time": "2023-09-21T13:53:56.011359Z"
    },
    "hidden": true
   },
   "outputs": [],
   "source": [
    "lr1 = LinearRegression()\n",
    "lr1.fit(X_train_df, y_train)\n",
    "\n",
    "cv_results = cross_validate(\n",
    "                X=X_train_df, \n",
    "                y=y_train,\n",
    "                estimator=lr1, \n",
    "                cv=10,\n",
    "                scoring=('r2', 'neg_mean_squared_error'),\n",
    "                return_train_score=True\n",
    ")"
   ]
  },
  {
   "cell_type": "code",
   "execution_count": 40,
   "metadata": {
    "ExecuteTime": {
     "end_time": "2023-09-21T13:53:56.088357Z",
     "start_time": "2023-09-21T13:53:56.074357Z"
    },
    "hidden": true
   },
   "outputs": [
    {
     "data": {
      "text/html": [
       "<div>\n",
       "<style scoped>\n",
       "    .dataframe tbody tr th:only-of-type {\n",
       "        vertical-align: middle;\n",
       "    }\n",
       "\n",
       "    .dataframe tbody tr th {\n",
       "        vertical-align: top;\n",
       "    }\n",
       "\n",
       "    .dataframe thead th {\n",
       "        text-align: right;\n",
       "    }\n",
       "</style>\n",
       "<table border=\"1\" class=\"dataframe\">\n",
       "  <thead>\n",
       "    <tr style=\"text-align: right;\">\n",
       "      <th></th>\n",
       "      <th>fit_time</th>\n",
       "      <th>score_time</th>\n",
       "      <th>test_r2</th>\n",
       "      <th>train_r2</th>\n",
       "      <th>test_neg_mean_squared_error</th>\n",
       "      <th>train_neg_mean_squared_error</th>\n",
       "      <th>test_rmse</th>\n",
       "      <th>train_rmse</th>\n",
       "      <th>r2_diff</th>\n",
       "    </tr>\n",
       "  </thead>\n",
       "  <tbody>\n",
       "    <tr>\n",
       "      <th>0</th>\n",
       "      <td>0.003062</td>\n",
       "      <td>0.002120</td>\n",
       "      <td>0.860923</td>\n",
       "      <td>0.868049</td>\n",
       "      <td>-88749.731328</td>\n",
       "      <td>-86670.788096</td>\n",
       "      <td>297.908931</td>\n",
       "      <td>294.399029</td>\n",
       "      <td>0.007126</td>\n",
       "    </tr>\n",
       "    <tr>\n",
       "      <th>1</th>\n",
       "      <td>0.001982</td>\n",
       "      <td>0.001958</td>\n",
       "      <td>0.688458</td>\n",
       "      <td>0.871848</td>\n",
       "      <td>-85030.515008</td>\n",
       "      <td>-87348.590488</td>\n",
       "      <td>291.599923</td>\n",
       "      <td>295.547950</td>\n",
       "      <td>0.183390</td>\n",
       "    </tr>\n",
       "    <tr>\n",
       "      <th>2</th>\n",
       "      <td>0.001888</td>\n",
       "      <td>0.001873</td>\n",
       "      <td>0.887306</td>\n",
       "      <td>0.866394</td>\n",
       "      <td>-79401.801617</td>\n",
       "      <td>-87516.603076</td>\n",
       "      <td>281.783253</td>\n",
       "      <td>295.832052</td>\n",
       "      <td>-0.020911</td>\n",
       "    </tr>\n",
       "    <tr>\n",
       "      <th>3</th>\n",
       "      <td>0.001057</td>\n",
       "      <td>0.000999</td>\n",
       "      <td>0.853155</td>\n",
       "      <td>0.869021</td>\n",
       "      <td>-128384.436103</td>\n",
       "      <td>-82634.805540</td>\n",
       "      <td>358.307739</td>\n",
       "      <td>287.462703</td>\n",
       "      <td>0.015866</td>\n",
       "    </tr>\n",
       "    <tr>\n",
       "      <th>4</th>\n",
       "      <td>0.001562</td>\n",
       "      <td>0.000953</td>\n",
       "      <td>0.855551</td>\n",
       "      <td>0.869198</td>\n",
       "      <td>-67768.413977</td>\n",
       "      <td>-88899.384764</td>\n",
       "      <td>260.323672</td>\n",
       "      <td>298.159999</td>\n",
       "      <td>0.013647</td>\n",
       "    </tr>\n",
       "    <tr>\n",
       "      <th>5</th>\n",
       "      <td>0.000787</td>\n",
       "      <td>0.000663</td>\n",
       "      <td>0.887796</td>\n",
       "      <td>0.866257</td>\n",
       "      <td>-79243.753212</td>\n",
       "      <td>-87467.578171</td>\n",
       "      <td>281.502670</td>\n",
       "      <td>295.749181</td>\n",
       "      <td>-0.021538</td>\n",
       "    </tr>\n",
       "    <tr>\n",
       "      <th>6</th>\n",
       "      <td>0.000784</td>\n",
       "      <td>0.000716</td>\n",
       "      <td>0.877968</td>\n",
       "      <td>0.866807</td>\n",
       "      <td>-95584.584321</td>\n",
       "      <td>-86086.355163</td>\n",
       "      <td>309.167567</td>\n",
       "      <td>293.404763</td>\n",
       "      <td>-0.011161</td>\n",
       "    </tr>\n",
       "    <tr>\n",
       "      <th>7</th>\n",
       "      <td>0.000686</td>\n",
       "      <td>0.000721</td>\n",
       "      <td>0.718392</td>\n",
       "      <td>0.876828</td>\n",
       "      <td>-102230.492973</td>\n",
       "      <td>-85104.947503</td>\n",
       "      <td>319.735036</td>\n",
       "      <td>291.727523</td>\n",
       "      <td>0.158436</td>\n",
       "    </tr>\n",
       "    <tr>\n",
       "      <th>8</th>\n",
       "      <td>0.000778</td>\n",
       "      <td>0.000698</td>\n",
       "      <td>0.850803</td>\n",
       "      <td>0.869645</td>\n",
       "      <td>-109817.011335</td>\n",
       "      <td>-84577.080609</td>\n",
       "      <td>331.386498</td>\n",
       "      <td>290.821390</td>\n",
       "      <td>0.018842</td>\n",
       "    </tr>\n",
       "    <tr>\n",
       "      <th>9</th>\n",
       "      <td>0.000759</td>\n",
       "      <td>0.000660</td>\n",
       "      <td>0.862633</td>\n",
       "      <td>0.869061</td>\n",
       "      <td>-99877.273983</td>\n",
       "      <td>-85483.275991</td>\n",
       "      <td>316.033660</td>\n",
       "      <td>292.375231</td>\n",
       "      <td>0.006428</td>\n",
       "    </tr>\n",
       "  </tbody>\n",
       "</table>\n",
       "</div>"
      ],
      "text/plain": [
       "   fit_time  score_time   test_r2  train_r2  test_neg_mean_squared_error  \\\n",
       "0  0.003062    0.002120  0.860923  0.868049                -88749.731328   \n",
       "1  0.001982    0.001958  0.688458  0.871848                -85030.515008   \n",
       "2  0.001888    0.001873  0.887306  0.866394                -79401.801617   \n",
       "3  0.001057    0.000999  0.853155  0.869021               -128384.436103   \n",
       "4  0.001562    0.000953  0.855551  0.869198                -67768.413977   \n",
       "5  0.000787    0.000663  0.887796  0.866257                -79243.753212   \n",
       "6  0.000784    0.000716  0.877968  0.866807                -95584.584321   \n",
       "7  0.000686    0.000721  0.718392  0.876828               -102230.492973   \n",
       "8  0.000778    0.000698  0.850803  0.869645               -109817.011335   \n",
       "9  0.000759    0.000660  0.862633  0.869061                -99877.273983   \n",
       "\n",
       "   train_neg_mean_squared_error   test_rmse  train_rmse   r2_diff  \n",
       "0                 -86670.788096  297.908931  294.399029  0.007126  \n",
       "1                 -87348.590488  291.599923  295.547950  0.183390  \n",
       "2                 -87516.603076  281.783253  295.832052 -0.020911  \n",
       "3                 -82634.805540  358.307739  287.462703  0.015866  \n",
       "4                 -88899.384764  260.323672  298.159999  0.013647  \n",
       "5                 -87467.578171  281.502670  295.749181 -0.021538  \n",
       "6                 -86086.355163  309.167567  293.404763 -0.011161  \n",
       "7                 -85104.947503  319.735036  291.727523  0.158436  \n",
       "8                 -84577.080609  331.386498  290.821390  0.018842  \n",
       "9                 -85483.275991  316.033660  292.375231  0.006428  "
      ]
     },
     "execution_count": 40,
     "metadata": {},
     "output_type": "execute_result"
    }
   ],
   "source": [
    "lr1_df = cv_results_df(cv_results)\n",
    "lr1_df"
   ]
  },
  {
   "cell_type": "code",
   "execution_count": 41,
   "metadata": {
    "ExecuteTime": {
     "end_time": "2023-09-21T13:53:56.104358Z",
     "start_time": "2023-09-21T13:53:56.089358Z"
    },
    "hidden": true
   },
   "outputs": [
    {
     "data": {
      "text/html": [
       "<div>\n",
       "<style scoped>\n",
       "    .dataframe tbody tr th:only-of-type {\n",
       "        vertical-align: middle;\n",
       "    }\n",
       "\n",
       "    .dataframe tbody tr th {\n",
       "        vertical-align: top;\n",
       "    }\n",
       "\n",
       "    .dataframe thead th {\n",
       "        text-align: right;\n",
       "    }\n",
       "</style>\n",
       "<table border=\"1\" class=\"dataframe\">\n",
       "  <thead>\n",
       "    <tr style=\"text-align: right;\">\n",
       "      <th></th>\n",
       "      <th>mean</th>\n",
       "      <th>std</th>\n",
       "    </tr>\n",
       "  </thead>\n",
       "  <tbody>\n",
       "    <tr>\n",
       "      <th>test_r2</th>\n",
       "      <td>0.834298</td>\n",
       "      <td>0.070612</td>\n",
       "    </tr>\n",
       "    <tr>\n",
       "      <th>train_r2</th>\n",
       "      <td>0.869311</td>\n",
       "      <td>0.003143</td>\n",
       "    </tr>\n",
       "    <tr>\n",
       "      <th>test_rmse</th>\n",
       "      <td>304.774895</td>\n",
       "      <td>28.305180</td>\n",
       "    </tr>\n",
       "    <tr>\n",
       "      <th>train_rmse</th>\n",
       "      <td>293.547982</td>\n",
       "      <td>3.077372</td>\n",
       "    </tr>\n",
       "  </tbody>\n",
       "</table>\n",
       "</div>"
      ],
      "text/plain": [
       "                  mean        std\n",
       "test_r2       0.834298   0.070612\n",
       "train_r2      0.869311   0.003143\n",
       "test_rmse   304.774895  28.305180\n",
       "train_rmse  293.547982   3.077372"
      ]
     },
     "execution_count": 41,
     "metadata": {},
     "output_type": "execute_result"
    }
   ],
   "source": [
    "lr1_df[['test_r2','train_r2','test_rmse','train_rmse']].agg(['mean','std']).T"
   ]
  },
  {
   "cell_type": "markdown",
   "metadata": {
    "heading_collapsed": true,
    "hidden": true
   },
   "source": [
    "##### Peeking at the end (test data) 👀"
   ]
  },
  {
   "cell_type": "code",
   "execution_count": 42,
   "metadata": {
    "ExecuteTime": {
     "end_time": "2023-09-21T13:53:56.120358Z",
     "start_time": "2023-09-21T13:53:56.105357Z"
    },
    "hidden": true,
    "scrolled": true
   },
   "outputs": [
    {
     "name": "stdout",
     "output_type": "stream",
     "text": [
      "LinearRegression() has the following scores:\n",
      "    R^2 of 0.893422869342433\n",
      "    RMSE of 253.9812117747787\n"
     ]
    }
   ],
   "source": [
    "test_peek(lr1, X_test_df, y_test)"
   ]
  },
  {
   "cell_type": "markdown",
   "metadata": {
    "heading_collapsed": true,
    "hidden": true
   },
   "source": [
    "#### Add Polynomial Features"
   ]
  },
  {
   "cell_type": "code",
   "execution_count": 43,
   "metadata": {
    "ExecuteTime": {
     "end_time": "2023-09-21T13:53:56.136356Z",
     "start_time": "2023-09-21T13:53:56.121359Z"
    },
    "hidden": true
   },
   "outputs": [],
   "source": [
    "# PolynomialFeatures\n",
    "pf = PolynomialFeatures(degree=3)\n",
    "X_poly_train = pf.fit_transform(X_train_df)"
   ]
  },
  {
   "cell_type": "code",
   "execution_count": 45,
   "metadata": {
    "ExecuteTime": {
     "end_time": "2023-09-21T13:53:56.152359Z",
     "start_time": "2023-09-21T13:53:56.137357Z"
    },
    "hidden": true
   },
   "outputs": [
    {
     "data": {
      "text/plain": [
       "array(['1', 'bill_length_mm', 'bill_depth_mm', 'flipper_length_mm',\n",
       "       'species_Chinstrap', 'species_Gentoo', 'island_Dream',\n",
       "       'island_Torgersen', 'sex_Male', 'bill_length_mm^2',\n",
       "       'bill_length_mm bill_depth_mm', 'bill_length_mm flipper_length_mm',\n",
       "       'bill_length_mm species_Chinstrap',\n",
       "       'bill_length_mm species_Gentoo', 'bill_length_mm island_Dream',\n",
       "       'bill_length_mm island_Torgersen', 'bill_length_mm sex_Male',\n",
       "       'bill_depth_mm^2', 'bill_depth_mm flipper_length_mm',\n",
       "       'bill_depth_mm species_Chinstrap'], dtype=object)"
      ]
     },
     "execution_count": 45,
     "metadata": {},
     "output_type": "execute_result"
    }
   ],
   "source": [
    "# look at feature names\n",
    "pf.get_feature_names_out()[:20]"
   ]
  },
  {
   "cell_type": "code",
   "execution_count": 46,
   "metadata": {
    "ExecuteTime": {
     "end_time": "2023-09-21T13:53:56.168357Z",
     "start_time": "2023-09-21T13:53:56.154360Z"
    },
    "hidden": true
   },
   "outputs": [],
   "source": [
    "# Don't forget test!\n",
    "X_poly_test = pf.transform(X_test_df)"
   ]
  },
  {
   "cell_type": "markdown",
   "metadata": {
    "hidden": true
   },
   "source": [
    "Train the model and evaluate (with cross-validation)"
   ]
  },
  {
   "cell_type": "code",
   "execution_count": 47,
   "metadata": {
    "ExecuteTime": {
     "end_time": "2023-09-21T13:53:56.232357Z",
     "start_time": "2023-09-21T13:53:56.169360Z"
    },
    "hidden": true
   },
   "outputs": [],
   "source": [
    "poly_lr = LinearRegression()\n",
    "poly_lr.fit(X_poly_train, y_train)\n",
    "\n",
    "cv_results = cross_validate(\n",
    "                X=X_poly_train, \n",
    "                y=y_train,\n",
    "                estimator=poly_lr, \n",
    "                cv=10,\n",
    "                scoring=('r2', 'neg_mean_squared_error'),\n",
    "                return_train_score=True\n",
    ")"
   ]
  },
  {
   "cell_type": "code",
   "execution_count": 48,
   "metadata": {
    "ExecuteTime": {
     "end_time": "2023-09-21T13:53:56.247357Z",
     "start_time": "2023-09-21T13:53:56.233357Z"
    },
    "hidden": true
   },
   "outputs": [
    {
     "data": {
      "text/html": [
       "<div>\n",
       "<style scoped>\n",
       "    .dataframe tbody tr th:only-of-type {\n",
       "        vertical-align: middle;\n",
       "    }\n",
       "\n",
       "    .dataframe tbody tr th {\n",
       "        vertical-align: top;\n",
       "    }\n",
       "\n",
       "    .dataframe thead th {\n",
       "        text-align: right;\n",
       "    }\n",
       "</style>\n",
       "<table border=\"1\" class=\"dataframe\">\n",
       "  <thead>\n",
       "    <tr style=\"text-align: right;\">\n",
       "      <th></th>\n",
       "      <th>fit_time</th>\n",
       "      <th>score_time</th>\n",
       "      <th>test_r2</th>\n",
       "      <th>train_r2</th>\n",
       "      <th>test_neg_mean_squared_error</th>\n",
       "      <th>train_neg_mean_squared_error</th>\n",
       "      <th>test_rmse</th>\n",
       "      <th>train_rmse</th>\n",
       "      <th>r2_diff</th>\n",
       "    </tr>\n",
       "  </thead>\n",
       "  <tbody>\n",
       "    <tr>\n",
       "      <th>0</th>\n",
       "      <td>0.013530</td>\n",
       "      <td>0.000686</td>\n",
       "      <td>0.584159</td>\n",
       "      <td>0.812745</td>\n",
       "      <td>-265362.513773</td>\n",
       "      <td>-122996.384187</td>\n",
       "      <td>515.133491</td>\n",
       "      <td>350.708403</td>\n",
       "      <td>0.228586</td>\n",
       "    </tr>\n",
       "    <tr>\n",
       "      <th>1</th>\n",
       "      <td>0.013130</td>\n",
       "      <td>0.000421</td>\n",
       "      <td>-0.981819</td>\n",
       "      <td>0.905867</td>\n",
       "      <td>-540905.922141</td>\n",
       "      <td>-64161.029555</td>\n",
       "      <td>735.463066</td>\n",
       "      <td>253.300275</td>\n",
       "      <td>1.887686</td>\n",
       "    </tr>\n",
       "    <tr>\n",
       "      <th>2</th>\n",
       "      <td>0.015400</td>\n",
       "      <td>0.000478</td>\n",
       "      <td>0.578837</td>\n",
       "      <td>0.871218</td>\n",
       "      <td>-296741.339939</td>\n",
       "      <td>-84356.714009</td>\n",
       "      <td>544.739699</td>\n",
       "      <td>290.442273</td>\n",
       "      <td>0.292381</td>\n",
       "    </tr>\n",
       "    <tr>\n",
       "      <th>3</th>\n",
       "      <td>0.013512</td>\n",
       "      <td>0.000453</td>\n",
       "      <td>0.672008</td>\n",
       "      <td>0.867914</td>\n",
       "      <td>-286758.254540</td>\n",
       "      <td>-83333.314699</td>\n",
       "      <td>535.498137</td>\n",
       "      <td>288.675102</td>\n",
       "      <td>0.195906</td>\n",
       "    </tr>\n",
       "    <tr>\n",
       "      <th>4</th>\n",
       "      <td>0.014052</td>\n",
       "      <td>0.000452</td>\n",
       "      <td>-0.164060</td>\n",
       "      <td>0.804395</td>\n",
       "      <td>-546118.814047</td>\n",
       "      <td>-132942.203669</td>\n",
       "      <td>738.998521</td>\n",
       "      <td>364.612402</td>\n",
       "      <td>0.968455</td>\n",
       "    </tr>\n",
       "    <tr>\n",
       "      <th>5</th>\n",
       "      <td>0.013715</td>\n",
       "      <td>0.000458</td>\n",
       "      <td>0.513485</td>\n",
       "      <td>0.892494</td>\n",
       "      <td>-343599.131504</td>\n",
       "      <td>-70308.683011</td>\n",
       "      <td>586.173295</td>\n",
       "      <td>265.157845</td>\n",
       "      <td>0.379009</td>\n",
       "    </tr>\n",
       "    <tr>\n",
       "      <th>6</th>\n",
       "      <td>0.013179</td>\n",
       "      <td>0.000380</td>\n",
       "      <td>0.135447</td>\n",
       "      <td>0.892351</td>\n",
       "      <td>-677181.882003</td>\n",
       "      <td>-69576.587768</td>\n",
       "      <td>822.910616</td>\n",
       "      <td>263.773744</td>\n",
       "      <td>0.756904</td>\n",
       "    </tr>\n",
       "    <tr>\n",
       "      <th>7</th>\n",
       "      <td>0.012468</td>\n",
       "      <td>0.000399</td>\n",
       "      <td>0.120226</td>\n",
       "      <td>0.883432</td>\n",
       "      <td>-319379.071242</td>\n",
       "      <td>-80541.473945</td>\n",
       "      <td>565.136330</td>\n",
       "      <td>283.798298</td>\n",
       "      <td>0.763206</td>\n",
       "    </tr>\n",
       "    <tr>\n",
       "      <th>8</th>\n",
       "      <td>0.014253</td>\n",
       "      <td>0.000396</td>\n",
       "      <td>0.819048</td>\n",
       "      <td>0.914147</td>\n",
       "      <td>-133190.127917</td>\n",
       "      <td>-55703.298707</td>\n",
       "      <td>364.952227</td>\n",
       "      <td>236.015463</td>\n",
       "      <td>0.095098</td>\n",
       "    </tr>\n",
       "    <tr>\n",
       "      <th>9</th>\n",
       "      <td>0.017390</td>\n",
       "      <td>0.000453</td>\n",
       "      <td>0.566115</td>\n",
       "      <td>0.805331</td>\n",
       "      <td>-315470.237594</td>\n",
       "      <td>-127089.677548</td>\n",
       "      <td>561.667373</td>\n",
       "      <td>356.496392</td>\n",
       "      <td>0.239216</td>\n",
       "    </tr>\n",
       "  </tbody>\n",
       "</table>\n",
       "</div>"
      ],
      "text/plain": [
       "   fit_time  score_time   test_r2  train_r2  test_neg_mean_squared_error  \\\n",
       "0  0.013530    0.000686  0.584159  0.812745               -265362.513773   \n",
       "1  0.013130    0.000421 -0.981819  0.905867               -540905.922141   \n",
       "2  0.015400    0.000478  0.578837  0.871218               -296741.339939   \n",
       "3  0.013512    0.000453  0.672008  0.867914               -286758.254540   \n",
       "4  0.014052    0.000452 -0.164060  0.804395               -546118.814047   \n",
       "5  0.013715    0.000458  0.513485  0.892494               -343599.131504   \n",
       "6  0.013179    0.000380  0.135447  0.892351               -677181.882003   \n",
       "7  0.012468    0.000399  0.120226  0.883432               -319379.071242   \n",
       "8  0.014253    0.000396  0.819048  0.914147               -133190.127917   \n",
       "9  0.017390    0.000453  0.566115  0.805331               -315470.237594   \n",
       "\n",
       "   train_neg_mean_squared_error   test_rmse  train_rmse   r2_diff  \n",
       "0                -122996.384187  515.133491  350.708403  0.228586  \n",
       "1                 -64161.029555  735.463066  253.300275  1.887686  \n",
       "2                 -84356.714009  544.739699  290.442273  0.292381  \n",
       "3                 -83333.314699  535.498137  288.675102  0.195906  \n",
       "4                -132942.203669  738.998521  364.612402  0.968455  \n",
       "5                 -70308.683011  586.173295  265.157845  0.379009  \n",
       "6                 -69576.587768  822.910616  263.773744  0.756904  \n",
       "7                 -80541.473945  565.136330  283.798298  0.763206  \n",
       "8                 -55703.298707  364.952227  236.015463  0.095098  \n",
       "9                -127089.677548  561.667373  356.496392  0.239216  "
      ]
     },
     "execution_count": 48,
     "metadata": {},
     "output_type": "execute_result"
    }
   ],
   "source": [
    "poly_lr_df = cv_results_df(cv_results)\n",
    "poly_lr_df"
   ]
  },
  {
   "cell_type": "code",
   "execution_count": 49,
   "metadata": {
    "ExecuteTime": {
     "end_time": "2023-09-21T13:53:56.263356Z",
     "start_time": "2023-09-21T13:53:56.248358Z"
    },
    "hidden": true
   },
   "outputs": [
    {
     "data": {
      "text/html": [
       "<div>\n",
       "<style scoped>\n",
       "    .dataframe tbody tr th:only-of-type {\n",
       "        vertical-align: middle;\n",
       "    }\n",
       "\n",
       "    .dataframe tbody tr th {\n",
       "        vertical-align: top;\n",
       "    }\n",
       "\n",
       "    .dataframe thead th {\n",
       "        text-align: right;\n",
       "    }\n",
       "</style>\n",
       "<table border=\"1\" class=\"dataframe\">\n",
       "  <thead>\n",
       "    <tr style=\"text-align: right;\">\n",
       "      <th></th>\n",
       "      <th>mean</th>\n",
       "      <th>std</th>\n",
       "    </tr>\n",
       "  </thead>\n",
       "  <tbody>\n",
       "    <tr>\n",
       "      <th>test_r2</th>\n",
       "      <td>0.284345</td>\n",
       "      <td>0.537282</td>\n",
       "    </tr>\n",
       "    <tr>\n",
       "      <th>train_r2</th>\n",
       "      <td>0.864989</td>\n",
       "      <td>0.042085</td>\n",
       "    </tr>\n",
       "    <tr>\n",
       "      <th>test_rmse</th>\n",
       "      <td>597.067275</td>\n",
       "      <td>133.255802</td>\n",
       "    </tr>\n",
       "    <tr>\n",
       "      <th>train_rmse</th>\n",
       "      <td>295.298020</td>\n",
       "      <td>45.947025</td>\n",
       "    </tr>\n",
       "  </tbody>\n",
       "</table>\n",
       "</div>"
      ],
      "text/plain": [
       "                  mean         std\n",
       "test_r2       0.284345    0.537282\n",
       "train_r2      0.864989    0.042085\n",
       "test_rmse   597.067275  133.255802\n",
       "train_rmse  295.298020   45.947025"
      ]
     },
     "execution_count": 49,
     "metadata": {},
     "output_type": "execute_result"
    }
   ],
   "source": [
    "poly_lr_df[['test_r2','train_r2','test_rmse','train_rmse']].agg(['mean','std']).T"
   ]
  },
  {
   "cell_type": "markdown",
   "metadata": {
    "heading_collapsed": true,
    "hidden": true
   },
   "source": [
    "##### Peeking at the end (test data) 👀"
   ]
  },
  {
   "cell_type": "code",
   "execution_count": 50,
   "metadata": {
    "ExecuteTime": {
     "end_time": "2023-09-21T13:53:56.278357Z",
     "start_time": "2023-09-21T13:53:56.264358Z"
    },
    "hidden": true,
    "scrolled": true
   },
   "outputs": [
    {
     "name": "stdout",
     "output_type": "stream",
     "text": [
      "LinearRegression() has the following scores:\n",
      "    R^2 of -1.033921627564736\n",
      "    RMSE of 1109.5239627796848\n"
     ]
    }
   ],
   "source": [
    "test_peek(poly_lr, X_poly_test, y_test)"
   ]
  },
  {
   "cell_type": "markdown",
   "metadata": {
    "heading_collapsed": true,
    "hidden": true
   },
   "source": [
    "### Ridge (L2) Regression"
   ]
  },
  {
   "cell_type": "code",
   "execution_count": 51,
   "metadata": {
    "ExecuteTime": {
     "end_time": "2023-09-21T13:53:56.294357Z",
     "start_time": "2023-09-21T13:53:56.279358Z"
    },
    "hidden": true
   },
   "outputs": [],
   "source": [
    "ss = StandardScaler()\n",
    "pf = PolynomialFeatures(degree=3)\n",
    "\n",
    "# You should always be sure to _standardize_ your data before\n",
    "# applying regularization!\n",
    "\n",
    "X_train_processed = pf.fit_transform(ss.fit_transform(X_train_df))\n",
    "X_test_processed = pf.transform(ss.transform(X_test_df))"
   ]
  },
  {
   "cell_type": "code",
   "execution_count": 52,
   "metadata": {
    "ExecuteTime": {
     "end_time": "2023-09-21T13:53:56.325357Z",
     "start_time": "2023-09-21T13:53:56.295357Z"
    },
    "hidden": true
   },
   "outputs": [
    {
     "data": {
      "text/html": [
       "<style>#sk-container-id-2 {color: black;}#sk-container-id-2 pre{padding: 0;}#sk-container-id-2 div.sk-toggleable {background-color: white;}#sk-container-id-2 label.sk-toggleable__label {cursor: pointer;display: block;width: 100%;margin-bottom: 0;padding: 0.3em;box-sizing: border-box;text-align: center;}#sk-container-id-2 label.sk-toggleable__label-arrow:before {content: \"▸\";float: left;margin-right: 0.25em;color: #696969;}#sk-container-id-2 label.sk-toggleable__label-arrow:hover:before {color: black;}#sk-container-id-2 div.sk-estimator:hover label.sk-toggleable__label-arrow:before {color: black;}#sk-container-id-2 div.sk-toggleable__content {max-height: 0;max-width: 0;overflow: hidden;text-align: left;background-color: #f0f8ff;}#sk-container-id-2 div.sk-toggleable__content pre {margin: 0.2em;color: black;border-radius: 0.25em;background-color: #f0f8ff;}#sk-container-id-2 input.sk-toggleable__control:checked~div.sk-toggleable__content {max-height: 200px;max-width: 100%;overflow: auto;}#sk-container-id-2 input.sk-toggleable__control:checked~label.sk-toggleable__label-arrow:before {content: \"▾\";}#sk-container-id-2 div.sk-estimator input.sk-toggleable__control:checked~label.sk-toggleable__label {background-color: #d4ebff;}#sk-container-id-2 div.sk-label input.sk-toggleable__control:checked~label.sk-toggleable__label {background-color: #d4ebff;}#sk-container-id-2 input.sk-hidden--visually {border: 0;clip: rect(1px 1px 1px 1px);clip: rect(1px, 1px, 1px, 1px);height: 1px;margin: -1px;overflow: hidden;padding: 0;position: absolute;width: 1px;}#sk-container-id-2 div.sk-estimator {font-family: monospace;background-color: #f0f8ff;border: 1px dotted black;border-radius: 0.25em;box-sizing: border-box;margin-bottom: 0.5em;}#sk-container-id-2 div.sk-estimator:hover {background-color: #d4ebff;}#sk-container-id-2 div.sk-parallel-item::after {content: \"\";width: 100%;border-bottom: 1px solid gray;flex-grow: 1;}#sk-container-id-2 div.sk-label:hover label.sk-toggleable__label {background-color: #d4ebff;}#sk-container-id-2 div.sk-serial::before {content: \"\";position: absolute;border-left: 1px solid gray;box-sizing: border-box;top: 0;bottom: 0;left: 50%;z-index: 0;}#sk-container-id-2 div.sk-serial {display: flex;flex-direction: column;align-items: center;background-color: white;padding-right: 0.2em;padding-left: 0.2em;position: relative;}#sk-container-id-2 div.sk-item {position: relative;z-index: 1;}#sk-container-id-2 div.sk-parallel {display: flex;align-items: stretch;justify-content: center;background-color: white;position: relative;}#sk-container-id-2 div.sk-item::before, #sk-container-id-2 div.sk-parallel-item::before {content: \"\";position: absolute;border-left: 1px solid gray;box-sizing: border-box;top: 0;bottom: 0;left: 50%;z-index: -1;}#sk-container-id-2 div.sk-parallel-item {display: flex;flex-direction: column;z-index: 1;position: relative;background-color: white;}#sk-container-id-2 div.sk-parallel-item:first-child::after {align-self: flex-end;width: 50%;}#sk-container-id-2 div.sk-parallel-item:last-child::after {align-self: flex-start;width: 50%;}#sk-container-id-2 div.sk-parallel-item:only-child::after {width: 0;}#sk-container-id-2 div.sk-dashed-wrapped {border: 1px dashed gray;margin: 0 0.4em 0.5em 0.4em;box-sizing: border-box;padding-bottom: 0.4em;background-color: white;}#sk-container-id-2 div.sk-label label {font-family: monospace;font-weight: bold;display: inline-block;line-height: 1.2em;}#sk-container-id-2 div.sk-label-container {text-align: center;}#sk-container-id-2 div.sk-container {/* jupyter's `normalize.less` sets `[hidden] { display: none; }` but bootstrap.min.css set `[hidden] { display: none !important; }` so we also need the `!important` here to be able to override the default hidden behavior on the sphinx rendered scikit-learn.org. See: https://github.com/scikit-learn/scikit-learn/issues/21755 */display: inline-block !important;position: relative;}#sk-container-id-2 div.sk-text-repr-fallback {display: none;}</style><div id=\"sk-container-id-2\" class=\"sk-top-container\"><div class=\"sk-text-repr-fallback\"><pre>Ridge(alpha=100, random_state=42)</pre><b>In a Jupyter environment, please rerun this cell to show the HTML representation or trust the notebook. <br />On GitHub, the HTML representation is unable to render, please try loading this page with nbviewer.org.</b></div><div class=\"sk-container\" hidden><div class=\"sk-item\"><div class=\"sk-estimator sk-toggleable\"><input class=\"sk-toggleable__control sk-hidden--visually\" id=\"sk-estimator-id-2\" type=\"checkbox\" checked><label for=\"sk-estimator-id-2\" class=\"sk-toggleable__label sk-toggleable__label-arrow\">Ridge</label><div class=\"sk-toggleable__content\"><pre>Ridge(alpha=100, random_state=42)</pre></div></div></div></div></div>"
      ],
      "text/plain": [
       "Ridge(alpha=100, random_state=42)"
      ]
     },
     "execution_count": 52,
     "metadata": {},
     "output_type": "execute_result"
    }
   ],
   "source": [
    "# 'Lambda' is the standard variable for the strength of the\n",
    "# regularization (as in the above formulas), but since lambda\n",
    "# is a key word in Python, these sklearn regularization tools\n",
    "# use 'alpha' instead.\n",
    "\n",
    "rr = Ridge(alpha=100, random_state=42)\n",
    "\n",
    "rr.fit(X_train_processed, y_train)"
   ]
  },
  {
   "cell_type": "code",
   "execution_count": null,
   "metadata": {
    "ExecuteTime": {
     "end_time": "2023-09-21T13:53:56.341356Z",
     "start_time": "2023-09-21T13:53:56.326357Z"
    },
    "hidden": true
   },
   "outputs": [],
   "source": [
    "rr.score(X_train_processed, y_train)"
   ]
  },
  {
   "cell_type": "code",
   "execution_count": 53,
   "metadata": {
    "ExecuteTime": {
     "end_time": "2023-09-21T13:53:56.389356Z",
     "start_time": "2023-09-21T13:53:56.342359Z"
    },
    "hidden": true
   },
   "outputs": [],
   "source": [
    "cv_results = cross_validate(\n",
    "                X=X_train_processed, \n",
    "                y=y_train,\n",
    "                estimator=rr, \n",
    "                cv=10,\n",
    "                scoring=('r2', 'neg_mean_squared_error'),\n",
    "                return_train_score=True\n",
    ")"
   ]
  },
  {
   "cell_type": "code",
   "execution_count": 54,
   "metadata": {
    "ExecuteTime": {
     "end_time": "2023-09-21T13:53:56.404358Z",
     "start_time": "2023-09-21T13:53:56.390358Z"
    },
    "hidden": true
   },
   "outputs": [
    {
     "data": {
      "text/html": [
       "<div>\n",
       "<style scoped>\n",
       "    .dataframe tbody tr th:only-of-type {\n",
       "        vertical-align: middle;\n",
       "    }\n",
       "\n",
       "    .dataframe tbody tr th {\n",
       "        vertical-align: top;\n",
       "    }\n",
       "\n",
       "    .dataframe thead th {\n",
       "        text-align: right;\n",
       "    }\n",
       "</style>\n",
       "<table border=\"1\" class=\"dataframe\">\n",
       "  <thead>\n",
       "    <tr style=\"text-align: right;\">\n",
       "      <th></th>\n",
       "      <th>fit_time</th>\n",
       "      <th>score_time</th>\n",
       "      <th>test_r2</th>\n",
       "      <th>train_r2</th>\n",
       "      <th>test_neg_mean_squared_error</th>\n",
       "      <th>train_neg_mean_squared_error</th>\n",
       "      <th>test_rmse</th>\n",
       "      <th>train_rmse</th>\n",
       "      <th>r2_diff</th>\n",
       "    </tr>\n",
       "  </thead>\n",
       "  <tbody>\n",
       "    <tr>\n",
       "      <th>0</th>\n",
       "      <td>0.015844</td>\n",
       "      <td>0.000796</td>\n",
       "      <td>0.833172</td>\n",
       "      <td>0.887689</td>\n",
       "      <td>-106458.348994</td>\n",
       "      <td>-73769.918665</td>\n",
       "      <td>326.279557</td>\n",
       "      <td>271.606183</td>\n",
       "      <td>0.054517</td>\n",
       "    </tr>\n",
       "    <tr>\n",
       "      <th>1</th>\n",
       "      <td>0.003541</td>\n",
       "      <td>0.000582</td>\n",
       "      <td>0.752697</td>\n",
       "      <td>0.886945</td>\n",
       "      <td>-67497.426176</td>\n",
       "      <td>-77058.224413</td>\n",
       "      <td>259.802668</td>\n",
       "      <td>277.593632</td>\n",
       "      <td>0.134248</td>\n",
       "    </tr>\n",
       "    <tr>\n",
       "      <th>2</th>\n",
       "      <td>0.003431</td>\n",
       "      <td>0.000717</td>\n",
       "      <td>0.867497</td>\n",
       "      <td>0.887010</td>\n",
       "      <td>-93358.595178</td>\n",
       "      <td>-74012.608440</td>\n",
       "      <td>305.546388</td>\n",
       "      <td>272.052584</td>\n",
       "      <td>0.019513</td>\n",
       "    </tr>\n",
       "    <tr>\n",
       "      <th>3</th>\n",
       "      <td>0.002543</td>\n",
       "      <td>0.000500</td>\n",
       "      <td>0.868849</td>\n",
       "      <td>0.882072</td>\n",
       "      <td>-114662.832958</td>\n",
       "      <td>-74400.760062</td>\n",
       "      <td>338.619009</td>\n",
       "      <td>272.765027</td>\n",
       "      <td>0.013223</td>\n",
       "    </tr>\n",
       "    <tr>\n",
       "      <th>4</th>\n",
       "      <td>0.002238</td>\n",
       "      <td>0.000392</td>\n",
       "      <td>0.815315</td>\n",
       "      <td>0.888875</td>\n",
       "      <td>-86645.012740</td>\n",
       "      <td>-75525.943640</td>\n",
       "      <td>294.355249</td>\n",
       "      <td>274.819839</td>\n",
       "      <td>0.073560</td>\n",
       "    </tr>\n",
       "    <tr>\n",
       "      <th>5</th>\n",
       "      <td>0.001448</td>\n",
       "      <td>0.000391</td>\n",
       "      <td>0.886860</td>\n",
       "      <td>0.884345</td>\n",
       "      <td>-79904.436511</td>\n",
       "      <td>-75638.403975</td>\n",
       "      <td>282.673728</td>\n",
       "      <td>275.024370</td>\n",
       "      <td>-0.002515</td>\n",
       "    </tr>\n",
       "    <tr>\n",
       "      <th>6</th>\n",
       "      <td>0.001470</td>\n",
       "      <td>0.000392</td>\n",
       "      <td>0.854184</td>\n",
       "      <td>0.886007</td>\n",
       "      <td>-114213.601758</td>\n",
       "      <td>-73676.864253</td>\n",
       "      <td>337.955029</td>\n",
       "      <td>271.434825</td>\n",
       "      <td>0.031822</td>\n",
       "    </tr>\n",
       "    <tr>\n",
       "      <th>7</th>\n",
       "      <td>0.001398</td>\n",
       "      <td>0.000340</td>\n",
       "      <td>0.795933</td>\n",
       "      <td>0.888489</td>\n",
       "      <td>-74081.104454</td>\n",
       "      <td>-77047.681265</td>\n",
       "      <td>272.178442</td>\n",
       "      <td>277.574641</td>\n",
       "      <td>0.092556</td>\n",
       "    </tr>\n",
       "    <tr>\n",
       "      <th>8</th>\n",
       "      <td>0.001361</td>\n",
       "      <td>0.000347</td>\n",
       "      <td>0.861083</td>\n",
       "      <td>0.884216</td>\n",
       "      <td>-102250.670729</td>\n",
       "      <td>-75122.940019</td>\n",
       "      <td>319.766588</td>\n",
       "      <td>274.085644</td>\n",
       "      <td>0.023134</td>\n",
       "    </tr>\n",
       "    <tr>\n",
       "      <th>9</th>\n",
       "      <td>0.001784</td>\n",
       "      <td>0.000350</td>\n",
       "      <td>0.863655</td>\n",
       "      <td>0.885394</td>\n",
       "      <td>-99134.365771</td>\n",
       "      <td>-74820.288153</td>\n",
       "      <td>314.856103</td>\n",
       "      <td>273.532975</td>\n",
       "      <td>0.021740</td>\n",
       "    </tr>\n",
       "  </tbody>\n",
       "</table>\n",
       "</div>"
      ],
      "text/plain": [
       "   fit_time  score_time   test_r2  train_r2  test_neg_mean_squared_error  \\\n",
       "0  0.015844    0.000796  0.833172  0.887689               -106458.348994   \n",
       "1  0.003541    0.000582  0.752697  0.886945                -67497.426176   \n",
       "2  0.003431    0.000717  0.867497  0.887010                -93358.595178   \n",
       "3  0.002543    0.000500  0.868849  0.882072               -114662.832958   \n",
       "4  0.002238    0.000392  0.815315  0.888875                -86645.012740   \n",
       "5  0.001448    0.000391  0.886860  0.884345                -79904.436511   \n",
       "6  0.001470    0.000392  0.854184  0.886007               -114213.601758   \n",
       "7  0.001398    0.000340  0.795933  0.888489                -74081.104454   \n",
       "8  0.001361    0.000347  0.861083  0.884216               -102250.670729   \n",
       "9  0.001784    0.000350  0.863655  0.885394                -99134.365771   \n",
       "\n",
       "   train_neg_mean_squared_error   test_rmse  train_rmse   r2_diff  \n",
       "0                 -73769.918665  326.279557  271.606183  0.054517  \n",
       "1                 -77058.224413  259.802668  277.593632  0.134248  \n",
       "2                 -74012.608440  305.546388  272.052584  0.019513  \n",
       "3                 -74400.760062  338.619009  272.765027  0.013223  \n",
       "4                 -75525.943640  294.355249  274.819839  0.073560  \n",
       "5                 -75638.403975  282.673728  275.024370 -0.002515  \n",
       "6                 -73676.864253  337.955029  271.434825  0.031822  \n",
       "7                 -77047.681265  272.178442  277.574641  0.092556  \n",
       "8                 -75122.940019  319.766588  274.085644  0.023134  \n",
       "9                 -74820.288153  314.856103  273.532975  0.021740  "
      ]
     },
     "execution_count": 54,
     "metadata": {},
     "output_type": "execute_result"
    }
   ],
   "source": [
    "rr_df = cv_results_df(cv_results)\n",
    "rr_df"
   ]
  },
  {
   "cell_type": "code",
   "execution_count": 55,
   "metadata": {
    "ExecuteTime": {
     "end_time": "2023-09-21T13:53:56.420357Z",
     "start_time": "2023-09-21T13:53:56.405361Z"
    },
    "hidden": true
   },
   "outputs": [
    {
     "data": {
      "text/html": [
       "<div>\n",
       "<style scoped>\n",
       "    .dataframe tbody tr th:only-of-type {\n",
       "        vertical-align: middle;\n",
       "    }\n",
       "\n",
       "    .dataframe tbody tr th {\n",
       "        vertical-align: top;\n",
       "    }\n",
       "\n",
       "    .dataframe thead th {\n",
       "        text-align: right;\n",
       "    }\n",
       "</style>\n",
       "<table border=\"1\" class=\"dataframe\">\n",
       "  <thead>\n",
       "    <tr style=\"text-align: right;\">\n",
       "      <th></th>\n",
       "      <th>mean</th>\n",
       "      <th>std</th>\n",
       "      <th>var</th>\n",
       "    </tr>\n",
       "  </thead>\n",
       "  <tbody>\n",
       "    <tr>\n",
       "      <th>test_r2</th>\n",
       "      <td>0.839925</td>\n",
       "      <td>0.041108</td>\n",
       "      <td>0.001690</td>\n",
       "    </tr>\n",
       "    <tr>\n",
       "      <th>train_r2</th>\n",
       "      <td>0.886104</td>\n",
       "      <td>0.002130</td>\n",
       "      <td>0.000005</td>\n",
       "    </tr>\n",
       "    <tr>\n",
       "      <th>test_rmse</th>\n",
       "      <td>305.203276</td>\n",
       "      <td>27.317064</td>\n",
       "      <td>746.222007</td>\n",
       "    </tr>\n",
       "    <tr>\n",
       "      <th>train_rmse</th>\n",
       "      <td>274.048972</td>\n",
       "      <td>2.242103</td>\n",
       "      <td>5.027028</td>\n",
       "    </tr>\n",
       "  </tbody>\n",
       "</table>\n",
       "</div>"
      ],
      "text/plain": [
       "                  mean        std         var\n",
       "test_r2       0.839925   0.041108    0.001690\n",
       "train_r2      0.886104   0.002130    0.000005\n",
       "test_rmse   305.203276  27.317064  746.222007\n",
       "train_rmse  274.048972   2.242103    5.027028"
      ]
     },
     "execution_count": 55,
     "metadata": {},
     "output_type": "execute_result"
    }
   ],
   "source": [
    "rr_df[['test_r2','train_r2','test_rmse','train_rmse']].agg(['mean','std', 'var']).T"
   ]
  },
  {
   "cell_type": "markdown",
   "metadata": {
    "heading_collapsed": true,
    "hidden": true
   },
   "source": [
    "##### Peeking at the end (test data) 👀"
   ]
  },
  {
   "cell_type": "code",
   "execution_count": 56,
   "metadata": {
    "ExecuteTime": {
     "end_time": "2023-09-21T13:53:56.436358Z",
     "start_time": "2023-09-21T13:53:56.421359Z"
    },
    "hidden": true
   },
   "outputs": [
    {
     "name": "stdout",
     "output_type": "stream",
     "text": [
      "Ridge(alpha=100, random_state=42) has the following scores:\n",
      "    R^2 of 0.883587136658223\n",
      "    RMSE of 265.44225908366565\n"
     ]
    }
   ],
   "source": [
    "test_peek(rr, X_test_processed, y_test)"
   ]
  },
  {
   "cell_type": "markdown",
   "metadata": {
    "hidden": true
   },
   "source": [
    "Much better! But how do we know which value of `alpha` to pick?"
   ]
  },
  {
   "cell_type": "markdown",
   "metadata": {
    "heading_collapsed": true,
    "hidden": true
   },
   "source": [
    "### Optimizing the Regularization Hyperparameter"
   ]
  },
  {
   "cell_type": "markdown",
   "metadata": {
    "hidden": true
   },
   "source": [
    "The regularization strength could sensibly be any nonnegative number, so there's no way to check \"all possible\" values. It's often useful to try several values that are different orders of magnitude."
   ]
  },
  {
   "cell_type": "code",
   "execution_count": 57,
   "metadata": {
    "ExecuteTime": {
     "end_time": "2023-09-21T13:53:56.467358Z",
     "start_time": "2023-09-21T13:53:56.437359Z"
    },
    "hidden": true
   },
   "outputs": [],
   "source": [
    "alphas = [1e-3, 1e-2, 1e-1, 1, 10, 100, 1000, 10_000]\n",
    "train_scores = []\n",
    "test_scores = []\n",
    "\n",
    "for alpha in alphas:\n",
    "    rr = Ridge(alpha=alpha, random_state=42)\n",
    "    rr.fit(X_train_processed, y_train)\n",
    "    train_score = rr.score(X_train_processed, y_train)\n",
    "    test_score = rr.score(X_test_processed, y_test)\n",
    "    \n",
    "    train_scores.append(train_score)\n",
    "    test_scores.append(test_score)"
   ]
  },
  {
   "cell_type": "code",
   "execution_count": 58,
   "metadata": {
    "ExecuteTime": {
     "end_time": "2023-09-21T13:53:57.039554Z",
     "start_time": "2023-09-21T13:53:56.468358Z"
    },
    "hidden": true
   },
   "outputs": [
    {
     "data": {
      "image/png": "[encoded data removed]",
      "text/plain": [
       "<Figure size 640x480 with 1 Axes>"
      ]
     },
     "metadata": {},
     "output_type": "display_data"
    }
   ],
   "source": [
    "plt.style.use('fivethirtyeight')\n",
    "fig, ax = plt.subplots()\n",
    "plt.xscale('log')\n",
    "plt.title('Ridge $R^2$ as a function of regularization strength')\n",
    "ax.set_xlabel('Regularization strength $\\lambda$')\n",
    "ax.set_ylabel('$R^2$')\n",
    "ax.plot(alphas, train_scores, label='train')\n",
    "ax.plot(alphas, test_scores, label='test')\n",
    "plt.legend();"
   ]
  },
  {
   "cell_type": "markdown",
   "metadata": {
    "heading_collapsed": true,
    "hidden": true
   },
   "source": [
    "#### Observation"
   ]
  },
  {
   "cell_type": "markdown",
   "metadata": {
    "hidden": true
   },
   "source": [
    "Notice how the values increase but then decrease? Regularization helps with overfitting, but if the strength of the regularization becomes too great, then large coefficients will be punished more than they really should. What happens then is that the original error between truth and model predictions becomes neglected as a quantity to be minimized, and the bias of the model begins to outweigh its variance."
   ]
  },
  {
   "cell_type": "markdown",
   "metadata": {
    "hidden": true
   },
   "source": [
    "It looks like the best value is somewhere around 100. If we wanted more precision, we could repeat the same sort of exercise with a set of alphas nearer to 100."
   ]
  },
  {
   "cell_type": "markdown",
   "metadata": {
    "heading_collapsed": true,
    "hidden": true
   },
   "source": [
    "#### Cross-Validation"
   ]
  },
  {
   "cell_type": "code",
   "execution_count": 59,
   "metadata": {
    "ExecuteTime": {
     "end_time": "2023-09-21T13:53:57.198524Z",
     "start_time": "2023-09-21T13:53:57.040521Z"
    },
    "hidden": true
   },
   "outputs": [
    {
     "data": {
      "text/plain": [
       "[92166.6667308626, 92162.40840746515, 92134.73845197301, 92677.06645627212]"
      ]
     },
     "execution_count": 59,
     "metadata": {},
     "output_type": "execute_result"
    }
   ],
   "source": [
    "alphas = [1e-3, 1e-2, 1e-1, 1]\n",
    "cv_scores = []\n",
    "\n",
    "for alpha in alphas:\n",
    "    rr = Ridge(alpha=alpha, random_state=42)\n",
    "    cv_results = cross_validate(\n",
    "                X=X_train_df, \n",
    "                y=y_train,\n",
    "                estimator=rr, \n",
    "                cv=10,\n",
    "                scoring=('neg_mean_squared_error'))\n",
    "    cv_scores.append(-np.median(cv_results['test_score']))\n",
    "\n",
    "cv_scores"
   ]
  },
  {
   "cell_type": "code",
   "execution_count": 60,
   "metadata": {
    "ExecuteTime": {
     "end_time": "2023-09-21T13:53:57.625556Z",
     "start_time": "2023-09-21T13:53:57.199524Z"
    },
    "hidden": true
   },
   "outputs": [
    {
     "data": {
      "image/png": "[encoded data removed]",
      "text/plain": [
       "<Figure size 640x480 with 1 Axes>"
      ]
     },
     "metadata": {},
     "output_type": "display_data"
    }
   ],
   "source": [
    "fig, ax = plt.subplots()\n",
    "plt.xscale('log')\n",
    "plt.title('Ridge MSE as a function of regularization strength')\n",
    "ax.set_xlabel('Regularization strength $\\lambda$')\n",
    "ax.set_ylabel('MSE')\n",
    "ax.plot(alphas, cv_scores, label='cross-validated')\n",
    "plt.legend();"
   ]
  },
  {
   "cell_type": "markdown",
   "metadata": {
    "heading_collapsed": true,
    "hidden": true
   },
   "source": [
    "### LEVEL UP - Elastic Net!"
   ]
  },
  {
   "cell_type": "markdown",
   "metadata": {
    "hidden": true
   },
   "source": [
    "Naturally, the Elastic Net has the same interface through sklearn as the other regularization tools! The only difference is that we now have to specify how much of each regularization term we want. The name of the parameter for this (represented by $\\rho$ above) in sklearn is `l1_ratio`."
   ]
  },
  {
   "cell_type": "code",
   "execution_count": null,
   "metadata": {
    "ExecuteTime": {
     "end_time": "2023-09-21T13:53:57.641523Z",
     "start_time": "2023-09-21T13:53:57.626521Z"
    },
    "hidden": true
   },
   "outputs": [],
   "source": [
    "enet = ElasticNet(alpha=10, l1_ratio=0.1, random_state=42)\n",
    "\n",
    "enet.fit(X_train_processed, y_train)"
   ]
  },
  {
   "cell_type": "code",
   "execution_count": null,
   "metadata": {
    "ExecuteTime": {
     "end_time": "2023-09-21T13:53:57.657522Z",
     "start_time": "2023-09-21T13:53:57.642524Z"
    },
    "hidden": true
   },
   "outputs": [],
   "source": [
    "enet.score(X_train_processed, y_train)"
   ]
  },
  {
   "cell_type": "code",
   "execution_count": null,
   "metadata": {
    "ExecuteTime": {
     "end_time": "2023-09-21T13:53:57.673522Z",
     "start_time": "2023-09-21T13:53:57.659523Z"
    },
    "hidden": true
   },
   "outputs": [],
   "source": [
    "enet.score(X_test_processed, y_test)"
   ]
  },
  {
   "cell_type": "markdown",
   "metadata": {
    "hidden": true
   },
   "source": [
    "Setting the `l1_ratio` to 1 is equivalent to the lasso:"
   ]
  },
  {
   "cell_type": "code",
   "execution_count": null,
   "metadata": {
    "ExecuteTime": {
     "end_time": "2023-09-21T13:53:57.689523Z",
     "start_time": "2023-09-21T13:53:57.675523Z"
    },
    "hidden": true
   },
   "outputs": [],
   "source": [
    "ratios = np.linspace(0.01, 1, 100)"
   ]
  },
  {
   "cell_type": "code",
   "execution_count": null,
   "metadata": {
    "ExecuteTime": {
     "end_time": "2023-09-21T13:53:57.830520Z",
     "start_time": "2023-09-21T13:53:57.690524Z"
    },
    "hidden": true
   },
   "outputs": [],
   "source": [
    "preds = []\n",
    "for ratio in ratios:\n",
    "    enet = ElasticNet(alpha=100, l1_ratio=ratio, random_state=42)\n",
    "    enet.fit(X_train_processed, y_train)\n",
    "    preds.append(enet.predict(X_test_processed[0].reshape(1, -1)))"
   ]
  },
  {
   "cell_type": "code",
   "execution_count": null,
   "metadata": {
    "ExecuteTime": {
     "end_time": "2023-09-21T13:53:57.989523Z",
     "start_time": "2023-09-21T13:53:57.831520Z"
    },
    "hidden": true
   },
   "outputs": [],
   "source": [
    "fig, ax = plt.subplots()\n",
    "\n",
    "lasso = Lasso(alpha=100, random_state=42)\n",
    "lasso.fit(X_train_processed, y_train)\n",
    "lasso_pred = lasso.predict(X_test_processed[0].reshape(1, -1))\n",
    "\n",
    "ax.plot(ratios, preds, label='elastic net')\n",
    "ax.scatter(1, lasso_pred, c='k', s=70, label='lasso')\n",
    "plt.legend();"
   ]
  },
  {
   "cell_type": "markdown",
   "metadata": {
    "heading_collapsed": true,
    "hidden": true
   },
   "source": [
    "#### Note on `ElasticNet()`"
   ]
  },
  {
   "cell_type": "markdown",
   "metadata": {
    "hidden": true
   },
   "source": [
    "Is an Elastic Net with `l1_ratio` set to 0 equivalent to the ridge? In theory yes. But in practice no. It looks like the `ElasticNet()` predictions on the first test data point as `l1_ratio` shrinks are tending toward some value around 3400. Let's check to see what prediction `Ridge()` gives us:"
   ]
  },
  {
   "cell_type": "code",
   "execution_count": null,
   "metadata": {
    "ExecuteTime": {
     "end_time": "2023-09-21T13:53:58.005521Z",
     "start_time": "2023-09-21T13:53:57.990521Z"
    },
    "hidden": true
   },
   "outputs": [],
   "source": [
    "ridge = Ridge(alpha=10, random_state=42)\n",
    "ridge.fit(X_train_processed, y_train)\n",
    "ridge.predict(X_test_processed[0].reshape(1, -1))[0]"
   ]
  },
  {
   "cell_type": "markdown",
   "metadata": {
    "hidden": true
   },
   "source": [
    "If you check the docstring for the `ElasticNet()` class you will see:\n",
    "- that the function being minimized is slightly different from what we saw above; and\n",
    "- that the results are unreliable when `l1_ratio` $\\leq 0.01$."
   ]
  },
  {
   "cell_type": "markdown",
   "metadata": {
    "hidden": true
   },
   "source": [
    "**Exercise**: Visualize the difference in this case between `ElasticNet(l1_ratio=0.01)` and `Ridge()` by making a scatterplot of each model's predicted values for the first ten points in `X_test_processed`. Use `alpha=10` for each model.\n",
    "\n",
    "        Level Up: Make a second scatterplot that compares the predictions on the same data\n",
    "        points between ElasticNet(l1_ratio=1) and Lasso()."
   ]
  },
  {
   "cell_type": "markdown",
   "metadata": {
    "hidden": true
   },
   "source": [
    "<details>\n",
    "    <summary> Answer\n",
    "    </summary>\n",
    "    <code>fig, ax = plt.subplots()\n",
    "enet_r = ElasticNet(alpha=10, l1_ratio=0.01, random_state=42)\n",
    "enet_r.fit(X_train_processed, y_train)\n",
    "preds_enr = enet_r.predict(X_test_processed[:10])\n",
    "preds_ridge = ridge.predict(X_test_processed[:10])\n",
    "ax.scatter(np.arange(10), preds_enr)\n",
    "ax.scatter(np.arange(10), preds_ridge);</code>  \n",
    "        </details>"
   ]
  },
  {
   "cell_type": "code",
   "execution_count": null,
   "metadata": {
    "ExecuteTime": {
     "end_time": "2023-09-21T13:53:58.131520Z",
     "start_time": "2023-09-21T13:53:58.006522Z"
    },
    "hidden": true
   },
   "outputs": [],
   "source": [
    "fig, ax = plt.subplots()\n",
    "enet_r = ElasticNet(alpha=10, l1_ratio=0.01, random_state=42)\n",
    "enet_r.fit(X_train_processed, y_train)\n",
    "preds_enr = enet_r.predict(X_test_processed[:10])\n",
    "preds_ridge = ridge.predict(X_test_processed[:10])\n",
    "ax.scatter(np.arange(10), preds_enr)\n",
    "ax.scatter(np.arange(10), preds_ridge);"
   ]
  },
  {
   "cell_type": "markdown",
   "metadata": {
    "hidden": true
   },
   "source": [
    "<details>\n",
    "    <summary>\n",
    "        Level Up\n",
    "    </summary>\n",
    "<code>fig, ax = plt.subplots()\n",
    "enet_l = ElasticNet(alpha=10, l1_ratio=1, random_state=42)\n",
    "enet_l.fit(X_train_processed, y_train)\n",
    "preds_enl = enet_l.predict(X_test_processed[:10])\n",
    "preds_lasso = lasso.predict(X_test_processed[:10])\n",
    "ax.scatter(np.arange(10), preds_enl)\n",
    "ax.scatter(np.arange(10), preds_lasso);</code>\n",
    "    </details"
   ]
  },
  {
   "cell_type": "markdown",
   "metadata": {
    "heading_collapsed": true,
    "hidden": true
   },
   "source": [
    "#### Fitting Regularized Models with Cross-Validation"
   ]
  },
  {
   "cell_type": "markdown",
   "metadata": {
    "hidden": true
   },
   "source": [
    "Our friend `sklearn` also includes tools that fit regularized regressions *with cross-validation*: `LassoCV`, `RidgeCV`, and `ElasticNetCV`."
   ]
  },
  {
   "cell_type": "markdown",
   "metadata": {
    "hidden": true
   },
   "source": [
    "**Exercise**: Use `RidgeCV` to fit a seven-fold cross-validated ridge regression model to our `X_train_processed` data and then calculate $R^2$ and the RMSE (root-mean-squared error) on our test set."
   ]
  },
  {
   "cell_type": "markdown",
   "metadata": {
    "hidden": true
   },
   "source": [
    "<details>\n",
    "    <summary>\n",
    "        Answer\n",
    "    </summary>\n",
    "    <code>rcv = RidgeCV(cv=7)\n",
    "rcv.fit(X_train_processed, y_train)\n",
    "rcv.score(X_test_processed, y_test)\n",
    "np.sqrt(mean_squared_error(y_test, rcv.predict(X_test_processed)))</code>\n",
    "    </details>"
   ]
  }
 ],
 "metadata": {
  "hide_input": false,
  "kernelspec": {
   "display_name": "Python 3 (ipykernel)",
   "language": "python",
   "name": "python3"
  },
  "language_info": {
   "codemirror_mode": {
    "name": "ipython",
    "version": 3
   },
   "file_extension": ".py",
   "mimetype": "text/x-python",
   "name": "python",
   "nbconvert_exporter": "python",
   "pygments_lexer": "ipython3",
   "version": "3.9.16"
  },
  "latex_envs": {
   "LaTeX_envs_menu_present": true,
   "autoclose": false,
   "autocomplete": true,
   "bibliofile": "biblio.bib",
   "cite_by": "apalike",
   "current_citInitial": 1,
   "eqLabelWithNumbers": true,
   "eqNumInitial": 1,
   "hotkeys": {
    "equation": "Ctrl-E",
    "itemize": "Ctrl-I"
   },
   "labels_anchors": false,
   "latex_user_defs": false,
   "report_style_numbering": false,
   "user_envs_cfg": false
  },
  "nbTranslate": {
   "displayLangs": [
    "*"
   ],
   "hotkey": "alt-t",
   "langInMainMenu": true,
   "sourceLang": "en",
   "targetLang": "fr",
   "useGoogleTranslate": true
  },
  "toc": {
   "base_numbering": 1,
   "nav_menu": {},
   "number_sections": true,
   "sideBar": true,
   "skip_h1_title": false,
   "title_cell": "Table of Contents",
   "title_sidebar": "TOC",
   "toc_cell": true,
   "toc_position": {
    "height": "47px",
    "left": "46px",
    "top": "175px",
    "width": "286px"
   },
   "toc_section_display": true,
   "toc_window_display": false
  },
  "varInspector": {
   "cols": {
    "lenName": 16,
    "lenType": 16,
    "lenVar": 40
   },
   "kernels_config": {
    "python": {
     "delete_cmd_postfix": "",
     "delete_cmd_prefix": "del ",
     "library": "var_list.py",
     "varRefreshCmd": "print(var_dic_list())"
    },
    "r": {
     "delete_cmd_postfix": ") ",
     "delete_cmd_prefix": "rm(",
     "library": "var_list.r",
     "varRefreshCmd": "cat(var_dic_list()) "
    }
   },
   "position": {
    "height": "144.854px",
    "left": "1039px",
    "right": "20px",
    "top": "120px",
    "width": "350px"
   },
   "types_to_exclude": [
    "module",
    "function",
    "builtin_function_or_method",
    "instance",
    "_Feature"
   ],
   "window_display": false
  }
 },
 "nbformat": 4,
 "nbformat_minor": 4
}
